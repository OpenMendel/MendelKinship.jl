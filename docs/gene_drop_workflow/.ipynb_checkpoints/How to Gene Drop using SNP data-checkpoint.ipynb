{
 "cells": [
  {
   "cell_type": "markdown",
   "metadata": {},
   "source": [
    "# Step 1: Keep pedigree structure and randomly generate genotypes.\n",
    "\n",
    "MendelGeneDropping.jl can handle SNP dropping only if the SNPs are explicitly listed in the pedigree file, so first we simulate genotypes, then append it to the pedigree file\n",
    "\n",
    "**Note:** using too many snps will freeze MendelGeneDropping, so in this case we only use the first 1000 snps"
   ]
  },
  {
   "cell_type": "markdown",
   "metadata": {},
   "source": [
    "#### See what files are in current directory:"
   ]
  },
  {
   "cell_type": "code",
   "execution_count": 11,
   "metadata": {
    "collapsed": false
   },
   "outputs": [
    {
     "name": "stdout",
     "output_type": "stream",
     "text": [
      "How to Gene Drop using SNP data.ipynb\n",
      "Ped10c.in\n",
      "SNP_data10c.bin\n",
      "SNP_def10c_converted.txt\n",
      "kinship using gene dropping.ipynb\n"
     ]
    }
   ],
   "source": [
    ";ls"
   ]
  },
  {
   "cell_type": "markdown",
   "metadata": {},
   "source": [
    "#### Explanations:\n",
    "+ The 2 `.ipynb` files are jupyter notebooks that explains what we are doing\n",
    "+ `Ped10c.in` is the original pedigree, with header row added\n",
    "+ `SNP_def10c_converted.txt` is the original SNP_def10c.in, with header row added\n",
    "+ `SNP_data10c.bin` is the file that houses the genotype matrix we wish to change,"
   ]
  },
  {
   "cell_type": "code",
   "execution_count": 19,
   "metadata": {
    "collapsed": false,
    "scrolled": true
   },
   "outputs": [
    {
     "data": {
      "text/plain": [
       "create_randomize_genotype_in_pedfile (generic function with 2 methods)"
      ]
     },
     "execution_count": 19,
     "metadata": {},
     "output_type": "execute_result"
    }
   ],
   "source": [
    "#function to simulate genotypes of a certain size\n",
    "using DataFrames, CSV, SnpArrays, Distributions\n",
    "\n",
    "function create_randomize_genotype_in_pedfile(\n",
    "    n::Int64, p::Int64, maf::Float64)\n",
    "    \n",
    "    x = Bernoulli(maf) # bernoulli RV with success probability = maf\n",
    "    first_ma  = rand(x, n, p)\n",
    "    second_ma = rand(x, n, p)\n",
    "\n",
    "    new_snp_matrix = Matrix{String}(n, p) #matrix of simulated genotypes\n",
    "    for i in 1:p, j in 1:n\n",
    "        if first_ma[j, i] == 1 & second_ma[j, i] == 1\n",
    "            new_snp_matrix[j, i] = \"2/2\"\n",
    "        elseif xor(first_ma[j, i] == 1, second_ma[j, i] == 1) #exclusive or\n",
    "            new_snp_matrix[j, i] = \"1/2\"\n",
    "        else\n",
    "            new_snp_matrix[j, i] = \"1/1\"\n",
    "        end\n",
    "    end\t\n",
    "\n",
    "    #Change the output file to DataFrame for easy manipulation and give each column a name\n",
    "    original_snp_name = CSV.read(\"SNP_def10c_converted.txt\")[:Locus][1:p]\n",
    "    named_snp = convert(DataFrame, new_snp_matrix)\n",
    "    # rename!(named_snp.colindex, [(Symbol(\"x$i\")=>Symbol(\"snp_$i\")) for i in 1:size(named_snp, 2)])\n",
    "    names!(named_snp.colindex, convert(Array{Symbol}, original_snp_name))\n",
    "\n",
    "    #the original pedigree structure\n",
    "    old_ped_file = readtable(\"Ped10c.in\", header = true)[:, 1:5]\n",
    "\n",
    "    return [old_ped_file named_snp]\n",
    "end"
   ]
  },
  {
   "cell_type": "markdown",
   "metadata": {},
   "source": [
    "### Create pedigree file with all snps appended"
   ]
  },
  {
   "cell_type": "code",
   "execution_count": 12,
   "metadata": {
    "collapsed": false
   },
   "outputs": [],
   "source": [
    "#snparrays need .bed file to run, so create symbolic link,\n",
    "#which is the same as creating SNP_data10c.bed \n",
    "symlink(\"./SNP_data10c.bin\", \"./SNP_data10c.bed\") "
   ]
  },
  {
   "cell_type": "code",
   "execution_count": 15,
   "metadata": {
    "collapsed": false
   },
   "outputs": [
    {
     "name": "stdout",
     "output_type": "stream",
     "text": [
      "How to Gene Drop using SNP data.ipynb\n",
      "Ped10c.in\n",
      "SNP_data10c.bed\n",
      "SNP_data10c.bin\n",
      "SNP_def10c_converted.txt\n",
      "kinship using gene dropping.ipynb\n"
     ]
    }
   ],
   "source": [
    ";ls"
   ]
  },
  {
   "cell_type": "code",
   "execution_count": 20,
   "metadata": {
    "collapsed": false
   },
   "outputs": [
    {
     "name": "stderr",
     "output_type": "stream",
     "text": [
      "\u001b[1m\u001b[36mINFO: \u001b[39m\u001b[22m\u001b[36mv1.0 BED file detected\n",
      "\u001b[39m\u001b[1m\u001b[33mWARNING: \u001b[39m\u001b[22m\u001b[33mreadtable is deprecated, use CSV.read from the CSV package instead\u001b[39m\n",
      "Stacktrace:\n",
      " [1] \u001b[1mdepwarn\u001b[22m\u001b[22m\u001b[1m(\u001b[22m\u001b[22m::String, ::Symbol\u001b[1m)\u001b[22m\u001b[22m at \u001b[1m./deprecated.jl:70\u001b[22m\u001b[22m\n",
      " [2] \u001b[1m#readtable#229\u001b[22m\u001b[22m\u001b[1m(\u001b[22m\u001b[22m::Bool, ::Char, ::Array{Char,1}, ::Char, ::Array{String,1}, ::Array{String,1}, ::Array{String,1}, ::Bool, ::Int64, ::Array{Symbol,1}, ::Array{Any,1}, ::Bool, ::Char, ::Bool, ::Int64, ::Array{Int64,1}, ::Bool, ::Symbol, ::Bool, ::Bool, ::DataFrames.#readtable, ::String\u001b[1m)\u001b[22m\u001b[22m at \u001b[1m/Users/biona001/.julia/v0.6/DataFrames/src/deprecated.jl:1045\u001b[22m\u001b[22m\n",
      " [3] \u001b[1m(::DataFrames.#kw##readtable)\u001b[22m\u001b[22m\u001b[1m(\u001b[22m\u001b[22m::Array{Any,1}, ::DataFrames.#readtable, ::String\u001b[1m)\u001b[22m\u001b[22m at \u001b[1m./<missing>:0\u001b[22m\u001b[22m\n",
      " [4] \u001b[1mcreate_randomize_genotype_in_pedfile\u001b[22m\u001b[22m\u001b[1m(\u001b[22m\u001b[22m::Int64, ::Int64, ::Float64\u001b[1m)\u001b[22m\u001b[22m at \u001b[1m./In[19]:30\u001b[22m\u001b[22m\n",
      " [5] \u001b[1minclude_string\u001b[22m\u001b[22m\u001b[1m(\u001b[22m\u001b[22m::String, ::String\u001b[1m)\u001b[22m\u001b[22m at \u001b[1m./loading.jl:515\u001b[22m\u001b[22m\n",
      " [6] \u001b[1mexecute_request\u001b[22m\u001b[22m\u001b[1m(\u001b[22m\u001b[22m::ZMQ.Socket, ::IJulia.Msg\u001b[1m)\u001b[22m\u001b[22m at \u001b[1m/Users/biona001/.julia/v0.6/IJulia/src/execute_request.jl:158\u001b[22m\u001b[22m\n",
      " [7] \u001b[1m(::Compat.#inner#18{Array{Any,1},IJulia.#execute_request,Tuple{ZMQ.Socket,IJulia.Msg}})\u001b[22m\u001b[22m\u001b[1m(\u001b[22m\u001b[22m\u001b[1m)\u001b[22m\u001b[22m at \u001b[1m/Users/biona001/.julia/v0.6/Compat/src/Compat.jl:378\u001b[22m\u001b[22m\n",
      " [8] \u001b[1meventloop\u001b[22m\u001b[22m\u001b[1m(\u001b[22m\u001b[22m::ZMQ.Socket\u001b[1m)\u001b[22m\u001b[22m at \u001b[1m/Users/biona001/.julia/v0.6/IJulia/src/eventloop.jl:8\u001b[22m\u001b[22m\n",
      " [9] \u001b[1m(::IJulia.##14#17)\u001b[22m\u001b[22m\u001b[1m(\u001b[22m\u001b[22m\u001b[1m)\u001b[22m\u001b[22m at \u001b[1m./task.jl:335\u001b[22m\u001b[22m\n",
      "while loading In[20], in expression starting on line 8\n",
      "\u001b[1m\u001b[33mWARNING: \u001b[39m\u001b[22m\u001b[33mDuplicate variable names are deprecated: pass makeunique=true to add a suffix automatically.\u001b[39m\n",
      "Stacktrace:\n",
      " [1] \u001b[1mdepwarn\u001b[22m\u001b[22m\u001b[1m(\u001b[22m\u001b[22m::String, ::Symbol\u001b[1m)\u001b[22m\u001b[22m at \u001b[1m./deprecated.jl:70\u001b[22m\u001b[22m\n",
      " [2] \u001b[1m#make_unique#3\u001b[22m\u001b[22m\u001b[1m(\u001b[22m\u001b[22m::Bool, ::Function, ::Array{Symbol,1}\u001b[1m)\u001b[22m\u001b[22m at \u001b[1m/Users/biona001/.julia/v0.6/DataFrames/src/other/utils.jl:61\u001b[22m\u001b[22m\n",
      " [3] \u001b[1m(::DataFrames.#kw##make_unique)\u001b[22m\u001b[22m\u001b[1m(\u001b[22m\u001b[22m::Array{Any,1}, ::DataFrames.#make_unique, ::Array{Symbol,1}\u001b[1m)\u001b[22m\u001b[22m at \u001b[1m./<missing>:0\u001b[22m\u001b[22m\n",
      " [4] \u001b[1m#Index#6\u001b[22m\u001b[22m at \u001b[1m/Users/biona001/.julia/v0.6/DataFrames/src/other/index.jl:12\u001b[22m\u001b[22m [inlined]\n",
      " [5] \u001b[1m(::Core.#kw#Type)\u001b[22m\u001b[22m\u001b[1m(\u001b[22m\u001b[22m::Array{Any,1}, ::Type{DataFrames.Index}, ::Array{Symbol,1}\u001b[1m)\u001b[22m\u001b[22m at \u001b[1m./<missing>:0\u001b[22m\u001b[22m\n",
      " [6] \u001b[1m#DataFrame#57\u001b[22m\u001b[22m\u001b[1m(\u001b[22m\u001b[22m::Bool, ::Type{T} where T, ::Array{Any,1}, ::Array{Symbol,1}\u001b[1m)\u001b[22m\u001b[22m at \u001b[1m/Users/biona001/.julia/v0.6/DataFrames/src/dataframe/dataframe.jl:156\u001b[22m\u001b[22m\n",
      " [7] \u001b[1mbuilddf\u001b[22m\u001b[22m\u001b[1m(\u001b[22m\u001b[22m::Int64, ::Int64, ::Int64, ::Int64, ::DataFrames.ParsedCSV, ::DataFrames.ParseOptions{String,String}\u001b[1m)\u001b[22m\u001b[22m at \u001b[1m/Users/biona001/.julia/v0.6/DataFrames/src/deprecated.jl:767\u001b[22m\u001b[22m\n",
      " [8] \u001b[1mreadtable!\u001b[22m\u001b[22m\u001b[1m(\u001b[22m\u001b[22m::DataFrames.ParsedCSV, ::IOStream, ::Int64, ::DataFrames.ParseOptions{String,String}\u001b[1m)\u001b[22m\u001b[22m at \u001b[1m/Users/biona001/.julia/v0.6/DataFrames/src/deprecated.jl:907\u001b[22m\u001b[22m\n",
      " [9] \u001b[1m#readtable#228\u001b[22m\u001b[22m\u001b[1m(\u001b[22m\u001b[22m::Bool, ::Char, ::Array{Char,1}, ::Char, ::Array{String,1}, ::Array{String,1}, ::Array{String,1}, ::Bool, ::Int64, ::Array{Symbol,1}, ::Array{Any,1}, ::Bool, ::Char, ::Bool, ::Int64, ::Array{Int64,1}, ::Bool, ::Symbol, ::Bool, ::Bool, ::DataFrames.#readtable, ::IOStream, ::Int64\u001b[1m)\u001b[22m\u001b[22m at \u001b[1m/Users/biona001/.julia/v0.6/DataFrames/src/deprecated.jl:966\u001b[22m\u001b[22m\n",
      " [10] \u001b[1m(::DataFrames.#kw##readtable)\u001b[22m\u001b[22m\u001b[1m(\u001b[22m\u001b[22m::Array{Any,1}, ::DataFrames.#readtable, ::IOStream, ::Int64\u001b[1m)\u001b[22m\u001b[22m at \u001b[1m./<missing>:0\u001b[22m\u001b[22m\n",
      " [11] \u001b[1mopen\u001b[22m\u001b[22m\u001b[1m(\u001b[22m\u001b[22m::DataFrames.#_r#230{Bool,Char,Array{Char,1},Char,Array{String,1},Array{String,1},Array{String,1},Bool,Int64,Array{Symbol,1},Array{Any,1},Bool,Char,Bool,Int64,Array{Int64,1},Bool,Symbol,Bool,Bool}, ::String, ::String\u001b[1m)\u001b[22m\u001b[22m at \u001b[1m./iostream.jl:152\u001b[22m\u001b[22m\n",
      " [12] \u001b[1m#readtable#229\u001b[22m\u001b[22m\u001b[1m(\u001b[22m\u001b[22m::Bool, ::Char, ::Array{Char,1}, ::Char, ::Array{String,1}, ::Array{String,1}, ::Array{String,1}, ::Bool, ::Int64, ::Array{Symbol,1}, ::Array{Any,1}, ::Bool, ::Char, ::Bool, ::Int64, ::Array{Int64,1}, ::Bool, ::Symbol, ::Bool, ::Bool, ::DataFrames.#readtable, ::String\u001b[1m)\u001b[22m\u001b[22m at \u001b[1m/Users/biona001/.julia/v0.6/DataFrames/src/deprecated.jl:1085\u001b[22m\u001b[22m\n",
      " [13] \u001b[1m(::DataFrames.#kw##readtable)\u001b[22m\u001b[22m\u001b[1m(\u001b[22m\u001b[22m::Array{Any,1}, ::DataFrames.#readtable, ::String\u001b[1m)\u001b[22m\u001b[22m at \u001b[1m./<missing>:0\u001b[22m\u001b[22m\n",
      " [14] \u001b[1mcreate_randomize_genotype_in_pedfile\u001b[22m\u001b[22m\u001b[1m(\u001b[22m\u001b[22m::Int64, ::Int64, ::Float64\u001b[1m)\u001b[22m\u001b[22m at \u001b[1m./In[19]:30\u001b[22m\u001b[22m\n",
      " [15] \u001b[1minclude_string\u001b[22m\u001b[22m\u001b[1m(\u001b[22m\u001b[22m::String, ::String\u001b[1m)\u001b[22m\u001b[22m at \u001b[1m./loading.jl:515\u001b[22m\u001b[22m\n",
      " [16] \u001b[1mexecute_request\u001b[22m\u001b[22m\u001b[1m(\u001b[22m\u001b[22m::ZMQ.Socket, ::IJulia.Msg\u001b[1m)\u001b[22m\u001b[22m at \u001b[1m/Users/biona001/.julia/v0.6/IJulia/src/execute_request.jl:158\u001b[22m\u001b[22m\n",
      " [17] \u001b[1m(::Compat.#inner#18{Array{Any,1},IJulia.#execute_request,Tuple{ZMQ.Socket,IJulia.Msg}})\u001b[22m\u001b[22m\u001b[1m(\u001b[22m\u001b[22m\u001b[1m)\u001b[22m\u001b[22m at \u001b[1m/Users/biona001/.julia/v0.6/Compat/src/Compat.jl:378\u001b[22m\u001b[22m\n",
      " [18] \u001b[1meventloop\u001b[22m\u001b[22m\u001b[1m(\u001b[22m\u001b[22m::ZMQ.Socket\u001b[1m)\u001b[22m\u001b[22m at \u001b[1m/Users/biona001/.julia/v0.6/IJulia/src/eventloop.jl:8\u001b[22m\u001b[22m\n",
      " [19] \u001b[1m(::IJulia.##14#17)\u001b[22m\u001b[22m\u001b[1m(\u001b[22m\u001b[22m\u001b[1m)\u001b[22m\u001b[22m at \u001b[1m./task.jl:335\u001b[22m\u001b[22m\n",
      "while loading In[20], in expression starting on line 8\n",
      "\u001b[1m\u001b[33mWARNING: \u001b[39m\u001b[22m\u001b[33mwritetable is deprecated, use CSV.write from the CSV package instead\u001b[39m\n",
      "Stacktrace:\n",
      " [1] \u001b[1mdepwarn\u001b[22m\u001b[22m\u001b[1m(\u001b[22m\u001b[22m::String, ::Symbol\u001b[1m)\u001b[22m\u001b[22m at \u001b[1m./deprecated.jl:70\u001b[22m\u001b[22m\n",
      " [2] \u001b[1m#writetable#223\u001b[22m\u001b[22m\u001b[1m(\u001b[22m\u001b[22m::Bool, ::Char, ::Char, ::String, ::Bool, ::Function, ::String, ::DataFrames.DataFrame\u001b[1m)\u001b[22m\u001b[22m at \u001b[1m/Users/biona001/.julia/v0.6/DataFrames/src/deprecated.jl:69\u001b[22m\u001b[22m\n",
      " [3] \u001b[1m(::DataFrames.#kw##writetable)\u001b[22m\u001b[22m\u001b[1m(\u001b[22m\u001b[22m::Array{Any,1}, ::DataFrames.#writetable, ::String, ::DataFrames.DataFrame\u001b[1m)\u001b[22m\u001b[22m at \u001b[1m./<missing>:0\u001b[22m\u001b[22m\n",
      " [4] \u001b[1minclude_string\u001b[22m\u001b[22m\u001b[1m(\u001b[22m\u001b[22m::String, ::String\u001b[1m)\u001b[22m\u001b[22m at \u001b[1m./loading.jl:515\u001b[22m\u001b[22m\n",
      " [5] \u001b[1mexecute_request\u001b[22m\u001b[22m\u001b[1m(\u001b[22m\u001b[22m::ZMQ.Socket, ::IJulia.Msg\u001b[1m)\u001b[22m\u001b[22m at \u001b[1m/Users/biona001/.julia/v0.6/IJulia/src/execute_request.jl:158\u001b[22m\u001b[22m\n",
      " [6] \u001b[1m(::Compat.#inner#18{Array{Any,1},IJulia.#execute_request,Tuple{ZMQ.Socket,IJulia.Msg}})\u001b[22m\u001b[22m\u001b[1m(\u001b[22m\u001b[22m\u001b[1m)\u001b[22m\u001b[22m at \u001b[1m/Users/biona001/.julia/v0.6/Compat/src/Compat.jl:378\u001b[22m\u001b[22m\n",
      " [7] \u001b[1meventloop\u001b[22m\u001b[22m\u001b[1m(\u001b[22m\u001b[22m::ZMQ.Socket\u001b[1m)\u001b[22m\u001b[22m at \u001b[1m/Users/biona001/.julia/v0.6/IJulia/src/eventloop.jl:8\u001b[22m\u001b[22m\n",
      " [8] \u001b[1m(::IJulia.##14#17)\u001b[22m\u001b[22m\u001b[1m(\u001b[22m\u001b[22m\u001b[1m)\u001b[22m\u001b[22m at \u001b[1m./task.jl:335\u001b[22m\u001b[22m\n",
      "while loading In[20], in expression starting on line 9\n"
     ]
    }
   ],
   "source": [
    "using SnpArrays\n",
    "\n",
    "snpmatrix = SnpArray(\"SNP_data10c\"; people=212, snps=253141)\n",
    "maf = 0.13 #mean of maf in SNP_data10c\n",
    "\n",
    "n = size(snpmatrix, 1)\n",
    "p = 1000 #only need 1000 snps, so discard the rest. \n",
    "new_ped = create_randomize_genotype_in_pedfile(n, p, maf)\n",
    "writetable(\"ped10c_with_snp_named_short.txt\", new_ped, separator = ',')"
   ]
  },
  {
   "cell_type": "markdown",
   "metadata": {},
   "source": [
    "### Create corresponding Locus file. \n",
    "\n",
    "**Note:** to ensure independence of snps, each snp is added to a different chromosome. This creates a beast with 1000 chromosomes, but that's ok. The column Frequencies with entries that sum of 1 is crucial. Without it `MendelGeneDropping.jl` will error."
   ]
  },
  {
   "cell_type": "code",
   "execution_count": 27,
   "metadata": {
    "collapsed": false
   },
   "outputs": [
    {
     "data": {
      "text/plain": [
       "create_locus_file (generic function with 2 methods)"
      ]
     },
     "execution_count": 27,
     "metadata": {},
     "output_type": "execute_result"
    }
   ],
   "source": [
    "function create_locus_file(p::Int64, snp_name::Vector{String})\n",
    "    \n",
    "    locus_file = DataFrame(Locus=String[], Allele=Int64[], \n",
    "        Chromosome=Int64[], Frequency=Float64[])\n",
    "    \n",
    "    for i in 1:p\n",
    "        push!(locus_file, [snp_name[i] 1 i 0.5])\n",
    "        push!(locus_file, [snp_name[i] 2 i 0.5])\n",
    "    end\n",
    "    \n",
    "    return locus_file\n",
    "end"
   ]
  },
  {
   "cell_type": "code",
   "execution_count": 30,
   "metadata": {
    "collapsed": false
   },
   "outputs": [
    {
     "name": "stderr",
     "output_type": "stream",
     "text": [
      "\u001b[1m\u001b[33mWARNING: \u001b[39m\u001b[22m\u001b[33mreadtable is deprecated, use CSV.read from the CSV package instead\u001b[39m\n",
      "Stacktrace:\n",
      " [1] \u001b[1mdepwarn\u001b[22m\u001b[22m\u001b[1m(\u001b[22m\u001b[22m::String, ::Symbol\u001b[1m)\u001b[22m\u001b[22m at \u001b[1m./deprecated.jl:70\u001b[22m\u001b[22m\n",
      " [2] \u001b[1m#readtable#229\u001b[22m\u001b[22m\u001b[1m(\u001b[22m\u001b[22m::Bool, ::Char, ::Array{Char,1}, ::Char, ::Array{String,1}, ::Array{String,1}, ::Array{String,1}, ::Bool, ::Int64, ::Array{Symbol,1}, ::Array{Any,1}, ::Bool, ::Char, ::Bool, ::Int64, ::Array{Int64,1}, ::Bool, ::Symbol, ::Bool, ::Bool, ::DataFrames.#readtable, ::String\u001b[1m)\u001b[22m\u001b[22m at \u001b[1m/Users/biona001/.julia/v0.6/DataFrames/src/deprecated.jl:1045\u001b[22m\u001b[22m\n",
      " [3] \u001b[1mreadtable\u001b[22m\u001b[22m\u001b[1m(\u001b[22m\u001b[22m::String\u001b[1m)\u001b[22m\u001b[22m at \u001b[1m/Users/biona001/.julia/v0.6/DataFrames/src/deprecated.jl:1045\u001b[22m\u001b[22m\n",
      " [4] \u001b[1minclude_string\u001b[22m\u001b[22m\u001b[1m(\u001b[22m\u001b[22m::String, ::String\u001b[1m)\u001b[22m\u001b[22m at \u001b[1m./loading.jl:515\u001b[22m\u001b[22m\n",
      " [5] \u001b[1mexecute_request\u001b[22m\u001b[22m\u001b[1m(\u001b[22m\u001b[22m::ZMQ.Socket, ::IJulia.Msg\u001b[1m)\u001b[22m\u001b[22m at \u001b[1m/Users/biona001/.julia/v0.6/IJulia/src/execute_request.jl:158\u001b[22m\u001b[22m\n",
      " [6] \u001b[1m(::Compat.#inner#18{Array{Any,1},IJulia.#execute_request,Tuple{ZMQ.Socket,IJulia.Msg}})\u001b[22m\u001b[22m\u001b[1m(\u001b[22m\u001b[22m\u001b[1m)\u001b[22m\u001b[22m at \u001b[1m/Users/biona001/.julia/v0.6/Compat/src/Compat.jl:378\u001b[22m\u001b[22m\n",
      " [7] \u001b[1meventloop\u001b[22m\u001b[22m\u001b[1m(\u001b[22m\u001b[22m::ZMQ.Socket\u001b[1m)\u001b[22m\u001b[22m at \u001b[1m/Users/biona001/.julia/v0.6/IJulia/src/eventloop.jl:8\u001b[22m\u001b[22m\n",
      " [8] \u001b[1m(::IJulia.##14#17)\u001b[22m\u001b[22m\u001b[1m(\u001b[22m\u001b[22m\u001b[1m)\u001b[22m\u001b[22m at \u001b[1m./task.jl:335\u001b[22m\u001b[22m\n",
      "while loading In[30], in expression starting on line 2\n",
      "\u001b[1m\u001b[33mWARNING: \u001b[39m\u001b[22m\u001b[33mwritetable is deprecated, use CSV.write from the CSV package instead\u001b[39m\n",
      "Stacktrace:\n",
      " [1] \u001b[1mdepwarn\u001b[22m\u001b[22m\u001b[1m(\u001b[22m\u001b[22m::String, ::Symbol\u001b[1m)\u001b[22m\u001b[22m at \u001b[1m./deprecated.jl:70\u001b[22m\u001b[22m\n",
      " [2] \u001b[1m#writetable#223\u001b[22m\u001b[22m\u001b[1m(\u001b[22m\u001b[22m::Bool, ::Char, ::Char, ::String, ::Bool, ::Function, ::String, ::DataFrames.DataFrame\u001b[1m)\u001b[22m\u001b[22m at \u001b[1m/Users/biona001/.julia/v0.6/DataFrames/src/deprecated.jl:69\u001b[22m\u001b[22m\n",
      " [3] \u001b[1m(::DataFrames.#kw##writetable)\u001b[22m\u001b[22m\u001b[1m(\u001b[22m\u001b[22m::Array{Any,1}, ::DataFrames.#writetable, ::String, ::DataFrames.DataFrame\u001b[1m)\u001b[22m\u001b[22m at \u001b[1m./<missing>:0\u001b[22m\u001b[22m\n",
      " [4] \u001b[1minclude_string\u001b[22m\u001b[22m\u001b[1m(\u001b[22m\u001b[22m::String, ::String\u001b[1m)\u001b[22m\u001b[22m at \u001b[1m./loading.jl:515\u001b[22m\u001b[22m\n",
      " [5] \u001b[1mexecute_request\u001b[22m\u001b[22m\u001b[1m(\u001b[22m\u001b[22m::ZMQ.Socket, ::IJulia.Msg\u001b[1m)\u001b[22m\u001b[22m at \u001b[1m/Users/biona001/.julia/v0.6/IJulia/src/execute_request.jl:158\u001b[22m\u001b[22m\n",
      " [6] \u001b[1m(::Compat.#inner#18{Array{Any,1},IJulia.#execute_request,Tuple{ZMQ.Socket,IJulia.Msg}})\u001b[22m\u001b[22m\u001b[1m(\u001b[22m\u001b[22m\u001b[1m)\u001b[22m\u001b[22m at \u001b[1m/Users/biona001/.julia/v0.6/Compat/src/Compat.jl:378\u001b[22m\u001b[22m\n",
      " [7] \u001b[1meventloop\u001b[22m\u001b[22m\u001b[1m(\u001b[22m\u001b[22m::ZMQ.Socket\u001b[1m)\u001b[22m\u001b[22m at \u001b[1m/Users/biona001/.julia/v0.6/IJulia/src/eventloop.jl:8\u001b[22m\u001b[22m\n",
      " [8] \u001b[1m(::IJulia.##14#17)\u001b[22m\u001b[22m\u001b[1m(\u001b[22m\u001b[22m\u001b[1m)\u001b[22m\u001b[22m at \u001b[1m./task.jl:335\u001b[22m\u001b[22m\n",
      "while loading In[30], in expression starting on line 6\n"
     ]
    }
   ],
   "source": [
    "p = 1000 #again use 1000 snps\n",
    "original_snp_name = readtable(\"SNP_def10c_converted.txt\")[:Locus][1:p]\n",
    "original_snp_name = convert(Vector{String}, original_snp_name)\n",
    "\n",
    "new_locus = create_locus_file(p, original_snp_name)\n",
    "writetable(\"locus10c_with_snp_named_short.txt\", new_locus, separator = ',')"
   ]
  },
  {
   "cell_type": "markdown",
   "metadata": {},
   "source": [
    "# Step 2: Gene Drop using the new pedigree and locus files\n",
    "\n",
    "### Create appropriate control file for MendelGeneDropping\n",
    "\n",
    "We use the `keep_founder_genotypes = true` keyword to tell Open Mendel to drop the founder's genotype into the descendants. The `new_pedigree_file` stores the new gene-dropped pedigree file. "
   ]
  },
  {
   "cell_type": "code",
   "execution_count": 35,
   "metadata": {
    "collapsed": false
   },
   "outputs": [
    {
     "name": "stdout",
     "output_type": "stream",
     "text": [
      "#\n",
      "# Input and Output files.\n",
      "#\n",
      "field_separator = ,\n",
      "locus_file = locus10c_with_snp_named_short.txt\n",
      "pedigree_file = ped10c_with_snp_named_short.txt\n",
      "output_file = 10c_genedropping_output.txt\n",
      "new_pedigree_file = 10c_genedropped_pedframe.txt\n",
      "#\n",
      "# Analysis parameters for Kinship option.\n",
      "#\n",
      "keep_founder_genotypes = true\n"
     ]
    }
   ],
   "source": [
    "f = open(\"control10c_genedrop.txt\")\n",
    "lines = readlines(f)\n",
    "\n",
    "for l in lines\n",
    "   println(l)\n",
    "end"
   ]
  },
  {
   "cell_type": "markdown",
   "metadata": {},
   "source": [
    "### Run MendelGeneDropping and check the resulting file is different than the original"
   ]
  },
  {
   "cell_type": "code",
   "execution_count": 36,
   "metadata": {
    "collapsed": false
   },
   "outputs": [
    {
     "name": "stdout",
     "output_type": "stream",
     "text": [
      " \n",
      " \n",
      "     Welcome to OpenMendel's\n",
      "  Gene Dropping analysis option\n",
      "        version 0.1.0\n",
      " \n",
      " \n",
      "Reading the data.\n",
      "\n",
      "The current working directory is \"/Users/biona001/.julia/v0.6/MendelKinship/test/gene_drop_workflow\".\n",
      "\n",
      "Keywords modified by the user:\n",
      "\n",
      "  control_file = control10c_genedrop.txt\n",
      "  field_separator = ,\n",
      "  keep_founder_genotypes = true\n",
      "  locus_file = locus10c_with_snp_named_short.txt\n",
      "  new_pedigree_file = 10c_genedropped_pedframe.txt\n",
      "  output_file = 10c_genedropping_output.txt\n",
      "  pedigree_file = ped10c_with_snp_named_short.txt\n",
      " \n"
     ]
    },
    {
     "name": "stderr",
     "output_type": "stream",
     "text": [
      "\u001b[1m\u001b[33mWARNING: \u001b[39m\u001b[22m\u001b[33mreadtable is deprecated, use CSV.read from the CSV package instead\u001b[39m\n",
      "Stacktrace:\n",
      " [1] \u001b[1mdepwarn\u001b[22m\u001b[22m\u001b[1m(\u001b[22m\u001b[22m::String, ::Symbol\u001b[1m)\u001b[22m\u001b[22m at \u001b[1m./deprecated.jl:70\u001b[22m\u001b[22m\n",
      " [2] \u001b[1m#readtable#229\u001b[22m\u001b[22m\u001b[1m(\u001b[22m\u001b[22m::Bool, ::Char, ::Array{Char,1}, ::Char, ::Array{String,1}, ::Array{String,1}, ::Array{String,1}, ::Bool, ::Int64, ::Array{Symbol,1}, ::Array{Any,1}, ::Bool, ::Char, ::Bool, ::Int64, ::Array{Int64,1}, ::Bool, ::Symbol, ::Bool, ::Bool, ::DataFrames.#readtable, ::SubString{String}\u001b[1m)\u001b[22m\u001b[22m at \u001b[1m/Users/biona001/.julia/v0.6/DataFrames/src/deprecated.jl:1045\u001b[22m\u001b[22m\n",
      " [3] \u001b[1m(::DataFrames.#kw##readtable)\u001b[22m\u001b[22m\u001b[1m(\u001b[22m\u001b[22m::Array{Any,1}, ::DataFrames.#readtable, ::SubString{String}\u001b[1m)\u001b[22m\u001b[22m at \u001b[1m./<missing>:0\u001b[22m\u001b[22m\n",
      " [4] \u001b[1mread_external_data_files\u001b[22m\u001b[22m\u001b[1m(\u001b[22m\u001b[22m::Dict{AbstractString,Any}\u001b[1m)\u001b[22m\u001b[22m at \u001b[1m/Users/biona001/.julia/v0.6/MendelBase/src/read_data.jl:36\u001b[22m\u001b[22m\n",
      " [5] \u001b[1m#GeneDropping#1\u001b[22m\u001b[22m\u001b[1m(\u001b[22m\u001b[22m::Array{Any,1}, ::Function, ::String\u001b[1m)\u001b[22m\u001b[22m at \u001b[1m/Users/biona001/.julia/v0.6/MendelGeneDropping/src/MendelGeneDropping.jl:69\u001b[22m\u001b[22m\n",
      " [6] \u001b[1mGeneDropping\u001b[22m\u001b[22m\u001b[1m(\u001b[22m\u001b[22m::String\u001b[1m)\u001b[22m\u001b[22m at \u001b[1m/Users/biona001/.julia/v0.6/MendelGeneDropping/src/MendelGeneDropping.jl:23\u001b[22m\u001b[22m\n",
      " [7] \u001b[1minclude_string\u001b[22m\u001b[22m\u001b[1m(\u001b[22m\u001b[22m::String, ::String\u001b[1m)\u001b[22m\u001b[22m at \u001b[1m./loading.jl:515\u001b[22m\u001b[22m\n",
      " [8] \u001b[1mexecute_request\u001b[22m\u001b[22m\u001b[1m(\u001b[22m\u001b[22m::ZMQ.Socket, ::IJulia.Msg\u001b[1m)\u001b[22m\u001b[22m at \u001b[1m/Users/biona001/.julia/v0.6/IJulia/src/execute_request.jl:158\u001b[22m\u001b[22m\n",
      " [9] \u001b[1m(::Compat.#inner#18{Array{Any,1},IJulia.#execute_request,Tuple{ZMQ.Socket,IJulia.Msg}})\u001b[22m\u001b[22m\u001b[1m(\u001b[22m\u001b[22m\u001b[1m)\u001b[22m\u001b[22m at \u001b[1m/Users/biona001/.julia/v0.6/Compat/src/Compat.jl:378\u001b[22m\u001b[22m\n",
      " [10] \u001b[1meventloop\u001b[22m\u001b[22m\u001b[1m(\u001b[22m\u001b[22m::ZMQ.Socket\u001b[1m)\u001b[22m\u001b[22m at \u001b[1m/Users/biona001/.julia/v0.6/IJulia/src/eventloop.jl:8\u001b[22m\u001b[22m\n",
      " [11] \u001b[1m(::IJulia.##14#17)\u001b[22m\u001b[22m\u001b[1m(\u001b[22m\u001b[22m\u001b[1m)\u001b[22m\u001b[22m at \u001b[1m./task.jl:335\u001b[22m\u001b[22m\n",
      "while loading In[36], in expression starting on line 2\n",
      "\u001b[1m\u001b[33mWARNING: \u001b[39m\u001b[22m\u001b[33mreadtable is deprecated, use CSV.read from the CSV package instead\u001b[39m\n",
      "Stacktrace:\n",
      " [1] \u001b[1mdepwarn\u001b[22m\u001b[22m\u001b[1m(\u001b[22m\u001b[22m::String, ::Symbol\u001b[1m)\u001b[22m\u001b[22m at \u001b[1m./deprecated.jl:70\u001b[22m\u001b[22m\n",
      " [2] \u001b[1m#readtable#229\u001b[22m\u001b[22m\u001b[1m(\u001b[22m\u001b[22m::Bool, ::Char, ::Array{Char,1}, ::Char, ::Array{String,1}, ::Array{String,1}, ::Array{String,1}, ::Bool, ::Int64, ::Array{Symbol,1}, ::Array{Any,1}, ::Bool, ::Char, ::Bool, ::Int64, ::Array{Int64,1}, ::Bool, ::Symbol, ::Bool, ::Bool, ::DataFrames.#readtable, ::SubString{String}\u001b[1m)\u001b[22m\u001b[22m at \u001b[1m/Users/biona001/.julia/v0.6/DataFrames/src/deprecated.jl:1045\u001b[22m\u001b[22m\n",
      " [3] \u001b[1m(::DataFrames.#kw##readtable)\u001b[22m\u001b[22m\u001b[1m(\u001b[22m\u001b[22m::Array{Any,1}, ::DataFrames.#readtable, ::SubString{String}\u001b[1m)\u001b[22m\u001b[22m at \u001b[1m./<missing>:0\u001b[22m\u001b[22m\n",
      " [4] \u001b[1mread_external_data_files\u001b[22m\u001b[22m\u001b[1m(\u001b[22m\u001b[22m::Dict{AbstractString,Any}\u001b[1m)\u001b[22m\u001b[22m at \u001b[1m/Users/biona001/.julia/v0.6/MendelBase/src/read_data.jl:70\u001b[22m\u001b[22m\n",
      " [5] \u001b[1m#GeneDropping#1\u001b[22m\u001b[22m\u001b[1m(\u001b[22m\u001b[22m::Array{Any,1}, ::Function, ::String\u001b[1m)\u001b[22m\u001b[22m at \u001b[1m/Users/biona001/.julia/v0.6/MendelGeneDropping/src/MendelGeneDropping.jl:69\u001b[22m\u001b[22m\n",
      " [6] \u001b[1mGeneDropping\u001b[22m\u001b[22m\u001b[1m(\u001b[22m\u001b[22m::String\u001b[1m)\u001b[22m\u001b[22m at \u001b[1m/Users/biona001/.julia/v0.6/MendelGeneDropping/src/MendelGeneDropping.jl:23\u001b[22m\u001b[22m\n",
      " [7] \u001b[1minclude_string\u001b[22m\u001b[22m\u001b[1m(\u001b[22m\u001b[22m::String, ::String\u001b[1m)\u001b[22m\u001b[22m at \u001b[1m./loading.jl:515\u001b[22m\u001b[22m\n",
      " [8] \u001b[1mexecute_request\u001b[22m\u001b[22m\u001b[1m(\u001b[22m\u001b[22m::ZMQ.Socket, ::IJulia.Msg\u001b[1m)\u001b[22m\u001b[22m at \u001b[1m/Users/biona001/.julia/v0.6/IJulia/src/execute_request.jl:158\u001b[22m\u001b[22m\n",
      " [9] \u001b[1m(::Compat.#inner#18{Array{Any,1},IJulia.#execute_request,Tuple{ZMQ.Socket,IJulia.Msg}})\u001b[22m\u001b[22m\u001b[1m(\u001b[22m\u001b[22m\u001b[1m)\u001b[22m\u001b[22m at \u001b[1m/Users/biona001/.julia/v0.6/Compat/src/Compat.jl:378\u001b[22m\u001b[22m\n",
      " [10] \u001b[1meventloop\u001b[22m\u001b[22m\u001b[1m(\u001b[22m\u001b[22m::ZMQ.Socket\u001b[1m)\u001b[22m\u001b[22m at \u001b[1m/Users/biona001/.julia/v0.6/IJulia/src/eventloop.jl:8\u001b[22m\u001b[22m\n",
      " [11] \u001b[1m(::IJulia.##14#17)\u001b[22m\u001b[22m\u001b[1m(\u001b[22m\u001b[22m\u001b[1m)\u001b[22m\u001b[22m at \u001b[1m./task.jl:335\u001b[22m\u001b[22m\n",
      "while loading In[36], in expression starting on line 2\n",
      "\u001b[1m\u001b[33mWARNING: \u001b[39m\u001b[22m\u001b[33msort!(df, cols=cols) is deprecated, use sort!(df, cols) instead\u001b[39m\n",
      "Stacktrace:\n",
      " [1] \u001b[1mdepwarn\u001b[22m\u001b[22m\u001b[1m(\u001b[22m\u001b[22m::String, ::Symbol\u001b[1m)\u001b[22m\u001b[22m at \u001b[1m./deprecated.jl:70\u001b[22m\u001b[22m\n",
      " [2] \u001b[1m#sort!#220\u001b[22m\u001b[22m\u001b[1m(\u001b[22m\u001b[22m::Array{Symbol,1}, ::Void, ::Function, ::Function, ::Bool, ::Base.Order.ForwardOrdering, ::Function, ::DataFrames.DataFrame, ::Array{Any,1}\u001b[1m)\u001b[22m\u001b[22m at \u001b[1m/Users/biona001/.julia/v0.6/DataFrames/src/dataframe/sort.jl:74\u001b[22m\u001b[22m\n",
      " [3] \u001b[1m(::Base.#kw##sort!)\u001b[22m\u001b[22m\u001b[1m(\u001b[22m\u001b[22m::Array{Any,1}, ::Base.#sort!, ::DataFrames.DataFrame, ::Array{Any,1}\u001b[1m)\u001b[22m\u001b[22m at \u001b[1m./<missing>:0\u001b[22m\u001b[22m (repeats 2 times)\n",
      " [4] \u001b[1mperson_information\u001b[22m\u001b[22m\u001b[1m(\u001b[22m\u001b[22m::DataFrames.DataFrame, ::DataFrames.DataFrame, ::DataFrames.DataFrame, ::MendelBase.Locus, ::MendelBase.Pedigree, ::Dict{AbstractString,Any}\u001b[1m)\u001b[22m\u001b[22m at \u001b[1m/Users/biona001/.julia/v0.6/MendelBase/src/read_data.jl:874\u001b[22m\u001b[22m\n",
      " [5] \u001b[1mread_external_data_files\u001b[22m\u001b[22m\u001b[1m(\u001b[22m\u001b[22m::Dict{AbstractString,Any}\u001b[1m)\u001b[22m\u001b[22m at \u001b[1m/Users/biona001/.julia/v0.6/MendelBase/src/read_data.jl:93\u001b[22m\u001b[22m\n",
      " [6] \u001b[1m#GeneDropping#1\u001b[22m\u001b[22m\u001b[1m(\u001b[22m\u001b[22m::Array{Any,1}, ::Function, ::String\u001b[1m)\u001b[22m\u001b[22m at \u001b[1m/Users/biona001/.julia/v0.6/MendelGeneDropping/src/MendelGeneDropping.jl:69\u001b[22m\u001b[22m\n",
      " [7] \u001b[1mGeneDropping\u001b[22m\u001b[22m\u001b[1m(\u001b[22m\u001b[22m::String\u001b[1m)\u001b[22m\u001b[22m at \u001b[1m/Users/biona001/.julia/v0.6/MendelGeneDropping/src/MendelGeneDropping.jl:23\u001b[22m\u001b[22m\n",
      " [8] \u001b[1minclude_string\u001b[22m\u001b[22m\u001b[1m(\u001b[22m\u001b[22m::String, ::String\u001b[1m)\u001b[22m\u001b[22m at \u001b[1m./loading.jl:515\u001b[22m\u001b[22m\n",
      " [9] \u001b[1mexecute_request\u001b[22m\u001b[22m\u001b[1m(\u001b[22m\u001b[22m::ZMQ.Socket, ::IJulia.Msg\u001b[1m)\u001b[22m\u001b[22m at \u001b[1m/Users/biona001/.julia/v0.6/IJulia/src/execute_request.jl:158\u001b[22m\u001b[22m\n",
      " [10] \u001b[1m(::Compat.#inner#18{Array{Any,1},IJulia.#execute_request,Tuple{ZMQ.Socket,IJulia.Msg}})\u001b[22m\u001b[22m\u001b[1m(\u001b[22m\u001b[22m\u001b[1m)\u001b[22m\u001b[22m at \u001b[1m/Users/biona001/.julia/v0.6/Compat/src/Compat.jl:378\u001b[22m\u001b[22m\n",
      " [11] \u001b[1meventloop\u001b[22m\u001b[22m\u001b[1m(\u001b[22m\u001b[22m::ZMQ.Socket\u001b[1m)\u001b[22m\u001b[22m at \u001b[1m/Users/biona001/.julia/v0.6/IJulia/src/eventloop.jl:8\u001b[22m\u001b[22m\n",
      " [12] \u001b[1m(::IJulia.##14#17)\u001b[22m\u001b[22m\u001b[1m(\u001b[22m\u001b[22m\u001b[1m)\u001b[22m\u001b[22m at \u001b[1m./task.jl:335\u001b[22m\u001b[22m\n",
      "while loading In[36], in expression starting on line 2\n"
     ]
    },
    {
     "name": "stdout",
     "output_type": "stream",
     "text": [
      " \n",
      "Analyzing the data.\n",
      "\n"
     ]
    },
    {
     "name": "stderr",
     "output_type": "stream",
     "text": [
      "\u001b[1m\u001b[33mWARNING: \u001b[39m\u001b[22m\u001b[33msort!(df, cols=cols) is deprecated, use sort!(df, cols) instead\u001b[39m\n",
      "Stacktrace:\n",
      " [1] \u001b[1mdepwarn\u001b[22m\u001b[22m\u001b[1m(\u001b[22m\u001b[22m::String, ::Symbol\u001b[1m)\u001b[22m\u001b[22m at \u001b[1m./deprecated.jl:70\u001b[22m\u001b[22m\n",
      " [2] \u001b[1m#sort!#220\u001b[22m\u001b[22m\u001b[1m(\u001b[22m\u001b[22m::Array{Symbol,1}, ::Void, ::Function, ::Function, ::Bool, ::Base.Order.ForwardOrdering, ::Function, ::DataFrames.DataFrame, ::Array{Any,1}\u001b[1m)\u001b[22m\u001b[22m at \u001b[1m/Users/biona001/.julia/v0.6/DataFrames/src/dataframe/sort.jl:74\u001b[22m\u001b[22m\n",
      " [3] \u001b[1m(::Base.#kw##sort!)\u001b[22m\u001b[22m\u001b[1m(\u001b[22m\u001b[22m::Array{Any,1}, ::Base.#sort!, ::DataFrames.DataFrame, ::Array{Any,1}\u001b[1m)\u001b[22m\u001b[22m at \u001b[1m./<missing>:0\u001b[22m\u001b[22m (repeats 2 times)\n",
      " [4] \u001b[1mgenedropping_option\u001b[22m\u001b[22m\u001b[1m(\u001b[22m\u001b[22m::MendelBase.Pedigree, ::MendelBase.Person, ::MendelBase.Locus, ::DataFrames.DataFrame, ::DataFrames.DataFrame, ::DataFrames.DataFrame, ::Dict{AbstractString,Any}\u001b[1m)\u001b[22m\u001b[22m at \u001b[1m/Users/biona001/.julia/v0.6/MendelGeneDropping/src/MendelGeneDropping.jl:173\u001b[22m\u001b[22m\n",
      " [5] \u001b[1m#GeneDropping#1\u001b[22m\u001b[22m\u001b[1m(\u001b[22m\u001b[22m::Array{Any,1}, ::Function, ::String\u001b[1m)\u001b[22m\u001b[22m at \u001b[1m/Users/biona001/.julia/v0.6/MendelGeneDropping/src/MendelGeneDropping.jl:77\u001b[22m\u001b[22m\n",
      " [6] \u001b[1mGeneDropping\u001b[22m\u001b[22m\u001b[1m(\u001b[22m\u001b[22m::String\u001b[1m)\u001b[22m\u001b[22m at \u001b[1m/Users/biona001/.julia/v0.6/MendelGeneDropping/src/MendelGeneDropping.jl:23\u001b[22m\u001b[22m\n",
      " [7] \u001b[1minclude_string\u001b[22m\u001b[22m\u001b[1m(\u001b[22m\u001b[22m::String, ::String\u001b[1m)\u001b[22m\u001b[22m at \u001b[1m./loading.jl:515\u001b[22m\u001b[22m\n",
      " [8] \u001b[1mexecute_request\u001b[22m\u001b[22m\u001b[1m(\u001b[22m\u001b[22m::ZMQ.Socket, ::IJulia.Msg\u001b[1m)\u001b[22m\u001b[22m at \u001b[1m/Users/biona001/.julia/v0.6/IJulia/src/execute_request.jl:158\u001b[22m\u001b[22m\n",
      " [9] \u001b[1m(::Compat.#inner#18{Array{Any,1},IJulia.#execute_request,Tuple{ZMQ.Socket,IJulia.Msg}})\u001b[22m\u001b[22m\u001b[1m(\u001b[22m\u001b[22m\u001b[1m)\u001b[22m\u001b[22m at \u001b[1m/Users/biona001/.julia/v0.6/Compat/src/Compat.jl:378\u001b[22m\u001b[22m\n",
      " [10] \u001b[1meventloop\u001b[22m\u001b[22m\u001b[1m(\u001b[22m\u001b[22m::ZMQ.Socket\u001b[1m)\u001b[22m\u001b[22m at \u001b[1m/Users/biona001/.julia/v0.6/IJulia/src/eventloop.jl:8\u001b[22m\u001b[22m\n",
      " [11] \u001b[1m(::IJulia.##14#17)\u001b[22m\u001b[22m\u001b[1m(\u001b[22m\u001b[22m\u001b[1m)\u001b[22m\u001b[22m at \u001b[1m./task.jl:335\u001b[22m\u001b[22m\n",
      "while loading In[36], in expression starting on line 2\n",
      "\u001b[1m\u001b[33mWARNING: \u001b[39m\u001b[22m\u001b[33msort!(df, cols=cols) is deprecated, use sort!(df, cols) instead\u001b[39m\n",
      "Stacktrace:\n",
      " [1] \u001b[1mdepwarn\u001b[22m\u001b[22m\u001b[1m(\u001b[22m\u001b[22m::String, ::Symbol\u001b[1m)\u001b[22m\u001b[22m at \u001b[1m./deprecated.jl:70\u001b[22m\u001b[22m\n",
      " [2] \u001b[1m#sort!#220\u001b[22m\u001b[22m\u001b[1m(\u001b[22m\u001b[22m::Array{Symbol,1}, ::Void, ::Function, ::Function, ::Bool, ::Base.Order.ForwardOrdering, ::Function, ::DataFrames.DataFrame, ::Array{Any,1}\u001b[1m)\u001b[22m\u001b[22m at \u001b[1m/Users/biona001/.julia/v0.6/DataFrames/src/dataframe/sort.jl:74\u001b[22m\u001b[22m\n",
      " [3] \u001b[1m(::Base.#kw##sort!)\u001b[22m\u001b[22m\u001b[1m(\u001b[22m\u001b[22m::Array{Any,1}, ::Base.#sort!, ::DataFrames.DataFrame, ::Array{Any,1}\u001b[1m)\u001b[22m\u001b[22m at \u001b[1m./<missing>:0\u001b[22m\u001b[22m (repeats 2 times)\n",
      " [4] \u001b[1mgenedropping_option\u001b[22m\u001b[22m\u001b[1m(\u001b[22m\u001b[22m::MendelBase.Pedigree, ::MendelBase.Person, ::MendelBase.Locus, ::DataFrames.DataFrame, ::DataFrames.DataFrame, ::DataFrames.DataFrame, ::Dict{AbstractString,Any}\u001b[1m)\u001b[22m\u001b[22m at \u001b[1m/Users/biona001/.julia/v0.6/MendelGeneDropping/src/MendelGeneDropping.jl:173\u001b[22m\u001b[22m\n",
      " [5] \u001b[1m#GeneDropping#1\u001b[22m\u001b[22m\u001b[1m(\u001b[22m\u001b[22m::Array{Any,1}, ::Function, ::String\u001b[1m)\u001b[22m\u001b[22m at \u001b[1m/Users/biona001/.julia/v0.6/MendelGeneDropping/src/MendelGeneDropping.jl:77\u001b[22m\u001b[22m\n",
      " [6] \u001b[1mGeneDropping\u001b[22m\u001b[22m\u001b[1m(\u001b[22m\u001b[22m::String\u001b[1m)\u001b[22m\u001b[22m at \u001b[1m/Users/biona001/.julia/v0.6/MendelGeneDropping/src/MendelGeneDropping.jl:23\u001b[22m\u001b[22m\n",
      " [7] \u001b[1minclude_string\u001b[22m\u001b[22m\u001b[1m(\u001b[22m\u001b[22m::String, ::String\u001b[1m)\u001b[22m\u001b[22m at \u001b[1m./loading.jl:515\u001b[22m\u001b[22m\n",
      " [8] \u001b[1mexecute_request\u001b[22m\u001b[22m\u001b[1m(\u001b[22m\u001b[22m::ZMQ.Socket, ::IJulia.Msg\u001b[1m)\u001b[22m\u001b[22m at \u001b[1m/Users/biona001/.julia/v0.6/IJulia/src/execute_request.jl:158\u001b[22m\u001b[22m\n",
      " [9] \u001b[1m(::Compat.#inner#18{Array{Any,1},IJulia.#execute_request,Tuple{ZMQ.Socket,IJulia.Msg}})\u001b[22m\u001b[22m\u001b[1m(\u001b[22m\u001b[22m\u001b[1m)\u001b[22m\u001b[22m at \u001b[1m/Users/biona001/.julia/v0.6/Compat/src/Compat.jl:378\u001b[22m\u001b[22m\n",
      " [10] \u001b[1meventloop\u001b[22m\u001b[22m\u001b[1m(\u001b[22m\u001b[22m::ZMQ.Socket\u001b[1m)\u001b[22m\u001b[22m at \u001b[1m/Users/biona001/.julia/v0.6/IJulia/src/eventloop.jl:8\u001b[22m\u001b[22m\n",
      " [11] \u001b[1m(::IJulia.##14#17)\u001b[22m\u001b[22m\u001b[1m(\u001b[22m\u001b[22m\u001b[1m)\u001b[22m\u001b[22m at \u001b[1m./task.jl:335\u001b[22m\u001b[22m\n",
      "while loading In[36], in expression starting on line 2\n",
      "\u001b[1m\u001b[33mWARNING: \u001b[39m\u001b[22m\u001b[33msort!(df, cols=cols) is deprecated, use sort!(df, cols) instead\u001b[39m\n",
      "Stacktrace:\n",
      " [1] \u001b[1mdepwarn\u001b[22m\u001b[22m\u001b[1m(\u001b[22m\u001b[22m::String, ::Symbol\u001b[1m)\u001b[22m\u001b[22m at \u001b[1m./deprecated.jl:70\u001b[22m\u001b[22m\n",
      " [2] \u001b[1m#sort!#220\u001b[22m\u001b[22m\u001b[1m(\u001b[22m\u001b[22m::Array{Symbol,1}, ::Void, ::Function, ::Function, ::Bool, ::Base.Order.ForwardOrdering, ::Function, ::DataFrames.DataFrame, ::Array{Any,1}\u001b[1m)\u001b[22m\u001b[22m at \u001b[1m/Users/biona001/.julia/v0.6/DataFrames/src/dataframe/sort.jl:74\u001b[22m\u001b[22m\n",
      " [3] \u001b[1m(::Base.#kw##sort!)\u001b[22m\u001b[22m\u001b[1m(\u001b[22m\u001b[22m::Array{Any,1}, ::Base.#sort!, ::DataFrames.DataFrame, ::Array{Any,1}\u001b[1m)\u001b[22m\u001b[22m at \u001b[1m./<missing>:0\u001b[22m\u001b[22m (repeats 2 times)\n",
      " [4] \u001b[1mgenedropping_option\u001b[22m\u001b[22m\u001b[1m(\u001b[22m\u001b[22m::MendelBase.Pedigree, ::MendelBase.Person, ::MendelBase.Locus, ::DataFrames.DataFrame, ::DataFrames.DataFrame, ::DataFrames.DataFrame, ::Dict{AbstractString,Any}\u001b[1m)\u001b[22m\u001b[22m at \u001b[1m/Users/biona001/.julia/v0.6/MendelGeneDropping/src/MendelGeneDropping.jl:173\u001b[22m\u001b[22m\n",
      " [5] \u001b[1m#GeneDropping#1\u001b[22m\u001b[22m\u001b[1m(\u001b[22m\u001b[22m::Array{Any,1}, ::Function, ::String\u001b[1m)\u001b[22m\u001b[22m at \u001b[1m/Users/biona001/.julia/v0.6/MendelGeneDropping/src/MendelGeneDropping.jl:77\u001b[22m\u001b[22m\n",
      " [6] \u001b[1mGeneDropping\u001b[22m\u001b[22m\u001b[1m(\u001b[22m\u001b[22m::String\u001b[1m)\u001b[22m\u001b[22m at \u001b[1m/Users/biona001/.julia/v0.6/MendelGeneDropping/src/MendelGeneDropping.jl:23\u001b[22m\u001b[22m\n",
      " [7] \u001b[1minclude_string\u001b[22m\u001b[22m\u001b[1m(\u001b[22m\u001b[22m::String, ::String\u001b[1m)\u001b[22m\u001b[22m at \u001b[1m./loading.jl:515\u001b[22m\u001b[22m\n",
      " [8] \u001b[1mexecute_request\u001b[22m\u001b[22m\u001b[1m(\u001b[22m\u001b[22m::ZMQ.Socket, ::IJulia.Msg\u001b[1m)\u001b[22m\u001b[22m at \u001b[1m/Users/biona001/.julia/v0.6/IJulia/src/execute_request.jl:158\u001b[22m\u001b[22m\n",
      " [9] \u001b[1m(::Compat.#inner#18{Array{Any,1},IJulia.#execute_request,Tuple{ZMQ.Socket,IJulia.Msg}})\u001b[22m\u001b[22m\u001b[1m(\u001b[22m\u001b[22m\u001b[1m)\u001b[22m\u001b[22m at \u001b[1m/Users/biona001/.julia/v0.6/Compat/src/Compat.jl:378\u001b[22m\u001b[22m\n",
      " [10] \u001b[1meventloop\u001b[22m\u001b[22m\u001b[1m(\u001b[22m\u001b[22m::ZMQ.Socket\u001b[1m)\u001b[22m\u001b[22m at \u001b[1m/Users/biona001/.julia/v0.6/IJulia/src/eventloop.jl:8\u001b[22m\u001b[22m\n",
      " [11] \u001b[1m(::IJulia.##14#17)\u001b[22m\u001b[22m\u001b[1m(\u001b[22m\u001b[22m\u001b[1m)\u001b[22m\u001b[22m at \u001b[1m./task.jl:335\u001b[22m\u001b[22m\n",
      "while loading In[36], in expression starting on line 2\n",
      "\u001b[1m\u001b[33mWARNING: \u001b[39m\u001b[22m\u001b[33msort!(df, cols=cols) is deprecated, use sort!(df, cols) instead\u001b[39m\n",
      "Stacktrace:\n",
      " [1] \u001b[1mdepwarn\u001b[22m\u001b[22m\u001b[1m(\u001b[22m\u001b[22m::String, ::Symbol\u001b[1m)\u001b[22m\u001b[22m at \u001b[1m./deprecated.jl:70\u001b[22m\u001b[22m\n",
      " [2] \u001b[1m#sort!#220\u001b[22m\u001b[22m\u001b[1m(\u001b[22m\u001b[22m::Array{Symbol,1}, ::Void, ::Function, ::Function, ::Bool, ::Base.Order.ForwardOrdering, ::Function, ::DataFrames.DataFrame, ::Array{Any,1}\u001b[1m)\u001b[22m\u001b[22m at \u001b[1m/Users/biona001/.julia/v0.6/DataFrames/src/dataframe/sort.jl:74\u001b[22m\u001b[22m\n",
      " [3] \u001b[1m(::Base.#kw##sort!)\u001b[22m\u001b[22m\u001b[1m(\u001b[22m\u001b[22m::Array{Any,1}, ::Base.#sort!, ::DataFrames.DataFrame, ::Array{Any,1}\u001b[1m)\u001b[22m\u001b[22m at \u001b[1m./<missing>:0\u001b[22m\u001b[22m (repeats 2 times)\n",
      " [4] \u001b[1mgenedropping_option\u001b[22m\u001b[22m\u001b[1m(\u001b[22m\u001b[22m::MendelBase.Pedigree, ::MendelBase.Person, ::MendelBase.Locus, ::DataFrames.DataFrame, ::DataFrames.DataFrame, ::DataFrames.DataFrame, ::Dict{AbstractString,Any}\u001b[1m)\u001b[22m\u001b[22m at \u001b[1m/Users/biona001/.julia/v0.6/MendelGeneDropping/src/MendelGeneDropping.jl:173\u001b[22m\u001b[22m\n",
      " [5] \u001b[1m#GeneDropping#1\u001b[22m\u001b[22m\u001b[1m(\u001b[22m\u001b[22m::Array{Any,1}, ::Function, ::String\u001b[1m)\u001b[22m\u001b[22m at \u001b[1m/Users/biona001/.julia/v0.6/MendelGeneDropping/src/MendelGeneDropping.jl:77\u001b[22m\u001b[22m\n",
      " [6] \u001b[1mGeneDropping\u001b[22m\u001b[22m\u001b[1m(\u001b[22m\u001b[22m::String\u001b[1m)\u001b[22m\u001b[22m at \u001b[1m/Users/biona001/.julia/v0.6/MendelGeneDropping/src/MendelGeneDropping.jl:23\u001b[22m\u001b[22m\n",
      " [7] \u001b[1minclude_string\u001b[22m\u001b[22m\u001b[1m(\u001b[22m\u001b[22m::String, ::String\u001b[1m)\u001b[22m\u001b[22m at \u001b[1m./loading.jl:515\u001b[22m\u001b[22m\n",
      " [8] \u001b[1mexecute_request\u001b[22m\u001b[22m\u001b[1m(\u001b[22m\u001b[22m::ZMQ.Socket, ::IJulia.Msg\u001b[1m)\u001b[22m\u001b[22m at \u001b[1m/Users/biona001/.julia/v0.6/IJulia/src/execute_request.jl:158\u001b[22m\u001b[22m\n",
      " [9] \u001b[1m(::Compat.#inner#18{Array{Any,1},IJulia.#execute_request,Tuple{ZMQ.Socket,IJulia.Msg}})\u001b[22m\u001b[22m\u001b[1m(\u001b[22m\u001b[22m\u001b[1m)\u001b[22m\u001b[22m at \u001b[1m/Users/biona001/.julia/v0.6/Compat/src/Compat.jl:378\u001b[22m\u001b[22m\n",
      " [10] \u001b[1meventloop\u001b[22m\u001b[22m\u001b[1m(\u001b[22m\u001b[22m::ZMQ.Socket\u001b[1m)\u001b[22m\u001b[22m at \u001b[1m/Users/biona001/.julia/v0.6/IJulia/src/eventloop.jl:8\u001b[22m\u001b[22m\n",
      " [11] \u001b[1m(::IJulia.##14#17)\u001b[22m\u001b[22m\u001b[1m(\u001b[22m\u001b[22m\u001b[1m)\u001b[22m\u001b[22m at \u001b[1m./task.jl:335\u001b[22m\u001b[22m\n",
      "while loading In[36], in expression starting on line 2\n",
      "\u001b[1m\u001b[33mWARNING: \u001b[39m\u001b[22m\u001b[33msort!(df, cols=cols) is deprecated, use sort!(df, cols) instead\u001b[39m\n",
      "Stacktrace:\n",
      " [1] \u001b[1mdepwarn\u001b[22m\u001b[22m\u001b[1m(\u001b[22m\u001b[22m::String, ::Symbol\u001b[1m)\u001b[22m\u001b[22m at \u001b[1m./deprecated.jl:70\u001b[22m\u001b[22m\n",
      " [2] \u001b[1m#sort!#220\u001b[22m\u001b[22m\u001b[1m(\u001b[22m\u001b[22m::Array{Symbol,1}, ::Void, ::Function, ::Function, ::Bool, ::Base.Order.ForwardOrdering, ::Function, ::DataFrames.DataFrame, ::Array{Any,1}\u001b[1m)\u001b[22m\u001b[22m at \u001b[1m/Users/biona001/.julia/v0.6/DataFrames/src/dataframe/sort.jl:74\u001b[22m\u001b[22m\n",
      " [3] \u001b[1m(::Base.#kw##sort!)\u001b[22m\u001b[22m\u001b[1m(\u001b[22m\u001b[22m::Array{Any,1}, ::Base.#sort!, ::DataFrames.DataFrame, ::Array{Any,1}\u001b[1m)\u001b[22m\u001b[22m at \u001b[1m./<missing>:0\u001b[22m\u001b[22m (repeats 2 times)\n",
      " [4] \u001b[1mgenedropping_option\u001b[22m\u001b[22m\u001b[1m(\u001b[22m\u001b[22m::MendelBase.Pedigree, ::MendelBase.Person, ::MendelBase.Locus, ::DataFrames.DataFrame, ::DataFrames.DataFrame, ::DataFrames.DataFrame, ::Dict{AbstractString,Any}\u001b[1m)\u001b[22m\u001b[22m at \u001b[1m/Users/biona001/.julia/v0.6/MendelGeneDropping/src/MendelGeneDropping.jl:173\u001b[22m\u001b[22m\n",
      " [5] \u001b[1m#GeneDropping#1\u001b[22m\u001b[22m\u001b[1m(\u001b[22m\u001b[22m::Array{Any,1}, ::Function, ::String\u001b[1m)\u001b[22m\u001b[22m at \u001b[1m/Users/biona001/.julia/v0.6/MendelGeneDropping/src/MendelGeneDropping.jl:77\u001b[22m\u001b[22m\n",
      " [6] \u001b[1mGeneDropping\u001b[22m\u001b[22m\u001b[1m(\u001b[22m\u001b[22m::String\u001b[1m)\u001b[22m\u001b[22m at \u001b[1m/Users/biona001/.julia/v0.6/MendelGeneDropping/src/MendelGeneDropping.jl:23\u001b[22m\u001b[22m\n",
      " [7] \u001b[1minclude_string\u001b[22m\u001b[22m\u001b[1m(\u001b[22m\u001b[22m::String, ::String\u001b[1m)\u001b[22m\u001b[22m at \u001b[1m./loading.jl:515\u001b[22m\u001b[22m\n",
      " [8] \u001b[1mexecute_request\u001b[22m\u001b[22m\u001b[1m(\u001b[22m\u001b[22m::ZMQ.Socket, ::IJulia.Msg\u001b[1m)\u001b[22m\u001b[22m at \u001b[1m/Users/biona001/.julia/v0.6/IJulia/src/execute_request.jl:158\u001b[22m\u001b[22m\n",
      " [9] \u001b[1m(::Compat.#inner#18{Array{Any,1},IJulia.#execute_request,Tuple{ZMQ.Socket,IJulia.Msg}})\u001b[22m\u001b[22m\u001b[1m(\u001b[22m\u001b[22m\u001b[1m)\u001b[22m\u001b[22m at \u001b[1m/Users/biona001/.julia/v0.6/Compat/src/Compat.jl:378\u001b[22m\u001b[22m\n",
      " [10] \u001b[1meventloop\u001b[22m\u001b[22m\u001b[1m(\u001b[22m\u001b[22m::ZMQ.Socket\u001b[1m)\u001b[22m\u001b[22m at \u001b[1m/Users/biona001/.julia/v0.6/IJulia/src/eventloop.jl:8\u001b[22m\u001b[22m\n",
      " [11] \u001b[1m(::IJulia.##14#17)\u001b[22m\u001b[22m\u001b[1m(\u001b[22m\u001b[22m\u001b[1m)\u001b[22m\u001b[22m at \u001b[1m./task.jl:335\u001b[22m\u001b[22m\n",
      "while loading In[36], in expression starting on line 2\n",
      "\u001b[1m\u001b[33mWARNING: \u001b[39m\u001b[22m\u001b[33msort!(df, cols=cols) is deprecated, use sort!(df, cols) instead\u001b[39m\n",
      "Stacktrace:\n",
      " [1] \u001b[1mdepwarn\u001b[22m\u001b[22m\u001b[1m(\u001b[22m\u001b[22m::String, ::Symbol\u001b[1m)\u001b[22m\u001b[22m at \u001b[1m./deprecated.jl:70\u001b[22m\u001b[22m\n",
      " [2] \u001b[1m#sort!#220\u001b[22m\u001b[22m\u001b[1m(\u001b[22m\u001b[22m::Array{Symbol,1}, ::Void, ::Function, ::Function, ::Bool, ::Base.Order.ForwardOrdering, ::Function, ::DataFrames.DataFrame, ::Array{Any,1}\u001b[1m)\u001b[22m\u001b[22m at \u001b[1m/Users/biona001/.julia/v0.6/DataFrames/src/dataframe/sort.jl:74\u001b[22m\u001b[22m\n",
      " [3] \u001b[1m(::Base.#kw##sort!)\u001b[22m\u001b[22m\u001b[1m(\u001b[22m\u001b[22m::Array{Any,1}, ::Base.#sort!, ::DataFrames.DataFrame, ::Array{Any,1}\u001b[1m)\u001b[22m\u001b[22m at \u001b[1m./<missing>:0\u001b[22m\u001b[22m (repeats 2 times)\n",
      " [4] \u001b[1mgenedropping_option\u001b[22m\u001b[22m\u001b[1m(\u001b[22m\u001b[22m::MendelBase.Pedigree, ::MendelBase.Person, ::MendelBase.Locus, ::DataFrames.DataFrame, ::DataFrames.DataFrame, ::DataFrames.DataFrame, ::Dict{AbstractString,Any}\u001b[1m)\u001b[22m\u001b[22m at \u001b[1m/Users/biona001/.julia/v0.6/MendelGeneDropping/src/MendelGeneDropping.jl:173\u001b[22m\u001b[22m\n",
      " [5] \u001b[1m#GeneDropping#1\u001b[22m\u001b[22m\u001b[1m(\u001b[22m\u001b[22m::Array{Any,1}, ::Function, ::String\u001b[1m)\u001b[22m\u001b[22m at \u001b[1m/Users/biona001/.julia/v0.6/MendelGeneDropping/src/MendelGeneDropping.jl:77\u001b[22m\u001b[22m\n",
      " [6] \u001b[1mGeneDropping\u001b[22m\u001b[22m\u001b[1m(\u001b[22m\u001b[22m::String\u001b[1m)\u001b[22m\u001b[22m at \u001b[1m/Users/biona001/.julia/v0.6/MendelGeneDropping/src/MendelGeneDropping.jl:23\u001b[22m\u001b[22m\n",
      " [7] \u001b[1minclude_string\u001b[22m\u001b[22m\u001b[1m(\u001b[22m\u001b[22m::String, ::String\u001b[1m)\u001b[22m\u001b[22m at \u001b[1m./loading.jl:515\u001b[22m\u001b[22m\n",
      " [8] \u001b[1mexecute_request\u001b[22m\u001b[22m\u001b[1m(\u001b[22m\u001b[22m::ZMQ.Socket, ::IJulia.Msg\u001b[1m)\u001b[22m\u001b[22m at \u001b[1m/Users/biona001/.julia/v0.6/IJulia/src/execute_request.jl:158\u001b[22m\u001b[22m\n",
      " [9] \u001b[1m(::Compat.#inner#18{Array{Any,1},IJulia.#execute_request,Tuple{ZMQ.Socket,IJulia.Msg}})\u001b[22m\u001b[22m\u001b[1m(\u001b[22m\u001b[22m\u001b[1m)\u001b[22m\u001b[22m at \u001b[1m/Users/biona001/.julia/v0.6/Compat/src/Compat.jl:378\u001b[22m\u001b[22m\n",
      " [10] \u001b[1meventloop\u001b[22m\u001b[22m\u001b[1m(\u001b[22m\u001b[22m::ZMQ.Socket\u001b[1m)\u001b[22m\u001b[22m at \u001b[1m/Users/biona001/.julia/v0.6/IJulia/src/eventloop.jl:8\u001b[22m\u001b[22m\n",
      " [11] \u001b[1m(::IJulia.##14#17)\u001b[22m\u001b[22m\u001b[1m(\u001b[22m\u001b[22m\u001b[1m)\u001b[22m\u001b[22m at \u001b[1m./task.jl:335\u001b[22m\u001b[22m\n",
      "while loading In[36], in expression starting on line 2\n",
      "\u001b[1m\u001b[33mWARNING: \u001b[39m\u001b[22m\u001b[33msort!(df, cols=cols) is deprecated, use sort!(df, cols) instead\u001b[39m\n",
      "Stacktrace:\n",
      " [1] \u001b[1mdepwarn\u001b[22m\u001b[22m\u001b[1m(\u001b[22m\u001b[22m::String, ::Symbol\u001b[1m)\u001b[22m\u001b[22m at \u001b[1m./deprecated.jl:70\u001b[22m\u001b[22m\n",
      " [2] \u001b[1m#sort!#220\u001b[22m\u001b[22m\u001b[1m(\u001b[22m\u001b[22m::Array{Symbol,1}, ::Void, ::Function, ::Function, ::Bool, ::Base.Order.ForwardOrdering, ::Function, ::DataFrames.DataFrame, ::Array{Any,1}\u001b[1m)\u001b[22m\u001b[22m at \u001b[1m/Users/biona001/.julia/v0.6/DataFrames/src/dataframe/sort.jl:74\u001b[22m\u001b[22m\n",
      " [3] \u001b[1m(::Base.#kw##sort!)\u001b[22m\u001b[22m\u001b[1m(\u001b[22m\u001b[22m::Array{Any,1}, ::Base.#sort!, ::DataFrames.DataFrame, ::Array{Any,1}\u001b[1m)\u001b[22m\u001b[22m at \u001b[1m./<missing>:0\u001b[22m\u001b[22m (repeats 2 times)\n",
      " [4] \u001b[1mgenedropping_option\u001b[22m\u001b[22m\u001b[1m(\u001b[22m\u001b[22m::MendelBase.Pedigree, ::MendelBase.Person, ::MendelBase.Locus, ::DataFrames.DataFrame, ::DataFrames.DataFrame, ::DataFrames.DataFrame, ::Dict{AbstractString,Any}\u001b[1m)\u001b[22m\u001b[22m at \u001b[1m/Users/biona001/.julia/v0.6/MendelGeneDropping/src/MendelGeneDropping.jl:173\u001b[22m\u001b[22m\n",
      " [5] \u001b[1m#GeneDropping#1\u001b[22m\u001b[22m\u001b[1m(\u001b[22m\u001b[22m::Array{Any,1}, ::Function, ::String\u001b[1m)\u001b[22m\u001b[22m at \u001b[1m/Users/biona001/.julia/v0.6/MendelGeneDropping/src/MendelGeneDropping.jl:77\u001b[22m\u001b[22m\n",
      " [6] \u001b[1mGeneDropping\u001b[22m\u001b[22m\u001b[1m(\u001b[22m\u001b[22m::String\u001b[1m)\u001b[22m\u001b[22m at \u001b[1m/Users/biona001/.julia/v0.6/MendelGeneDropping/src/MendelGeneDropping.jl:23\u001b[22m\u001b[22m\n",
      " [7] \u001b[1minclude_string\u001b[22m\u001b[22m\u001b[1m(\u001b[22m\u001b[22m::String, ::String\u001b[1m)\u001b[22m\u001b[22m at \u001b[1m./loading.jl:515\u001b[22m\u001b[22m\n",
      " [8] \u001b[1mexecute_request\u001b[22m\u001b[22m\u001b[1m(\u001b[22m\u001b[22m::ZMQ.Socket, ::IJulia.Msg\u001b[1m)\u001b[22m\u001b[22m at \u001b[1m/Users/biona001/.julia/v0.6/IJulia/src/execute_request.jl:158\u001b[22m\u001b[22m\n",
      " [9] \u001b[1m(::Compat.#inner#18{Array{Any,1},IJulia.#execute_request,Tuple{ZMQ.Socket,IJulia.Msg}})\u001b[22m\u001b[22m\u001b[1m(\u001b[22m\u001b[22m\u001b[1m)\u001b[22m\u001b[22m at \u001b[1m/Users/biona001/.julia/v0.6/Compat/src/Compat.jl:378\u001b[22m\u001b[22m\n",
      " [10] \u001b[1meventloop\u001b[22m\u001b[22m\u001b[1m(\u001b[22m\u001b[22m::ZMQ.Socket\u001b[1m)\u001b[22m\u001b[22m at \u001b[1m/Users/biona001/.julia/v0.6/IJulia/src/eventloop.jl:8\u001b[22m\u001b[22m\n",
      " [11] \u001b[1m(::IJulia.##14#17)\u001b[22m\u001b[22m\u001b[1m(\u001b[22m\u001b[22m\u001b[1m)\u001b[22m\u001b[22m at \u001b[1m./task.jl:335\u001b[22m\u001b[22m\n",
      "while loading In[36], in expression starting on line 2\n",
      "\u001b[1m\u001b[33mWARNING: \u001b[39m\u001b[22m\u001b[33msort!(df, cols=cols) is deprecated, use sort!(df, cols) instead\u001b[39m\n",
      "Stacktrace:\n",
      " [1] \u001b[1mdepwarn\u001b[22m\u001b[22m\u001b[1m(\u001b[22m\u001b[22m::String, ::Symbol\u001b[1m)\u001b[22m\u001b[22m at \u001b[1m./deprecated.jl:70\u001b[22m\u001b[22m\n",
      " [2] \u001b[1m#sort!#220\u001b[22m\u001b[22m\u001b[1m(\u001b[22m\u001b[22m::Array{Symbol,1}, ::Void, ::Function, ::Function, ::Bool, ::Base.Order.ForwardOrdering, ::Function, ::DataFrames.DataFrame, ::Array{Any,1}\u001b[1m)\u001b[22m\u001b[22m at \u001b[1m/Users/biona001/.julia/v0.6/DataFrames/src/dataframe/sort.jl:74\u001b[22m\u001b[22m\n",
      " [3] \u001b[1m(::Base.#kw##sort!)\u001b[22m\u001b[22m\u001b[1m(\u001b[22m\u001b[22m::Array{Any,1}, ::Base.#sort!, ::DataFrames.DataFrame, ::Array{Any,1}\u001b[1m)\u001b[22m\u001b[22m at \u001b[1m./<missing>:0\u001b[22m\u001b[22m (repeats 2 times)\n",
      " [4] \u001b[1mgenedropping_option\u001b[22m\u001b[22m\u001b[1m(\u001b[22m\u001b[22m::MendelBase.Pedigree, ::MendelBase.Person, ::MendelBase.Locus, ::DataFrames.DataFrame, ::DataFrames.DataFrame, ::DataFrames.DataFrame, ::Dict{AbstractString,Any}\u001b[1m)\u001b[22m\u001b[22m at \u001b[1m/Users/biona001/.julia/v0.6/MendelGeneDropping/src/MendelGeneDropping.jl:173\u001b[22m\u001b[22m\n",
      " [5] \u001b[1m#GeneDropping#1\u001b[22m\u001b[22m\u001b[1m(\u001b[22m\u001b[22m::Array{Any,1}, ::Function, ::String\u001b[1m)\u001b[22m\u001b[22m at \u001b[1m/Users/biona001/.julia/v0.6/MendelGeneDropping/src/MendelGeneDropping.jl:77\u001b[22m\u001b[22m\n",
      " [6] \u001b[1mGeneDropping\u001b[22m\u001b[22m\u001b[1m(\u001b[22m\u001b[22m::String\u001b[1m)\u001b[22m\u001b[22m at \u001b[1m/Users/biona001/.julia/v0.6/MendelGeneDropping/src/MendelGeneDropping.jl:23\u001b[22m\u001b[22m\n",
      " [7] \u001b[1minclude_string\u001b[22m\u001b[22m\u001b[1m(\u001b[22m\u001b[22m::String, ::String\u001b[1m)\u001b[22m\u001b[22m at \u001b[1m./loading.jl:515\u001b[22m\u001b[22m\n",
      " [8] \u001b[1mexecute_request\u001b[22m\u001b[22m\u001b[1m(\u001b[22m\u001b[22m::ZMQ.Socket, ::IJulia.Msg\u001b[1m)\u001b[22m\u001b[22m at \u001b[1m/Users/biona001/.julia/v0.6/IJulia/src/execute_request.jl:158\u001b[22m\u001b[22m\n",
      " [9] \u001b[1m(::Compat.#inner#18{Array{Any,1},IJulia.#execute_request,Tuple{ZMQ.Socket,IJulia.Msg}})\u001b[22m\u001b[22m\u001b[1m(\u001b[22m\u001b[22m\u001b[1m)\u001b[22m\u001b[22m at \u001b[1m/Users/biona001/.julia/v0.6/Compat/src/Compat.jl:378\u001b[22m\u001b[22m\n",
      " [10] \u001b[1meventloop\u001b[22m\u001b[22m\u001b[1m(\u001b[22m\u001b[22m::ZMQ.Socket\u001b[1m)\u001b[22m\u001b[22m at \u001b[1m/Users/biona001/.julia/v0.6/IJulia/src/eventloop.jl:8\u001b[22m\u001b[22m\n",
      " [11] \u001b[1m(::IJulia.##14#17)\u001b[22m\u001b[22m\u001b[1m(\u001b[22m\u001b[22m\u001b[1m)\u001b[22m\u001b[22m at \u001b[1m./task.jl:335\u001b[22m\u001b[22m\n",
      "while loading In[36], in expression starting on line 2\n",
      "\u001b[1m\u001b[33mWARNING: \u001b[39m\u001b[22m\u001b[33msort!(df, cols=cols) is deprecated, use sort!(df, cols) instead\u001b[39m\n",
      "Stacktrace:\n",
      " [1] \u001b[1mdepwarn\u001b[22m\u001b[22m\u001b[1m(\u001b[22m\u001b[22m::String, ::Symbol\u001b[1m)\u001b[22m\u001b[22m at \u001b[1m./deprecated.jl:70\u001b[22m\u001b[22m\n",
      " [2] \u001b[1m#sort!#220\u001b[22m\u001b[22m\u001b[1m(\u001b[22m\u001b[22m::Array{Symbol,1}, ::Void, ::Function, ::Function, ::Bool, ::Base.Order.ForwardOrdering, ::Function, ::DataFrames.DataFrame, ::Array{Any,1}\u001b[1m)\u001b[22m\u001b[22m at \u001b[1m/Users/biona001/.julia/v0.6/DataFrames/src/dataframe/sort.jl:74\u001b[22m\u001b[22m\n",
      " [3] \u001b[1m(::Base.#kw##sort!)\u001b[22m\u001b[22m\u001b[1m(\u001b[22m\u001b[22m::Array{Any,1}, ::Base.#sort!, ::DataFrames.DataFrame, ::Array{Any,1}\u001b[1m)\u001b[22m\u001b[22m at \u001b[1m./<missing>:0\u001b[22m\u001b[22m (repeats 2 times)\n",
      " [4] \u001b[1mgenedropping_option\u001b[22m\u001b[22m\u001b[1m(\u001b[22m\u001b[22m::MendelBase.Pedigree, ::MendelBase.Person, ::MendelBase.Locus, ::DataFrames.DataFrame, ::DataFrames.DataFrame, ::DataFrames.DataFrame, ::Dict{AbstractString,Any}\u001b[1m)\u001b[22m\u001b[22m at \u001b[1m/Users/biona001/.julia/v0.6/MendelGeneDropping/src/MendelGeneDropping.jl:173\u001b[22m\u001b[22m\n",
      " [5] \u001b[1m#GeneDropping#1\u001b[22m\u001b[22m\u001b[1m(\u001b[22m\u001b[22m::Array{Any,1}, ::Function, ::String\u001b[1m)\u001b[22m\u001b[22m at \u001b[1m/Users/biona001/.julia/v0.6/MendelGeneDropping/src/MendelGeneDropping.jl:77\u001b[22m\u001b[22m\n",
      " [6] \u001b[1mGeneDropping\u001b[22m\u001b[22m\u001b[1m(\u001b[22m\u001b[22m::String\u001b[1m)\u001b[22m\u001b[22m at \u001b[1m/Users/biona001/.julia/v0.6/MendelGeneDropping/src/MendelGeneDropping.jl:23\u001b[22m\u001b[22m\n",
      " [7] \u001b[1minclude_string\u001b[22m\u001b[22m\u001b[1m(\u001b[22m\u001b[22m::String, ::String\u001b[1m)\u001b[22m\u001b[22m at \u001b[1m./loading.jl:515\u001b[22m\u001b[22m\n",
      " [8] \u001b[1mexecute_request\u001b[22m\u001b[22m\u001b[1m(\u001b[22m\u001b[22m::ZMQ.Socket, ::IJulia.Msg\u001b[1m)\u001b[22m\u001b[22m at \u001b[1m/Users/biona001/.julia/v0.6/IJulia/src/execute_request.jl:158\u001b[22m\u001b[22m\n",
      " [9] \u001b[1m(::Compat.#inner#18{Array{Any,1},IJulia.#execute_request,Tuple{ZMQ.Socket,IJulia.Msg}})\u001b[22m\u001b[22m\u001b[1m(\u001b[22m\u001b[22m\u001b[1m)\u001b[22m\u001b[22m at \u001b[1m/Users/biona001/.julia/v0.6/Compat/src/Compat.jl:378\u001b[22m\u001b[22m\n",
      " [10] \u001b[1meventloop\u001b[22m\u001b[22m\u001b[1m(\u001b[22m\u001b[22m::ZMQ.Socket\u001b[1m)\u001b[22m\u001b[22m at \u001b[1m/Users/biona001/.julia/v0.6/IJulia/src/eventloop.jl:8\u001b[22m\u001b[22m\n",
      " [11] \u001b[1m(::IJulia.##14#17)\u001b[22m\u001b[22m\u001b[1m(\u001b[22m\u001b[22m\u001b[1m)\u001b[22m\u001b[22m at \u001b[1m./task.jl:335\u001b[22m\u001b[22m\n",
      "while loading In[36], in expression starting on line 2\n",
      "\u001b[1m\u001b[33mWARNING: \u001b[39m\u001b[22m\u001b[33msort!(df, cols=cols) is deprecated, use sort!(df, cols) instead\u001b[39m\n",
      "Stacktrace:\n",
      " [1] \u001b[1mdepwarn\u001b[22m\u001b[22m\u001b[1m(\u001b[22m\u001b[22m::String, ::Symbol\u001b[1m)\u001b[22m\u001b[22m at \u001b[1m./deprecated.jl:70\u001b[22m\u001b[22m\n",
      " [2] \u001b[1m#sort!#220\u001b[22m\u001b[22m\u001b[1m(\u001b[22m\u001b[22m::Array{Symbol,1}, ::Void, ::Function, ::Function, ::Bool, ::Base.Order.ForwardOrdering, ::Function, ::DataFrames.DataFrame, ::Array{Any,1}\u001b[1m)\u001b[22m\u001b[22m at \u001b[1m/Users/biona001/.julia/v0.6/DataFrames/src/dataframe/sort.jl:74\u001b[22m\u001b[22m\n",
      " [3] \u001b[1m(::Base.#kw##sort!)\u001b[22m\u001b[22m\u001b[1m(\u001b[22m\u001b[22m::Array{Any,1}, ::Base.#sort!, ::DataFrames.DataFrame, ::Array{Any,1}\u001b[1m)\u001b[22m\u001b[22m at \u001b[1m./<missing>:0\u001b[22m\u001b[22m (repeats 2 times)\n",
      " [4] \u001b[1mgenedropping_option\u001b[22m\u001b[22m\u001b[1m(\u001b[22m\u001b[22m::MendelBase.Pedigree, ::MendelBase.Person, ::MendelBase.Locus, ::DataFrames.DataFrame, ::DataFrames.DataFrame, ::DataFrames.DataFrame, ::Dict{AbstractString,Any}\u001b[1m)\u001b[22m\u001b[22m at \u001b[1m/Users/biona001/.julia/v0.6/MendelGeneDropping/src/MendelGeneDropping.jl:173\u001b[22m\u001b[22m\n",
      " [5] \u001b[1m#GeneDropping#1\u001b[22m\u001b[22m\u001b[1m(\u001b[22m\u001b[22m::Array{Any,1}, ::Function, ::String\u001b[1m)\u001b[22m\u001b[22m at \u001b[1m/Users/biona001/.julia/v0.6/MendelGeneDropping/src/MendelGeneDropping.jl:77\u001b[22m\u001b[22m\n",
      " [6] \u001b[1mGeneDropping\u001b[22m\u001b[22m\u001b[1m(\u001b[22m\u001b[22m::String\u001b[1m)\u001b[22m\u001b[22m at \u001b[1m/Users/biona001/.julia/v0.6/MendelGeneDropping/src/MendelGeneDropping.jl:23\u001b[22m\u001b[22m\n",
      " [7] \u001b[1minclude_string\u001b[22m\u001b[22m\u001b[1m(\u001b[22m\u001b[22m::String, ::String\u001b[1m)\u001b[22m\u001b[22m at \u001b[1m./loading.jl:515\u001b[22m\u001b[22m\n",
      " [8] \u001b[1mexecute_request\u001b[22m\u001b[22m\u001b[1m(\u001b[22m\u001b[22m::ZMQ.Socket, ::IJulia.Msg\u001b[1m)\u001b[22m\u001b[22m at \u001b[1m/Users/biona001/.julia/v0.6/IJulia/src/execute_request.jl:158\u001b[22m\u001b[22m\n",
      " [9] \u001b[1m(::Compat.#inner#18{Array{Any,1},IJulia.#execute_request,Tuple{ZMQ.Socket,IJulia.Msg}})\u001b[22m\u001b[22m\u001b[1m(\u001b[22m\u001b[22m\u001b[1m)\u001b[22m\u001b[22m at \u001b[1m/Users/biona001/.julia/v0.6/Compat/src/Compat.jl:378\u001b[22m\u001b[22m\n",
      " [10] \u001b[1meventloop\u001b[22m\u001b[22m\u001b[1m(\u001b[22m\u001b[22m::ZMQ.Socket\u001b[1m)\u001b[22m\u001b[22m at \u001b[1m/Users/biona001/.julia/v0.6/IJulia/src/eventloop.jl:8\u001b[22m\u001b[22m\n",
      " [11] \u001b[1m(::IJulia.##14#17)\u001b[22m\u001b[22m\u001b[1m(\u001b[22m\u001b[22m\u001b[1m)\u001b[22m\u001b[22m at \u001b[1m./task.jl:335\u001b[22m\u001b[22m\n",
      "while loading In[36], in expression starting on line 2\n",
      "\u001b[1m\u001b[33mWARNING: \u001b[39m\u001b[22m\u001b[33msort!(df, cols=cols) is deprecated, use sort!(df, cols) instead\u001b[39m\n",
      "Stacktrace:\n",
      " [1] \u001b[1mdepwarn\u001b[22m\u001b[22m\u001b[1m(\u001b[22m\u001b[22m::String, ::Symbol\u001b[1m)\u001b[22m\u001b[22m at \u001b[1m./deprecated.jl:70\u001b[22m\u001b[22m\n",
      " [2] \u001b[1m#sort!#220\u001b[22m\u001b[22m\u001b[1m(\u001b[22m\u001b[22m::Array{Symbol,1}, ::Void, ::Function, ::Function, ::Bool, ::Base.Order.ForwardOrdering, ::Function, ::DataFrames.DataFrame, ::Array{Any,1}\u001b[1m)\u001b[22m\u001b[22m at \u001b[1m/Users/biona001/.julia/v0.6/DataFrames/src/dataframe/sort.jl:74\u001b[22m\u001b[22m\n",
      " [3] \u001b[1m(::Base.#kw##sort!)\u001b[22m\u001b[22m\u001b[1m(\u001b[22m\u001b[22m::Array{Any,1}, ::Base.#sort!, ::DataFrames.DataFrame, ::Array{Any,1}\u001b[1m)\u001b[22m\u001b[22m at \u001b[1m./<missing>:0\u001b[22m\u001b[22m (repeats 2 times)\n",
      " [4] \u001b[1mgenedropping_option\u001b[22m\u001b[22m\u001b[1m(\u001b[22m\u001b[22m::MendelBase.Pedigree, ::MendelBase.Person, ::MendelBase.Locus, ::DataFrames.DataFrame, ::DataFrames.DataFrame, ::DataFrames.DataFrame, ::Dict{AbstractString,Any}\u001b[1m)\u001b[22m\u001b[22m at \u001b[1m/Users/biona001/.julia/v0.6/MendelGeneDropping/src/MendelGeneDropping.jl:173\u001b[22m\u001b[22m\n",
      " [5] \u001b[1m#GeneDropping#1\u001b[22m\u001b[22m\u001b[1m(\u001b[22m\u001b[22m::Array{Any,1}, ::Function, ::String\u001b[1m)\u001b[22m\u001b[22m at \u001b[1m/Users/biona001/.julia/v0.6/MendelGeneDropping/src/MendelGeneDropping.jl:77\u001b[22m\u001b[22m\n",
      " [6] \u001b[1mGeneDropping\u001b[22m\u001b[22m\u001b[1m(\u001b[22m\u001b[22m::String\u001b[1m)\u001b[22m\u001b[22m at \u001b[1m/Users/biona001/.julia/v0.6/MendelGeneDropping/src/MendelGeneDropping.jl:23\u001b[22m\u001b[22m\n",
      " [7] \u001b[1minclude_string\u001b[22m\u001b[22m\u001b[1m(\u001b[22m\u001b[22m::String, ::String\u001b[1m)\u001b[22m\u001b[22m at \u001b[1m./loading.jl:515\u001b[22m\u001b[22m\n",
      " [8] \u001b[1mexecute_request\u001b[22m\u001b[22m\u001b[1m(\u001b[22m\u001b[22m::ZMQ.Socket, ::IJulia.Msg\u001b[1m)\u001b[22m\u001b[22m at \u001b[1m/Users/biona001/.julia/v0.6/IJulia/src/execute_request.jl:158\u001b[22m\u001b[22m\n",
      " [9] \u001b[1m(::Compat.#inner#18{Array{Any,1},IJulia.#execute_request,Tuple{ZMQ.Socket,IJulia.Msg}})\u001b[22m\u001b[22m\u001b[1m(\u001b[22m\u001b[22m\u001b[1m)\u001b[22m\u001b[22m at \u001b[1m/Users/biona001/.julia/v0.6/Compat/src/Compat.jl:378\u001b[22m\u001b[22m\n",
      " [10] \u001b[1meventloop\u001b[22m\u001b[22m\u001b[1m(\u001b[22m\u001b[22m::ZMQ.Socket\u001b[1m)\u001b[22m\u001b[22m at \u001b[1m/Users/biona001/.julia/v0.6/IJulia/src/eventloop.jl:8\u001b[22m\u001b[22m\n",
      " [11] \u001b[1m(::IJulia.##14#17)\u001b[22m\u001b[22m\u001b[1m(\u001b[22m\u001b[22m\u001b[1m)\u001b[22m\u001b[22m at \u001b[1m./task.jl:335\u001b[22m\u001b[22m\n",
      "while loading In[36], in expression starting on line 2\n",
      "\u001b[1m\u001b[33mWARNING: \u001b[39m\u001b[22m\u001b[33msort!(df, cols=cols) is deprecated, use sort!(df, cols) instead\u001b[39m\n",
      "Stacktrace:\n",
      " [1] \u001b[1mdepwarn\u001b[22m\u001b[22m\u001b[1m(\u001b[22m\u001b[22m::String, ::Symbol\u001b[1m)\u001b[22m\u001b[22m at \u001b[1m./deprecated.jl:70\u001b[22m\u001b[22m\n",
      " [2] \u001b[1m#sort!#220\u001b[22m\u001b[22m\u001b[1m(\u001b[22m\u001b[22m::Array{Symbol,1}, ::Void, ::Function, ::Function, ::Bool, ::Base.Order.ForwardOrdering, ::Function, ::DataFrames.DataFrame, ::Array{Any,1}\u001b[1m)\u001b[22m\u001b[22m at \u001b[1m/Users/biona001/.julia/v0.6/DataFrames/src/dataframe/sort.jl:74\u001b[22m\u001b[22m\n",
      " [3] \u001b[1m(::Base.#kw##sort!)\u001b[22m\u001b[22m\u001b[1m(\u001b[22m\u001b[22m::Array{Any,1}, ::Base.#sort!, ::DataFrames.DataFrame, ::Array{Any,1}\u001b[1m)\u001b[22m\u001b[22m at \u001b[1m./<missing>:0\u001b[22m\u001b[22m (repeats 2 times)\n",
      " [4] \u001b[1mgenedropping_option\u001b[22m\u001b[22m\u001b[1m(\u001b[22m\u001b[22m::MendelBase.Pedigree, ::MendelBase.Person, ::MendelBase.Locus, ::DataFrames.DataFrame, ::DataFrames.DataFrame, ::DataFrames.DataFrame, ::Dict{AbstractString,Any}\u001b[1m)\u001b[22m\u001b[22m at \u001b[1m/Users/biona001/.julia/v0.6/MendelGeneDropping/src/MendelGeneDropping.jl:173\u001b[22m\u001b[22m\n",
      " [5] \u001b[1m#GeneDropping#1\u001b[22m\u001b[22m\u001b[1m(\u001b[22m\u001b[22m::Array{Any,1}, ::Function, ::String\u001b[1m)\u001b[22m\u001b[22m at \u001b[1m/Users/biona001/.julia/v0.6/MendelGeneDropping/src/MendelGeneDropping.jl:77\u001b[22m\u001b[22m\n",
      " [6] \u001b[1mGeneDropping\u001b[22m\u001b[22m\u001b[1m(\u001b[22m\u001b[22m::String\u001b[1m)\u001b[22m\u001b[22m at \u001b[1m/Users/biona001/.julia/v0.6/MendelGeneDropping/src/MendelGeneDropping.jl:23\u001b[22m\u001b[22m\n",
      " [7] \u001b[1minclude_string\u001b[22m\u001b[22m\u001b[1m(\u001b[22m\u001b[22m::String, ::String\u001b[1m)\u001b[22m\u001b[22m at \u001b[1m./loading.jl:515\u001b[22m\u001b[22m\n",
      " [8] \u001b[1mexecute_request\u001b[22m\u001b[22m\u001b[1m(\u001b[22m\u001b[22m::ZMQ.Socket, ::IJulia.Msg\u001b[1m)\u001b[22m\u001b[22m at \u001b[1m/Users/biona001/.julia/v0.6/IJulia/src/execute_request.jl:158\u001b[22m\u001b[22m\n",
      " [9] \u001b[1m(::Compat.#inner#18{Array{Any,1},IJulia.#execute_request,Tuple{ZMQ.Socket,IJulia.Msg}})\u001b[22m\u001b[22m\u001b[1m(\u001b[22m\u001b[22m\u001b[1m)\u001b[22m\u001b[22m at \u001b[1m/Users/biona001/.julia/v0.6/Compat/src/Compat.jl:378\u001b[22m\u001b[22m\n",
      " [10] \u001b[1meventloop\u001b[22m\u001b[22m\u001b[1m(\u001b[22m\u001b[22m::ZMQ.Socket\u001b[1m)\u001b[22m\u001b[22m at \u001b[1m/Users/biona001/.julia/v0.6/IJulia/src/eventloop.jl:8\u001b[22m\u001b[22m\n",
      " [11] \u001b[1m(::IJulia.##14#17)\u001b[22m\u001b[22m\u001b[1m(\u001b[22m\u001b[22m\u001b[1m)\u001b[22m\u001b[22m at \u001b[1m./task.jl:335\u001b[22m\u001b[22m\n",
      "while loading In[36], in expression starting on line 2\n",
      "\u001b[1m\u001b[33mWARNING: \u001b[39m\u001b[22m\u001b[33msort!(df, cols=cols) is deprecated, use sort!(df, cols) instead\u001b[39m\n",
      "Stacktrace:\n",
      " [1] \u001b[1mdepwarn\u001b[22m\u001b[22m\u001b[1m(\u001b[22m\u001b[22m::String, ::Symbol\u001b[1m)\u001b[22m\u001b[22m at \u001b[1m./deprecated.jl:70\u001b[22m\u001b[22m\n",
      " [2] \u001b[1m#sort!#220\u001b[22m\u001b[22m\u001b[1m(\u001b[22m\u001b[22m::Array{Symbol,1}, ::Void, ::Function, ::Function, ::Bool, ::Base.Order.ForwardOrdering, ::Function, ::DataFrames.DataFrame, ::Array{Any,1}\u001b[1m)\u001b[22m\u001b[22m at \u001b[1m/Users/biona001/.julia/v0.6/DataFrames/src/dataframe/sort.jl:74\u001b[22m\u001b[22m\n",
      " [3] \u001b[1m(::Base.#kw##sort!)\u001b[22m\u001b[22m\u001b[1m(\u001b[22m\u001b[22m::Array{Any,1}, ::Base.#sort!, ::DataFrames.DataFrame, ::Array{Any,1}\u001b[1m)\u001b[22m\u001b[22m at \u001b[1m./<missing>:0\u001b[22m\u001b[22m (repeats 2 times)\n",
      " [4] \u001b[1mgenedropping_option\u001b[22m\u001b[22m\u001b[1m(\u001b[22m\u001b[22m::MendelBase.Pedigree, ::MendelBase.Person, ::MendelBase.Locus, ::DataFrames.DataFrame, ::DataFrames.DataFrame, ::DataFrames.DataFrame, ::Dict{AbstractString,Any}\u001b[1m)\u001b[22m\u001b[22m at \u001b[1m/Users/biona001/.julia/v0.6/MendelGeneDropping/src/MendelGeneDropping.jl:173\u001b[22m\u001b[22m\n",
      " [5] \u001b[1m#GeneDropping#1\u001b[22m\u001b[22m\u001b[1m(\u001b[22m\u001b[22m::Array{Any,1}, ::Function, ::String\u001b[1m)\u001b[22m\u001b[22m at \u001b[1m/Users/biona001/.julia/v0.6/MendelGeneDropping/src/MendelGeneDropping.jl:77\u001b[22m\u001b[22m\n",
      " [6] \u001b[1mGeneDropping\u001b[22m\u001b[22m\u001b[1m(\u001b[22m\u001b[22m::String\u001b[1m)\u001b[22m\u001b[22m at \u001b[1m/Users/biona001/.julia/v0.6/MendelGeneDropping/src/MendelGeneDropping.jl:23\u001b[22m\u001b[22m\n",
      " [7] \u001b[1minclude_string\u001b[22m\u001b[22m\u001b[1m(\u001b[22m\u001b[22m::String, ::String\u001b[1m)\u001b[22m\u001b[22m at \u001b[1m./loading.jl:515\u001b[22m\u001b[22m\n",
      " [8] \u001b[1mexecute_request\u001b[22m\u001b[22m\u001b[1m(\u001b[22m\u001b[22m::ZMQ.Socket, ::IJulia.Msg\u001b[1m)\u001b[22m\u001b[22m at \u001b[1m/Users/biona001/.julia/v0.6/IJulia/src/execute_request.jl:158\u001b[22m\u001b[22m\n",
      " [9] \u001b[1m(::Compat.#inner#18{Array{Any,1},IJulia.#execute_request,Tuple{ZMQ.Socket,IJulia.Msg}})\u001b[22m\u001b[22m\u001b[1m(\u001b[22m\u001b[22m\u001b[1m)\u001b[22m\u001b[22m at \u001b[1m/Users/biona001/.julia/v0.6/Compat/src/Compat.jl:378\u001b[22m\u001b[22m\n",
      " [10] \u001b[1meventloop\u001b[22m\u001b[22m\u001b[1m(\u001b[22m\u001b[22m::ZMQ.Socket\u001b[1m)\u001b[22m\u001b[22m at \u001b[1m/Users/biona001/.julia/v0.6/IJulia/src/eventloop.jl:8\u001b[22m\u001b[22m\n",
      " [11] \u001b[1m(::IJulia.##14#17)\u001b[22m\u001b[22m\u001b[1m(\u001b[22m\u001b[22m\u001b[1m)\u001b[22m\u001b[22m at \u001b[1m./task.jl:335\u001b[22m\u001b[22m\n",
      "while loading In[36], in expression starting on line 2\n",
      "\u001b[1m\u001b[33mWARNING: \u001b[39m\u001b[22m\u001b[33msort!(df, cols=cols) is deprecated, use sort!(df, cols) instead\u001b[39m\n",
      "Stacktrace:\n",
      " [1] \u001b[1mdepwarn\u001b[22m\u001b[22m\u001b[1m(\u001b[22m\u001b[22m::String, ::Symbol\u001b[1m)\u001b[22m\u001b[22m at \u001b[1m./deprecated.jl:70\u001b[22m\u001b[22m\n",
      " [2] \u001b[1m#sort!#220\u001b[22m\u001b[22m\u001b[1m(\u001b[22m\u001b[22m::Array{Symbol,1}, ::Void, ::Function, ::Function, ::Bool, ::Base.Order.ForwardOrdering, ::Function, ::DataFrames.DataFrame, ::Array{Any,1}\u001b[1m)\u001b[22m\u001b[22m at \u001b[1m/Users/biona001/.julia/v0.6/DataFrames/src/dataframe/sort.jl:74\u001b[22m\u001b[22m\n",
      " [3] \u001b[1m(::Base.#kw##sort!)\u001b[22m\u001b[22m\u001b[1m(\u001b[22m\u001b[22m::Array{Any,1}, ::Base.#sort!, ::DataFrames.DataFrame, ::Array{Any,1}\u001b[1m)\u001b[22m\u001b[22m at \u001b[1m./<missing>:0\u001b[22m\u001b[22m (repeats 2 times)\n",
      " [4] \u001b[1mgenedropping_option\u001b[22m\u001b[22m\u001b[1m(\u001b[22m\u001b[22m::MendelBase.Pedigree, ::MendelBase.Person, ::MendelBase.Locus, ::DataFrames.DataFrame, ::DataFrames.DataFrame, ::DataFrames.DataFrame, ::Dict{AbstractString,Any}\u001b[1m)\u001b[22m\u001b[22m at \u001b[1m/Users/biona001/.julia/v0.6/MendelGeneDropping/src/MendelGeneDropping.jl:173\u001b[22m\u001b[22m\n",
      " [5] \u001b[1m#GeneDropping#1\u001b[22m\u001b[22m\u001b[1m(\u001b[22m\u001b[22m::Array{Any,1}, ::Function, ::String\u001b[1m)\u001b[22m\u001b[22m at \u001b[1m/Users/biona001/.julia/v0.6/MendelGeneDropping/src/MendelGeneDropping.jl:77\u001b[22m\u001b[22m\n",
      " [6] \u001b[1mGeneDropping\u001b[22m\u001b[22m\u001b[1m(\u001b[22m\u001b[22m::String\u001b[1m)\u001b[22m\u001b[22m at \u001b[1m/Users/biona001/.julia/v0.6/MendelGeneDropping/src/MendelGeneDropping.jl:23\u001b[22m\u001b[22m\n",
      " [7] \u001b[1minclude_string\u001b[22m\u001b[22m\u001b[1m(\u001b[22m\u001b[22m::String, ::String\u001b[1m)\u001b[22m\u001b[22m at \u001b[1m./loading.jl:515\u001b[22m\u001b[22m\n",
      " [8] \u001b[1mexecute_request\u001b[22m\u001b[22m\u001b[1m(\u001b[22m\u001b[22m::ZMQ.Socket, ::IJulia.Msg\u001b[1m)\u001b[22m\u001b[22m at \u001b[1m/Users/biona001/.julia/v0.6/IJulia/src/execute_request.jl:158\u001b[22m\u001b[22m\n",
      " [9] \u001b[1m(::Compat.#inner#18{Array{Any,1},IJulia.#execute_request,Tuple{ZMQ.Socket,IJulia.Msg}})\u001b[22m\u001b[22m\u001b[1m(\u001b[22m\u001b[22m\u001b[1m)\u001b[22m\u001b[22m at \u001b[1m/Users/biona001/.julia/v0.6/Compat/src/Compat.jl:378\u001b[22m\u001b[22m\n",
      " [10] \u001b[1meventloop\u001b[22m\u001b[22m\u001b[1m(\u001b[22m\u001b[22m::ZMQ.Socket\u001b[1m)\u001b[22m\u001b[22m at \u001b[1m/Users/biona001/.julia/v0.6/IJulia/src/eventloop.jl:8\u001b[22m\u001b[22m\n",
      " [11] \u001b[1m(::IJulia.##14#17)\u001b[22m\u001b[22m\u001b[1m(\u001b[22m\u001b[22m\u001b[1m)\u001b[22m\u001b[22m at \u001b[1m./task.jl:335\u001b[22m\u001b[22m\n",
      "while loading In[36], in expression starting on line 2\n",
      "\u001b[1m\u001b[33mWARNING: \u001b[39m\u001b[22m\u001b[33msort!(df, cols=cols) is deprecated, use sort!(df, cols) instead\u001b[39m\n",
      "Stacktrace:\n",
      " [1] \u001b[1mdepwarn\u001b[22m\u001b[22m\u001b[1m(\u001b[22m\u001b[22m::String, ::Symbol\u001b[1m)\u001b[22m\u001b[22m at \u001b[1m./deprecated.jl:70\u001b[22m\u001b[22m\n",
      " [2] \u001b[1m#sort!#220\u001b[22m\u001b[22m\u001b[1m(\u001b[22m\u001b[22m::Array{Symbol,1}, ::Void, ::Function, ::Function, ::Bool, ::Base.Order.ForwardOrdering, ::Function, ::DataFrames.DataFrame, ::Array{Any,1}\u001b[1m)\u001b[22m\u001b[22m at \u001b[1m/Users/biona001/.julia/v0.6/DataFrames/src/dataframe/sort.jl:74\u001b[22m\u001b[22m\n",
      " [3] \u001b[1m(::Base.#kw##sort!)\u001b[22m\u001b[22m\u001b[1m(\u001b[22m\u001b[22m::Array{Any,1}, ::Base.#sort!, ::DataFrames.DataFrame, ::Array{Any,1}\u001b[1m)\u001b[22m\u001b[22m at \u001b[1m./<missing>:0\u001b[22m\u001b[22m (repeats 2 times)\n",
      " [4] \u001b[1mgenedropping_option\u001b[22m\u001b[22m\u001b[1m(\u001b[22m\u001b[22m::MendelBase.Pedigree, ::MendelBase.Person, ::MendelBase.Locus, ::DataFrames.DataFrame, ::DataFrames.DataFrame, ::DataFrames.DataFrame, ::Dict{AbstractString,Any}\u001b[1m)\u001b[22m\u001b[22m at \u001b[1m/Users/biona001/.julia/v0.6/MendelGeneDropping/src/MendelGeneDropping.jl:173\u001b[22m\u001b[22m\n",
      " [5] \u001b[1m#GeneDropping#1\u001b[22m\u001b[22m\u001b[1m(\u001b[22m\u001b[22m::Array{Any,1}, ::Function, ::String\u001b[1m)\u001b[22m\u001b[22m at \u001b[1m/Users/biona001/.julia/v0.6/MendelGeneDropping/src/MendelGeneDropping.jl:77\u001b[22m\u001b[22m\n",
      " [6] \u001b[1mGeneDropping\u001b[22m\u001b[22m\u001b[1m(\u001b[22m\u001b[22m::String\u001b[1m)\u001b[22m\u001b[22m at \u001b[1m/Users/biona001/.julia/v0.6/MendelGeneDropping/src/MendelGeneDropping.jl:23\u001b[22m\u001b[22m\n",
      " [7] \u001b[1minclude_string\u001b[22m\u001b[22m\u001b[1m(\u001b[22m\u001b[22m::String, ::String\u001b[1m)\u001b[22m\u001b[22m at \u001b[1m./loading.jl:515\u001b[22m\u001b[22m\n",
      " [8] \u001b[1mexecute_request\u001b[22m\u001b[22m\u001b[1m(\u001b[22m\u001b[22m::ZMQ.Socket, ::IJulia.Msg\u001b[1m)\u001b[22m\u001b[22m at \u001b[1m/Users/biona001/.julia/v0.6/IJulia/src/execute_request.jl:158\u001b[22m\u001b[22m\n",
      " [9] \u001b[1m(::Compat.#inner#18{Array{Any,1},IJulia.#execute_request,Tuple{ZMQ.Socket,IJulia.Msg}})\u001b[22m\u001b[22m\u001b[1m(\u001b[22m\u001b[22m\u001b[1m)\u001b[22m\u001b[22m at \u001b[1m/Users/biona001/.julia/v0.6/Compat/src/Compat.jl:378\u001b[22m\u001b[22m\n",
      " [10] \u001b[1meventloop\u001b[22m\u001b[22m\u001b[1m(\u001b[22m\u001b[22m::ZMQ.Socket\u001b[1m)\u001b[22m\u001b[22m at \u001b[1m/Users/biona001/.julia/v0.6/IJulia/src/eventloop.jl:8\u001b[22m\u001b[22m\n",
      " [11] \u001b[1m(::IJulia.##14#17)\u001b[22m\u001b[22m\u001b[1m(\u001b[22m\u001b[22m\u001b[1m)\u001b[22m\u001b[22m at \u001b[1m./task.jl:335\u001b[22m\u001b[22m\n",
      "while loading In[36], in expression starting on line 2\n",
      "\u001b[1m\u001b[33mWARNING: \u001b[39m\u001b[22m\u001b[33msort!(df, cols=cols) is deprecated, use sort!(df, cols) instead\u001b[39m\n",
      "Stacktrace:\n",
      " [1] \u001b[1mdepwarn\u001b[22m\u001b[22m\u001b[1m(\u001b[22m\u001b[22m::String, ::Symbol\u001b[1m)\u001b[22m\u001b[22m at \u001b[1m./deprecated.jl:70\u001b[22m\u001b[22m\n",
      " [2] \u001b[1m#sort!#220\u001b[22m\u001b[22m\u001b[1m(\u001b[22m\u001b[22m::Array{Symbol,1}, ::Void, ::Function, ::Function, ::Bool, ::Base.Order.ForwardOrdering, ::Function, ::DataFrames.DataFrame, ::Array{Any,1}\u001b[1m)\u001b[22m\u001b[22m at \u001b[1m/Users/biona001/.julia/v0.6/DataFrames/src/dataframe/sort.jl:74\u001b[22m\u001b[22m\n",
      " [3] \u001b[1m(::Base.#kw##sort!)\u001b[22m\u001b[22m\u001b[1m(\u001b[22m\u001b[22m::Array{Any,1}, ::Base.#sort!, ::DataFrames.DataFrame, ::Array{Any,1}\u001b[1m)\u001b[22m\u001b[22m at \u001b[1m./<missing>:0\u001b[22m\u001b[22m (repeats 2 times)\n",
      " [4] \u001b[1mgenedropping_option\u001b[22m\u001b[22m\u001b[1m(\u001b[22m\u001b[22m::MendelBase.Pedigree, ::MendelBase.Person, ::MendelBase.Locus, ::DataFrames.DataFrame, ::DataFrames.DataFrame, ::DataFrames.DataFrame, ::Dict{AbstractString,Any}\u001b[1m)\u001b[22m\u001b[22m at \u001b[1m/Users/biona001/.julia/v0.6/MendelGeneDropping/src/MendelGeneDropping.jl:173\u001b[22m\u001b[22m\n",
      " [5] \u001b[1m#GeneDropping#1\u001b[22m\u001b[22m\u001b[1m(\u001b[22m\u001b[22m::Array{Any,1}, ::Function, ::String\u001b[1m)\u001b[22m\u001b[22m at \u001b[1m/Users/biona001/.julia/v0.6/MendelGeneDropping/src/MendelGeneDropping.jl:77\u001b[22m\u001b[22m\n",
      " [6] \u001b[1mGeneDropping\u001b[22m\u001b[22m\u001b[1m(\u001b[22m\u001b[22m::String\u001b[1m)\u001b[22m\u001b[22m at \u001b[1m/Users/biona001/.julia/v0.6/MendelGeneDropping/src/MendelGeneDropping.jl:23\u001b[22m\u001b[22m\n",
      " [7] \u001b[1minclude_string\u001b[22m\u001b[22m\u001b[1m(\u001b[22m\u001b[22m::String, ::String\u001b[1m)\u001b[22m\u001b[22m at \u001b[1m./loading.jl:515\u001b[22m\u001b[22m\n",
      " [8] \u001b[1mexecute_request\u001b[22m\u001b[22m\u001b[1m(\u001b[22m\u001b[22m::ZMQ.Socket, ::IJulia.Msg\u001b[1m)\u001b[22m\u001b[22m at \u001b[1m/Users/biona001/.julia/v0.6/IJulia/src/execute_request.jl:158\u001b[22m\u001b[22m\n",
      " [9] \u001b[1m(::Compat.#inner#18{Array{Any,1},IJulia.#execute_request,Tuple{ZMQ.Socket,IJulia.Msg}})\u001b[22m\u001b[22m\u001b[1m(\u001b[22m\u001b[22m\u001b[1m)\u001b[22m\u001b[22m at \u001b[1m/Users/biona001/.julia/v0.6/Compat/src/Compat.jl:378\u001b[22m\u001b[22m\n",
      " [10] \u001b[1meventloop\u001b[22m\u001b[22m\u001b[1m(\u001b[22m\u001b[22m::ZMQ.Socket\u001b[1m)\u001b[22m\u001b[22m at \u001b[1m/Users/biona001/.julia/v0.6/IJulia/src/eventloop.jl:8\u001b[22m\u001b[22m\n",
      " [11] \u001b[1m(::IJulia.##14#17)\u001b[22m\u001b[22m\u001b[1m(\u001b[22m\u001b[22m\u001b[1m)\u001b[22m\u001b[22m at \u001b[1m./task.jl:335\u001b[22m\u001b[22m\n",
      "while loading In[36], in expression starting on line 2\n",
      "\u001b[1m\u001b[33mWARNING: \u001b[39m\u001b[22m\u001b[33msort!(df, cols=cols) is deprecated, use sort!(df, cols) instead\u001b[39m\n",
      "Stacktrace:\n",
      " [1] \u001b[1mdepwarn\u001b[22m\u001b[22m\u001b[1m(\u001b[22m\u001b[22m::String, ::Symbol\u001b[1m)\u001b[22m\u001b[22m at \u001b[1m./deprecated.jl:70\u001b[22m\u001b[22m\n",
      " [2] \u001b[1m#sort!#220\u001b[22m\u001b[22m\u001b[1m(\u001b[22m\u001b[22m::Array{Symbol,1}, ::Void, ::Function, ::Function, ::Bool, ::Base.Order.ForwardOrdering, ::Function, ::DataFrames.DataFrame, ::Array{Any,1}\u001b[1m)\u001b[22m\u001b[22m at \u001b[1m/Users/biona001/.julia/v0.6/DataFrames/src/dataframe/sort.jl:74\u001b[22m\u001b[22m\n",
      " [3] \u001b[1m(::Base.#kw##sort!)\u001b[22m\u001b[22m\u001b[1m(\u001b[22m\u001b[22m::Array{Any,1}, ::Base.#sort!, ::DataFrames.DataFrame, ::Array{Any,1}\u001b[1m)\u001b[22m\u001b[22m at \u001b[1m./<missing>:0\u001b[22m\u001b[22m (repeats 2 times)\n",
      " [4] \u001b[1mgenedropping_option\u001b[22m\u001b[22m\u001b[1m(\u001b[22m\u001b[22m::MendelBase.Pedigree, ::MendelBase.Person, ::MendelBase.Locus, ::DataFrames.DataFrame, ::DataFrames.DataFrame, ::DataFrames.DataFrame, ::Dict{AbstractString,Any}\u001b[1m)\u001b[22m\u001b[22m at \u001b[1m/Users/biona001/.julia/v0.6/MendelGeneDropping/src/MendelGeneDropping.jl:173\u001b[22m\u001b[22m\n",
      " [5] \u001b[1m#GeneDropping#1\u001b[22m\u001b[22m\u001b[1m(\u001b[22m\u001b[22m::Array{Any,1}, ::Function, ::String\u001b[1m)\u001b[22m\u001b[22m at \u001b[1m/Users/biona001/.julia/v0.6/MendelGeneDropping/src/MendelGeneDropping.jl:77\u001b[22m\u001b[22m\n",
      " [6] \u001b[1mGeneDropping\u001b[22m\u001b[22m\u001b[1m(\u001b[22m\u001b[22m::String\u001b[1m)\u001b[22m\u001b[22m at \u001b[1m/Users/biona001/.julia/v0.6/MendelGeneDropping/src/MendelGeneDropping.jl:23\u001b[22m\u001b[22m\n",
      " [7] \u001b[1minclude_string\u001b[22m\u001b[22m\u001b[1m(\u001b[22m\u001b[22m::String, ::String\u001b[1m)\u001b[22m\u001b[22m at \u001b[1m./loading.jl:515\u001b[22m\u001b[22m\n",
      " [8] \u001b[1mexecute_request\u001b[22m\u001b[22m\u001b[1m(\u001b[22m\u001b[22m::ZMQ.Socket, ::IJulia.Msg\u001b[1m)\u001b[22m\u001b[22m at \u001b[1m/Users/biona001/.julia/v0.6/IJulia/src/execute_request.jl:158\u001b[22m\u001b[22m\n",
      " [9] \u001b[1m(::Compat.#inner#18{Array{Any,1},IJulia.#execute_request,Tuple{ZMQ.Socket,IJulia.Msg}})\u001b[22m\u001b[22m\u001b[1m(\u001b[22m\u001b[22m\u001b[1m)\u001b[22m\u001b[22m at \u001b[1m/Users/biona001/.julia/v0.6/Compat/src/Compat.jl:378\u001b[22m\u001b[22m\n",
      " [10] \u001b[1meventloop\u001b[22m\u001b[22m\u001b[1m(\u001b[22m\u001b[22m::ZMQ.Socket\u001b[1m)\u001b[22m\u001b[22m at \u001b[1m/Users/biona001/.julia/v0.6/IJulia/src/eventloop.jl:8\u001b[22m\u001b[22m\n",
      " [11] \u001b[1m(::IJulia.##14#17)\u001b[22m\u001b[22m\u001b[1m(\u001b[22m\u001b[22m\u001b[1m)\u001b[22m\u001b[22m at \u001b[1m./task.jl:335\u001b[22m\u001b[22m\n",
      "while loading In[36], in expression starting on line 2\n",
      "\u001b[1m\u001b[33mWARNING: \u001b[39m\u001b[22m\u001b[33msort!(df, cols=cols) is deprecated, use sort!(df, cols) instead\u001b[39m\n",
      "Stacktrace:\n",
      " [1] \u001b[1mdepwarn\u001b[22m\u001b[22m\u001b[1m(\u001b[22m\u001b[22m::String, ::Symbol\u001b[1m)\u001b[22m\u001b[22m at \u001b[1m./deprecated.jl:70\u001b[22m\u001b[22m\n",
      " [2] \u001b[1m#sort!#220\u001b[22m\u001b[22m\u001b[1m(\u001b[22m\u001b[22m::Array{Symbol,1}, ::Void, ::Function, ::Function, ::Bool, ::Base.Order.ForwardOrdering, ::Function, ::DataFrames.DataFrame, ::Array{Any,1}\u001b[1m)\u001b[22m\u001b[22m at \u001b[1m/Users/biona001/.julia/v0.6/DataFrames/src/dataframe/sort.jl:74\u001b[22m\u001b[22m\n",
      " [3] \u001b[1m(::Base.#kw##sort!)\u001b[22m\u001b[22m\u001b[1m(\u001b[22m\u001b[22m::Array{Any,1}, ::Base.#sort!, ::DataFrames.DataFrame, ::Array{Any,1}\u001b[1m)\u001b[22m\u001b[22m at \u001b[1m./<missing>:0\u001b[22m\u001b[22m (repeats 2 times)\n",
      " [4] \u001b[1mgenedropping_option\u001b[22m\u001b[22m\u001b[1m(\u001b[22m\u001b[22m::MendelBase.Pedigree, ::MendelBase.Person, ::MendelBase.Locus, ::DataFrames.DataFrame, ::DataFrames.DataFrame, ::DataFrames.DataFrame, ::Dict{AbstractString,Any}\u001b[1m)\u001b[22m\u001b[22m at \u001b[1m/Users/biona001/.julia/v0.6/MendelGeneDropping/src/MendelGeneDropping.jl:173\u001b[22m\u001b[22m\n",
      " [5] \u001b[1m#GeneDropping#1\u001b[22m\u001b[22m\u001b[1m(\u001b[22m\u001b[22m::Array{Any,1}, ::Function, ::String\u001b[1m)\u001b[22m\u001b[22m at \u001b[1m/Users/biona001/.julia/v0.6/MendelGeneDropping/src/MendelGeneDropping.jl:77\u001b[22m\u001b[22m\n",
      " [6] \u001b[1mGeneDropping\u001b[22m\u001b[22m\u001b[1m(\u001b[22m\u001b[22m::String\u001b[1m)\u001b[22m\u001b[22m at \u001b[1m/Users/biona001/.julia/v0.6/MendelGeneDropping/src/MendelGeneDropping.jl:23\u001b[22m\u001b[22m\n",
      " [7] \u001b[1minclude_string\u001b[22m\u001b[22m\u001b[1m(\u001b[22m\u001b[22m::String, ::String\u001b[1m)\u001b[22m\u001b[22m at \u001b[1m./loading.jl:515\u001b[22m\u001b[22m\n",
      " [8] \u001b[1mexecute_request\u001b[22m\u001b[22m\u001b[1m(\u001b[22m\u001b[22m::ZMQ.Socket, ::IJulia.Msg\u001b[1m)\u001b[22m\u001b[22m at \u001b[1m/Users/biona001/.julia/v0.6/IJulia/src/execute_request.jl:158\u001b[22m\u001b[22m\n",
      " [9] \u001b[1m(::Compat.#inner#18{Array{Any,1},IJulia.#execute_request,Tuple{ZMQ.Socket,IJulia.Msg}})\u001b[22m\u001b[22m\u001b[1m(\u001b[22m\u001b[22m\u001b[1m)\u001b[22m\u001b[22m at \u001b[1m/Users/biona001/.julia/v0.6/Compat/src/Compat.jl:378\u001b[22m\u001b[22m\n",
      " [10] \u001b[1meventloop\u001b[22m\u001b[22m\u001b[1m(\u001b[22m\u001b[22m::ZMQ.Socket\u001b[1m)\u001b[22m\u001b[22m at \u001b[1m/Users/biona001/.julia/v0.6/IJulia/src/eventloop.jl:8\u001b[22m\u001b[22m\n",
      " [11] \u001b[1m(::IJulia.##14#17)\u001b[22m\u001b[22m\u001b[1m(\u001b[22m\u001b[22m\u001b[1m)\u001b[22m\u001b[22m at \u001b[1m./task.jl:335\u001b[22m\u001b[22m\n",
      "while loading In[36], in expression starting on line 2\n",
      "\u001b[1m\u001b[33mWARNING: \u001b[39m\u001b[22m\u001b[33msort!(df, cols=cols) is deprecated, use sort!(df, cols) instead\u001b[39m\n",
      "Stacktrace:\n",
      " [1] \u001b[1mdepwarn\u001b[22m\u001b[22m\u001b[1m(\u001b[22m\u001b[22m::String, ::Symbol\u001b[1m)\u001b[22m\u001b[22m at \u001b[1m./deprecated.jl:70\u001b[22m\u001b[22m\n",
      " [2] \u001b[1m#sort!#220\u001b[22m\u001b[22m\u001b[1m(\u001b[22m\u001b[22m::Array{Symbol,1}, ::Void, ::Function, ::Function, ::Bool, ::Base.Order.ForwardOrdering, ::Function, ::DataFrames.DataFrame, ::Array{Any,1}\u001b[1m)\u001b[22m\u001b[22m at \u001b[1m/Users/biona001/.julia/v0.6/DataFrames/src/dataframe/sort.jl:74\u001b[22m\u001b[22m\n",
      " [3] \u001b[1m(::Base.#kw##sort!)\u001b[22m\u001b[22m\u001b[1m(\u001b[22m\u001b[22m::Array{Any,1}, ::Base.#sort!, ::DataFrames.DataFrame, ::Array{Any,1}\u001b[1m)\u001b[22m\u001b[22m at \u001b[1m./<missing>:0\u001b[22m\u001b[22m (repeats 2 times)\n",
      " [4] \u001b[1mgenedropping_option\u001b[22m\u001b[22m\u001b[1m(\u001b[22m\u001b[22m::MendelBase.Pedigree, ::MendelBase.Person, ::MendelBase.Locus, ::DataFrames.DataFrame, ::DataFrames.DataFrame, ::DataFrames.DataFrame, ::Dict{AbstractString,Any}\u001b[1m)\u001b[22m\u001b[22m at \u001b[1m/Users/biona001/.julia/v0.6/MendelGeneDropping/src/MendelGeneDropping.jl:173\u001b[22m\u001b[22m\n",
      " [5] \u001b[1m#GeneDropping#1\u001b[22m\u001b[22m\u001b[1m(\u001b[22m\u001b[22m::Array{Any,1}, ::Function, ::String\u001b[1m)\u001b[22m\u001b[22m at \u001b[1m/Users/biona001/.julia/v0.6/MendelGeneDropping/src/MendelGeneDropping.jl:77\u001b[22m\u001b[22m\n",
      " [6] \u001b[1mGeneDropping\u001b[22m\u001b[22m\u001b[1m(\u001b[22m\u001b[22m::String\u001b[1m)\u001b[22m\u001b[22m at \u001b[1m/Users/biona001/.julia/v0.6/MendelGeneDropping/src/MendelGeneDropping.jl:23\u001b[22m\u001b[22m\n",
      " [7] \u001b[1minclude_string\u001b[22m\u001b[22m\u001b[1m(\u001b[22m\u001b[22m::String, ::String\u001b[1m)\u001b[22m\u001b[22m at \u001b[1m./loading.jl:515\u001b[22m\u001b[22m\n",
      " [8] \u001b[1mexecute_request\u001b[22m\u001b[22m\u001b[1m(\u001b[22m\u001b[22m::ZMQ.Socket, ::IJulia.Msg\u001b[1m)\u001b[22m\u001b[22m at \u001b[1m/Users/biona001/.julia/v0.6/IJulia/src/execute_request.jl:158\u001b[22m\u001b[22m\n",
      " [9] \u001b[1m(::Compat.#inner#18{Array{Any,1},IJulia.#execute_request,Tuple{ZMQ.Socket,IJulia.Msg}})\u001b[22m\u001b[22m\u001b[1m(\u001b[22m\u001b[22m\u001b[1m)\u001b[22m\u001b[22m at \u001b[1m/Users/biona001/.julia/v0.6/Compat/src/Compat.jl:378\u001b[22m\u001b[22m\n",
      " [10] \u001b[1meventloop\u001b[22m\u001b[22m\u001b[1m(\u001b[22m\u001b[22m::ZMQ.Socket\u001b[1m)\u001b[22m\u001b[22m at \u001b[1m/Users/biona001/.julia/v0.6/IJulia/src/eventloop.jl:8\u001b[22m\u001b[22m\n",
      " [11] \u001b[1m(::IJulia.##14#17)\u001b[22m\u001b[22m\u001b[1m(\u001b[22m\u001b[22m\u001b[1m)\u001b[22m\u001b[22m at \u001b[1m./task.jl:335\u001b[22m\u001b[22m\n",
      "while loading In[36], in expression starting on line 2\n",
      "\u001b[1m\u001b[33mWARNING: \u001b[39m\u001b[22m\u001b[33msort!(df, cols=cols) is deprecated, use sort!(df, cols) instead\u001b[39m\n",
      "Stacktrace:\n",
      " [1] \u001b[1mdepwarn\u001b[22m\u001b[22m\u001b[1m(\u001b[22m\u001b[22m::String, ::Symbol\u001b[1m)\u001b[22m\u001b[22m at \u001b[1m./deprecated.jl:70\u001b[22m\u001b[22m\n",
      " [2] \u001b[1m#sort!#220\u001b[22m\u001b[22m\u001b[1m(\u001b[22m\u001b[22m::Array{Symbol,1}, ::Void, ::Function, ::Function, ::Bool, ::Base.Order.ForwardOrdering, ::Function, ::DataFrames.DataFrame, ::Array{Any,1}\u001b[1m)\u001b[22m\u001b[22m at \u001b[1m/Users/biona001/.julia/v0.6/DataFrames/src/dataframe/sort.jl:74\u001b[22m\u001b[22m\n",
      " [3] \u001b[1m(::Base.#kw##sort!)\u001b[22m\u001b[22m\u001b[1m(\u001b[22m\u001b[22m::Array{Any,1}, ::Base.#sort!, ::DataFrames.DataFrame, ::Array{Any,1}\u001b[1m)\u001b[22m\u001b[22m at \u001b[1m./<missing>:0\u001b[22m\u001b[22m (repeats 2 times)\n",
      " [4] \u001b[1mgenedropping_option\u001b[22m\u001b[22m\u001b[1m(\u001b[22m\u001b[22m::MendelBase.Pedigree, ::MendelBase.Person, ::MendelBase.Locus, ::DataFrames.DataFrame, ::DataFrames.DataFrame, ::DataFrames.DataFrame, ::Dict{AbstractString,Any}\u001b[1m)\u001b[22m\u001b[22m at \u001b[1m/Users/biona001/.julia/v0.6/MendelGeneDropping/src/MendelGeneDropping.jl:173\u001b[22m\u001b[22m\n",
      " [5] \u001b[1m#GeneDropping#1\u001b[22m\u001b[22m\u001b[1m(\u001b[22m\u001b[22m::Array{Any,1}, ::Function, ::String\u001b[1m)\u001b[22m\u001b[22m at \u001b[1m/Users/biona001/.julia/v0.6/MendelGeneDropping/src/MendelGeneDropping.jl:77\u001b[22m\u001b[22m\n",
      " [6] \u001b[1mGeneDropping\u001b[22m\u001b[22m\u001b[1m(\u001b[22m\u001b[22m::String\u001b[1m)\u001b[22m\u001b[22m at \u001b[1m/Users/biona001/.julia/v0.6/MendelGeneDropping/src/MendelGeneDropping.jl:23\u001b[22m\u001b[22m\n",
      " [7] \u001b[1minclude_string\u001b[22m\u001b[22m\u001b[1m(\u001b[22m\u001b[22m::String, ::String\u001b[1m)\u001b[22m\u001b[22m at \u001b[1m./loading.jl:515\u001b[22m\u001b[22m\n",
      " [8] \u001b[1mexecute_request\u001b[22m\u001b[22m\u001b[1m(\u001b[22m\u001b[22m::ZMQ.Socket, ::IJulia.Msg\u001b[1m)\u001b[22m\u001b[22m at \u001b[1m/Users/biona001/.julia/v0.6/IJulia/src/execute_request.jl:158\u001b[22m\u001b[22m\n",
      " [9] \u001b[1m(::Compat.#inner#18{Array{Any,1},IJulia.#execute_request,Tuple{ZMQ.Socket,IJulia.Msg}})\u001b[22m\u001b[22m\u001b[1m(\u001b[22m\u001b[22m\u001b[1m)\u001b[22m\u001b[22m at \u001b[1m/Users/biona001/.julia/v0.6/Compat/src/Compat.jl:378\u001b[22m\u001b[22m\n",
      " [10] \u001b[1meventloop\u001b[22m\u001b[22m\u001b[1m(\u001b[22m\u001b[22m::ZMQ.Socket\u001b[1m)\u001b[22m\u001b[22m at \u001b[1m/Users/biona001/.julia/v0.6/IJulia/src/eventloop.jl:8\u001b[22m\u001b[22m\n",
      " [11] \u001b[1m(::IJulia.##14#17)\u001b[22m\u001b[22m\u001b[1m(\u001b[22m\u001b[22m\u001b[1m)\u001b[22m\u001b[22m at \u001b[1m./task.jl:335\u001b[22m\u001b[22m\n",
      "while loading In[36], in expression starting on line 2\n",
      "\u001b[1m\u001b[33mWARNING: \u001b[39m\u001b[22m\u001b[33msort!(df, cols=cols) is deprecated, use sort!(df, cols) instead\u001b[39m\n",
      "Stacktrace:\n",
      " [1] \u001b[1mdepwarn\u001b[22m\u001b[22m\u001b[1m(\u001b[22m\u001b[22m::String, ::Symbol\u001b[1m)\u001b[22m\u001b[22m at \u001b[1m./deprecated.jl:70\u001b[22m\u001b[22m\n",
      " [2] \u001b[1m#sort!#220\u001b[22m\u001b[22m\u001b[1m(\u001b[22m\u001b[22m::Array{Symbol,1}, ::Void, ::Function, ::Function, ::Bool, ::Base.Order.ForwardOrdering, ::Function, ::DataFrames.DataFrame, ::Array{Any,1}\u001b[1m)\u001b[22m\u001b[22m at \u001b[1m/Users/biona001/.julia/v0.6/DataFrames/src/dataframe/sort.jl:74\u001b[22m\u001b[22m\n",
      " [3] \u001b[1m(::Base.#kw##sort!)\u001b[22m\u001b[22m\u001b[1m(\u001b[22m\u001b[22m::Array{Any,1}, ::Base.#sort!, ::DataFrames.DataFrame, ::Array{Any,1}\u001b[1m)\u001b[22m\u001b[22m at \u001b[1m./<missing>:0\u001b[22m\u001b[22m (repeats 2 times)\n",
      " [4] \u001b[1mgenedropping_option\u001b[22m\u001b[22m\u001b[1m(\u001b[22m\u001b[22m::MendelBase.Pedigree, ::MendelBase.Person, ::MendelBase.Locus, ::DataFrames.DataFrame, ::DataFrames.DataFrame, ::DataFrames.DataFrame, ::Dict{AbstractString,Any}\u001b[1m)\u001b[22m\u001b[22m at \u001b[1m/Users/biona001/.julia/v0.6/MendelGeneDropping/src/MendelGeneDropping.jl:173\u001b[22m\u001b[22m\n",
      " [5] \u001b[1m#GeneDropping#1\u001b[22m\u001b[22m\u001b[1m(\u001b[22m\u001b[22m::Array{Any,1}, ::Function, ::String\u001b[1m)\u001b[22m\u001b[22m at \u001b[1m/Users/biona001/.julia/v0.6/MendelGeneDropping/src/MendelGeneDropping.jl:77\u001b[22m\u001b[22m\n",
      " [6] \u001b[1mGeneDropping\u001b[22m\u001b[22m\u001b[1m(\u001b[22m\u001b[22m::String\u001b[1m)\u001b[22m\u001b[22m at \u001b[1m/Users/biona001/.julia/v0.6/MendelGeneDropping/src/MendelGeneDropping.jl:23\u001b[22m\u001b[22m\n",
      " [7] \u001b[1minclude_string\u001b[22m\u001b[22m\u001b[1m(\u001b[22m\u001b[22m::String, ::String\u001b[1m)\u001b[22m\u001b[22m at \u001b[1m./loading.jl:515\u001b[22m\u001b[22m\n",
      " [8] \u001b[1mexecute_request\u001b[22m\u001b[22m\u001b[1m(\u001b[22m\u001b[22m::ZMQ.Socket, ::IJulia.Msg\u001b[1m)\u001b[22m\u001b[22m at \u001b[1m/Users/biona001/.julia/v0.6/IJulia/src/execute_request.jl:158\u001b[22m\u001b[22m\n",
      " [9] \u001b[1m(::Compat.#inner#18{Array{Any,1},IJulia.#execute_request,Tuple{ZMQ.Socket,IJulia.Msg}})\u001b[22m\u001b[22m\u001b[1m(\u001b[22m\u001b[22m\u001b[1m)\u001b[22m\u001b[22m at \u001b[1m/Users/biona001/.julia/v0.6/Compat/src/Compat.jl:378\u001b[22m\u001b[22m\n",
      " [10] \u001b[1meventloop\u001b[22m\u001b[22m\u001b[1m(\u001b[22m\u001b[22m::ZMQ.Socket\u001b[1m)\u001b[22m\u001b[22m at \u001b[1m/Users/biona001/.julia/v0.6/IJulia/src/eventloop.jl:8\u001b[22m\u001b[22m\n",
      " [11] \u001b[1m(::IJulia.##14#17)\u001b[22m\u001b[22m\u001b[1m(\u001b[22m\u001b[22m\u001b[1m)\u001b[22m\u001b[22m at \u001b[1m./task.jl:335\u001b[22m\u001b[22m\n",
      "while loading In[36], in expression starting on line 2\n",
      "\u001b[1m\u001b[33mWARNING: \u001b[39m\u001b[22m\u001b[33msort!(df, cols=cols) is deprecated, use sort!(df, cols) instead\u001b[39m\n",
      "Stacktrace:\n",
      " [1] \u001b[1mdepwarn\u001b[22m\u001b[22m\u001b[1m(\u001b[22m\u001b[22m::String, ::Symbol\u001b[1m)\u001b[22m\u001b[22m at \u001b[1m./deprecated.jl:70\u001b[22m\u001b[22m\n",
      " [2] \u001b[1m#sort!#220\u001b[22m\u001b[22m\u001b[1m(\u001b[22m\u001b[22m::Array{Symbol,1}, ::Void, ::Function, ::Function, ::Bool, ::Base.Order.ForwardOrdering, ::Function, ::DataFrames.DataFrame, ::Array{Any,1}\u001b[1m)\u001b[22m\u001b[22m at \u001b[1m/Users/biona001/.julia/v0.6/DataFrames/src/dataframe/sort.jl:74\u001b[22m\u001b[22m\n",
      " [3] \u001b[1m(::Base.#kw##sort!)\u001b[22m\u001b[22m\u001b[1m(\u001b[22m\u001b[22m::Array{Any,1}, ::Base.#sort!, ::DataFrames.DataFrame, ::Array{Any,1}\u001b[1m)\u001b[22m\u001b[22m at \u001b[1m./<missing>:0\u001b[22m\u001b[22m (repeats 2 times)\n",
      " [4] \u001b[1mgenedropping_option\u001b[22m\u001b[22m\u001b[1m(\u001b[22m\u001b[22m::MendelBase.Pedigree, ::MendelBase.Person, ::MendelBase.Locus, ::DataFrames.DataFrame, ::DataFrames.DataFrame, ::DataFrames.DataFrame, ::Dict{AbstractString,Any}\u001b[1m)\u001b[22m\u001b[22m at \u001b[1m/Users/biona001/.julia/v0.6/MendelGeneDropping/src/MendelGeneDropping.jl:173\u001b[22m\u001b[22m\n",
      " [5] \u001b[1m#GeneDropping#1\u001b[22m\u001b[22m\u001b[1m(\u001b[22m\u001b[22m::Array{Any,1}, ::Function, ::String\u001b[1m)\u001b[22m\u001b[22m at \u001b[1m/Users/biona001/.julia/v0.6/MendelGeneDropping/src/MendelGeneDropping.jl:77\u001b[22m\u001b[22m\n",
      " [6] \u001b[1mGeneDropping\u001b[22m\u001b[22m\u001b[1m(\u001b[22m\u001b[22m::String\u001b[1m)\u001b[22m\u001b[22m at \u001b[1m/Users/biona001/.julia/v0.6/MendelGeneDropping/src/MendelGeneDropping.jl:23\u001b[22m\u001b[22m\n",
      " [7] \u001b[1minclude_string\u001b[22m\u001b[22m\u001b[1m(\u001b[22m\u001b[22m::String, ::String\u001b[1m)\u001b[22m\u001b[22m at \u001b[1m./loading.jl:515\u001b[22m\u001b[22m\n",
      " [8] \u001b[1mexecute_request\u001b[22m\u001b[22m\u001b[1m(\u001b[22m\u001b[22m::ZMQ.Socket, ::IJulia.Msg\u001b[1m)\u001b[22m\u001b[22m at \u001b[1m/Users/biona001/.julia/v0.6/IJulia/src/execute_request.jl:158\u001b[22m\u001b[22m\n",
      " [9] \u001b[1m(::Compat.#inner#18{Array{Any,1},IJulia.#execute_request,Tuple{ZMQ.Socket,IJulia.Msg}})\u001b[22m\u001b[22m\u001b[1m(\u001b[22m\u001b[22m\u001b[1m)\u001b[22m\u001b[22m at \u001b[1m/Users/biona001/.julia/v0.6/Compat/src/Compat.jl:378\u001b[22m\u001b[22m\n",
      " [10] \u001b[1meventloop\u001b[22m\u001b[22m\u001b[1m(\u001b[22m\u001b[22m::ZMQ.Socket\u001b[1m)\u001b[22m\u001b[22m at \u001b[1m/Users/biona001/.julia/v0.6/IJulia/src/eventloop.jl:8\u001b[22m\u001b[22m\n",
      " [11] \u001b[1m(::IJulia.##14#17)\u001b[22m\u001b[22m\u001b[1m(\u001b[22m\u001b[22m\u001b[1m)\u001b[22m\u001b[22m at \u001b[1m./task.jl:335\u001b[22m\u001b[22m\n",
      "while loading In[36], in expression starting on line 2\n",
      "\u001b[1m\u001b[33mWARNING: \u001b[39m\u001b[22m\u001b[33msort!(df, cols=cols) is deprecated, use sort!(df, cols) instead\u001b[39m\n",
      "Stacktrace:\n",
      " [1] \u001b[1mdepwarn\u001b[22m\u001b[22m\u001b[1m(\u001b[22m\u001b[22m::String, ::Symbol\u001b[1m)\u001b[22m\u001b[22m at \u001b[1m./deprecated.jl:70\u001b[22m\u001b[22m\n",
      " [2] \u001b[1m#sort!#220\u001b[22m\u001b[22m\u001b[1m(\u001b[22m\u001b[22m::Array{Symbol,1}, ::Void, ::Function, ::Function, ::Bool, ::Base.Order.ForwardOrdering, ::Function, ::DataFrames.DataFrame, ::Array{Any,1}\u001b[1m)\u001b[22m\u001b[22m at \u001b[1m/Users/biona001/.julia/v0.6/DataFrames/src/dataframe/sort.jl:74\u001b[22m\u001b[22m\n",
      " [3] \u001b[1m(::Base.#kw##sort!)\u001b[22m\u001b[22m\u001b[1m(\u001b[22m\u001b[22m::Array{Any,1}, ::Base.#sort!, ::DataFrames.DataFrame, ::Array{Any,1}\u001b[1m)\u001b[22m\u001b[22m at \u001b[1m./<missing>:0\u001b[22m\u001b[22m (repeats 2 times)\n",
      " [4] \u001b[1mgenedropping_option\u001b[22m\u001b[22m\u001b[1m(\u001b[22m\u001b[22m::MendelBase.Pedigree, ::MendelBase.Person, ::MendelBase.Locus, ::DataFrames.DataFrame, ::DataFrames.DataFrame, ::DataFrames.DataFrame, ::Dict{AbstractString,Any}\u001b[1m)\u001b[22m\u001b[22m at \u001b[1m/Users/biona001/.julia/v0.6/MendelGeneDropping/src/MendelGeneDropping.jl:173\u001b[22m\u001b[22m\n",
      " [5] \u001b[1m#GeneDropping#1\u001b[22m\u001b[22m\u001b[1m(\u001b[22m\u001b[22m::Array{Any,1}, ::Function, ::String\u001b[1m)\u001b[22m\u001b[22m at \u001b[1m/Users/biona001/.julia/v0.6/MendelGeneDropping/src/MendelGeneDropping.jl:77\u001b[22m\u001b[22m\n",
      " [6] \u001b[1mGeneDropping\u001b[22m\u001b[22m\u001b[1m(\u001b[22m\u001b[22m::String\u001b[1m)\u001b[22m\u001b[22m at \u001b[1m/Users/biona001/.julia/v0.6/MendelGeneDropping/src/MendelGeneDropping.jl:23\u001b[22m\u001b[22m\n",
      " [7] \u001b[1minclude_string\u001b[22m\u001b[22m\u001b[1m(\u001b[22m\u001b[22m::String, ::String\u001b[1m)\u001b[22m\u001b[22m at \u001b[1m./loading.jl:515\u001b[22m\u001b[22m\n",
      " [8] \u001b[1mexecute_request\u001b[22m\u001b[22m\u001b[1m(\u001b[22m\u001b[22m::ZMQ.Socket, ::IJulia.Msg\u001b[1m)\u001b[22m\u001b[22m at \u001b[1m/Users/biona001/.julia/v0.6/IJulia/src/execute_request.jl:158\u001b[22m\u001b[22m\n",
      " [9] \u001b[1m(::Compat.#inner#18{Array{Any,1},IJulia.#execute_request,Tuple{ZMQ.Socket,IJulia.Msg}})\u001b[22m\u001b[22m\u001b[1m(\u001b[22m\u001b[22m\u001b[1m)\u001b[22m\u001b[22m at \u001b[1m/Users/biona001/.julia/v0.6/Compat/src/Compat.jl:378\u001b[22m\u001b[22m\n",
      " [10] \u001b[1meventloop\u001b[22m\u001b[22m\u001b[1m(\u001b[22m\u001b[22m::ZMQ.Socket\u001b[1m)\u001b[22m\u001b[22m at \u001b[1m/Users/biona001/.julia/v0.6/IJulia/src/eventloop.jl:8\u001b[22m\u001b[22m\n",
      " [11] \u001b[1m(::IJulia.##14#17)\u001b[22m\u001b[22m\u001b[1m(\u001b[22m\u001b[22m\u001b[1m)\u001b[22m\u001b[22m at \u001b[1m./task.jl:335\u001b[22m\u001b[22m\n",
      "while loading In[36], in expression starting on line 2\n",
      "\u001b[1m\u001b[33mWARNING: \u001b[39m\u001b[22m\u001b[33msort!(df, cols=cols) is deprecated, use sort!(df, cols) instead\u001b[39m\n",
      "Stacktrace:\n",
      " [1] \u001b[1mdepwarn\u001b[22m\u001b[22m\u001b[1m(\u001b[22m\u001b[22m::String, ::Symbol\u001b[1m)\u001b[22m\u001b[22m at \u001b[1m./deprecated.jl:70\u001b[22m\u001b[22m\n",
      " [2] \u001b[1m#sort!#220\u001b[22m\u001b[22m\u001b[1m(\u001b[22m\u001b[22m::Array{Symbol,1}, ::Void, ::Function, ::Function, ::Bool, ::Base.Order.ForwardOrdering, ::Function, ::DataFrames.DataFrame, ::Array{Any,1}\u001b[1m)\u001b[22m\u001b[22m at \u001b[1m/Users/biona001/.julia/v0.6/DataFrames/src/dataframe/sort.jl:74\u001b[22m\u001b[22m\n",
      " [3] \u001b[1m(::Base.#kw##sort!)\u001b[22m\u001b[22m\u001b[1m(\u001b[22m\u001b[22m::Array{Any,1}, ::Base.#sort!, ::DataFrames.DataFrame, ::Array{Any,1}\u001b[1m)\u001b[22m\u001b[22m at \u001b[1m./<missing>:0\u001b[22m\u001b[22m (repeats 2 times)\n",
      " [4] \u001b[1mgenedropping_option\u001b[22m\u001b[22m\u001b[1m(\u001b[22m\u001b[22m::MendelBase.Pedigree, ::MendelBase.Person, ::MendelBase.Locus, ::DataFrames.DataFrame, ::DataFrames.DataFrame, ::DataFrames.DataFrame, ::Dict{AbstractString,Any}\u001b[1m)\u001b[22m\u001b[22m at \u001b[1m/Users/biona001/.julia/v0.6/MendelGeneDropping/src/MendelGeneDropping.jl:173\u001b[22m\u001b[22m\n",
      " [5] \u001b[1m#GeneDropping#1\u001b[22m\u001b[22m\u001b[1m(\u001b[22m\u001b[22m::Array{Any,1}, ::Function, ::String\u001b[1m)\u001b[22m\u001b[22m at \u001b[1m/Users/biona001/.julia/v0.6/MendelGeneDropping/src/MendelGeneDropping.jl:77\u001b[22m\u001b[22m\n",
      " [6] \u001b[1mGeneDropping\u001b[22m\u001b[22m\u001b[1m(\u001b[22m\u001b[22m::String\u001b[1m)\u001b[22m\u001b[22m at \u001b[1m/Users/biona001/.julia/v0.6/MendelGeneDropping/src/MendelGeneDropping.jl:23\u001b[22m\u001b[22m\n",
      " [7] \u001b[1minclude_string\u001b[22m\u001b[22m\u001b[1m(\u001b[22m\u001b[22m::String, ::String\u001b[1m)\u001b[22m\u001b[22m at \u001b[1m./loading.jl:515\u001b[22m\u001b[22m\n",
      " [8] \u001b[1mexecute_request\u001b[22m\u001b[22m\u001b[1m(\u001b[22m\u001b[22m::ZMQ.Socket, ::IJulia.Msg\u001b[1m)\u001b[22m\u001b[22m at \u001b[1m/Users/biona001/.julia/v0.6/IJulia/src/execute_request.jl:158\u001b[22m\u001b[22m\n",
      " [9] \u001b[1m(::Compat.#inner#18{Array{Any,1},IJulia.#execute_request,Tuple{ZMQ.Socket,IJulia.Msg}})\u001b[22m\u001b[22m\u001b[1m(\u001b[22m\u001b[22m\u001b[1m)\u001b[22m\u001b[22m at \u001b[1m/Users/biona001/.julia/v0.6/Compat/src/Compat.jl:378\u001b[22m\u001b[22m\n",
      " [10] \u001b[1meventloop\u001b[22m\u001b[22m\u001b[1m(\u001b[22m\u001b[22m::ZMQ.Socket\u001b[1m)\u001b[22m\u001b[22m at \u001b[1m/Users/biona001/.julia/v0.6/IJulia/src/eventloop.jl:8\u001b[22m\u001b[22m\n",
      " [11] \u001b[1m(::IJulia.##14#17)\u001b[22m\u001b[22m\u001b[1m(\u001b[22m\u001b[22m\u001b[1m)\u001b[22m\u001b[22m at \u001b[1m./task.jl:335\u001b[22m\u001b[22m\n",
      "while loading In[36], in expression starting on line 2\n",
      "\u001b[1m\u001b[33mWARNING: \u001b[39m\u001b[22m\u001b[33msort!(df, cols=cols) is deprecated, use sort!(df, cols) instead\u001b[39m\n",
      "Stacktrace:\n",
      " [1] \u001b[1mdepwarn\u001b[22m\u001b[22m\u001b[1m(\u001b[22m\u001b[22m::String, ::Symbol\u001b[1m)\u001b[22m\u001b[22m at \u001b[1m./deprecated.jl:70\u001b[22m\u001b[22m\n",
      " [2] \u001b[1m#sort!#220\u001b[22m\u001b[22m\u001b[1m(\u001b[22m\u001b[22m::Array{Symbol,1}, ::Void, ::Function, ::Function, ::Bool, ::Base.Order.ForwardOrdering, ::Function, ::DataFrames.DataFrame, ::Array{Any,1}\u001b[1m)\u001b[22m\u001b[22m at \u001b[1m/Users/biona001/.julia/v0.6/DataFrames/src/dataframe/sort.jl:74\u001b[22m\u001b[22m\n",
      " [3] \u001b[1m(::Base.#kw##sort!)\u001b[22m\u001b[22m\u001b[1m(\u001b[22m\u001b[22m::Array{Any,1}, ::Base.#sort!, ::DataFrames.DataFrame, ::Array{Any,1}\u001b[1m)\u001b[22m\u001b[22m at \u001b[1m./<missing>:0\u001b[22m\u001b[22m (repeats 2 times)\n",
      " [4] \u001b[1mgenedropping_option\u001b[22m\u001b[22m\u001b[1m(\u001b[22m\u001b[22m::MendelBase.Pedigree, ::MendelBase.Person, ::MendelBase.Locus, ::DataFrames.DataFrame, ::DataFrames.DataFrame, ::DataFrames.DataFrame, ::Dict{AbstractString,Any}\u001b[1m)\u001b[22m\u001b[22m at \u001b[1m/Users/biona001/.julia/v0.6/MendelGeneDropping/src/MendelGeneDropping.jl:173\u001b[22m\u001b[22m\n",
      " [5] \u001b[1m#GeneDropping#1\u001b[22m\u001b[22m\u001b[1m(\u001b[22m\u001b[22m::Array{Any,1}, ::Function, ::String\u001b[1m)\u001b[22m\u001b[22m at \u001b[1m/Users/biona001/.julia/v0.6/MendelGeneDropping/src/MendelGeneDropping.jl:77\u001b[22m\u001b[22m\n",
      " [6] \u001b[1mGeneDropping\u001b[22m\u001b[22m\u001b[1m(\u001b[22m\u001b[22m::String\u001b[1m)\u001b[22m\u001b[22m at \u001b[1m/Users/biona001/.julia/v0.6/MendelGeneDropping/src/MendelGeneDropping.jl:23\u001b[22m\u001b[22m\n",
      " [7] \u001b[1minclude_string\u001b[22m\u001b[22m\u001b[1m(\u001b[22m\u001b[22m::String, ::String\u001b[1m)\u001b[22m\u001b[22m at \u001b[1m./loading.jl:515\u001b[22m\u001b[22m\n",
      " [8] \u001b[1mexecute_request\u001b[22m\u001b[22m\u001b[1m(\u001b[22m\u001b[22m::ZMQ.Socket, ::IJulia.Msg\u001b[1m)\u001b[22m\u001b[22m at \u001b[1m/Users/biona001/.julia/v0.6/IJulia/src/execute_request.jl:158\u001b[22m\u001b[22m\n",
      " [9] \u001b[1m(::Compat.#inner#18{Array{Any,1},IJulia.#execute_request,Tuple{ZMQ.Socket,IJulia.Msg}})\u001b[22m\u001b[22m\u001b[1m(\u001b[22m\u001b[22m\u001b[1m)\u001b[22m\u001b[22m at \u001b[1m/Users/biona001/.julia/v0.6/Compat/src/Compat.jl:378\u001b[22m\u001b[22m\n",
      " [10] \u001b[1meventloop\u001b[22m\u001b[22m\u001b[1m(\u001b[22m\u001b[22m::ZMQ.Socket\u001b[1m)\u001b[22m\u001b[22m at \u001b[1m/Users/biona001/.julia/v0.6/IJulia/src/eventloop.jl:8\u001b[22m\u001b[22m\n",
      " [11] \u001b[1m(::IJulia.##14#17)\u001b[22m\u001b[22m\u001b[1m(\u001b[22m\u001b[22m\u001b[1m)\u001b[22m\u001b[22m at \u001b[1m./task.jl:335\u001b[22m\u001b[22m\n",
      "while loading In[36], in expression starting on line 2\n",
      "\u001b[1m\u001b[33mWARNING: \u001b[39m\u001b[22m\u001b[33msort!(df, cols=cols) is deprecated, use sort!(df, cols) instead\u001b[39m\n",
      "Stacktrace:\n",
      " [1] \u001b[1mdepwarn\u001b[22m\u001b[22m\u001b[1m(\u001b[22m\u001b[22m::String, ::Symbol\u001b[1m)\u001b[22m\u001b[22m at \u001b[1m./deprecated.jl:70\u001b[22m\u001b[22m\n",
      " [2] \u001b[1m#sort!#220\u001b[22m\u001b[22m\u001b[1m(\u001b[22m\u001b[22m::Array{Symbol,1}, ::Void, ::Function, ::Function, ::Bool, ::Base.Order.ForwardOrdering, ::Function, ::DataFrames.DataFrame, ::Array{Any,1}\u001b[1m)\u001b[22m\u001b[22m at \u001b[1m/Users/biona001/.julia/v0.6/DataFrames/src/dataframe/sort.jl:74\u001b[22m\u001b[22m\n",
      " [3] \u001b[1m(::Base.#kw##sort!)\u001b[22m\u001b[22m\u001b[1m(\u001b[22m\u001b[22m::Array{Any,1}, ::Base.#sort!, ::DataFrames.DataFrame, ::Array{Any,1}\u001b[1m)\u001b[22m\u001b[22m at \u001b[1m./<missing>:0\u001b[22m\u001b[22m (repeats 2 times)\n",
      " [4] \u001b[1mgenedropping_option\u001b[22m\u001b[22m\u001b[1m(\u001b[22m\u001b[22m::MendelBase.Pedigree, ::MendelBase.Person, ::MendelBase.Locus, ::DataFrames.DataFrame, ::DataFrames.DataFrame, ::DataFrames.DataFrame, ::Dict{AbstractString,Any}\u001b[1m)\u001b[22m\u001b[22m at \u001b[1m/Users/biona001/.julia/v0.6/MendelGeneDropping/src/MendelGeneDropping.jl:173\u001b[22m\u001b[22m\n",
      " [5] \u001b[1m#GeneDropping#1\u001b[22m\u001b[22m\u001b[1m(\u001b[22m\u001b[22m::Array{Any,1}, ::Function, ::String\u001b[1m)\u001b[22m\u001b[22m at \u001b[1m/Users/biona001/.julia/v0.6/MendelGeneDropping/src/MendelGeneDropping.jl:77\u001b[22m\u001b[22m\n",
      " [6] \u001b[1mGeneDropping\u001b[22m\u001b[22m\u001b[1m(\u001b[22m\u001b[22m::String\u001b[1m)\u001b[22m\u001b[22m at \u001b[1m/Users/biona001/.julia/v0.6/MendelGeneDropping/src/MendelGeneDropping.jl:23\u001b[22m\u001b[22m\n",
      " [7] \u001b[1minclude_string\u001b[22m\u001b[22m\u001b[1m(\u001b[22m\u001b[22m::String, ::String\u001b[1m)\u001b[22m\u001b[22m at \u001b[1m./loading.jl:515\u001b[22m\u001b[22m\n",
      " [8] \u001b[1mexecute_request\u001b[22m\u001b[22m\u001b[1m(\u001b[22m\u001b[22m::ZMQ.Socket, ::IJulia.Msg\u001b[1m)\u001b[22m\u001b[22m at \u001b[1m/Users/biona001/.julia/v0.6/IJulia/src/execute_request.jl:158\u001b[22m\u001b[22m\n",
      " [9] \u001b[1m(::Compat.#inner#18{Array{Any,1},IJulia.#execute_request,Tuple{ZMQ.Socket,IJulia.Msg}})\u001b[22m\u001b[22m\u001b[1m(\u001b[22m\u001b[22m\u001b[1m)\u001b[22m\u001b[22m at \u001b[1m/Users/biona001/.julia/v0.6/Compat/src/Compat.jl:378\u001b[22m\u001b[22m\n",
      " [10] \u001b[1meventloop\u001b[22m\u001b[22m\u001b[1m(\u001b[22m\u001b[22m::ZMQ.Socket\u001b[1m)\u001b[22m\u001b[22m at \u001b[1m/Users/biona001/.julia/v0.6/IJulia/src/eventloop.jl:8\u001b[22m\u001b[22m\n",
      " [11] \u001b[1m(::IJulia.##14#17)\u001b[22m\u001b[22m\u001b[1m(\u001b[22m\u001b[22m\u001b[1m)\u001b[22m\u001b[22m at \u001b[1m./task.jl:335\u001b[22m\u001b[22m\n",
      "while loading In[36], in expression starting on line 2\n",
      "\u001b[1m\u001b[33mWARNING: \u001b[39m\u001b[22m\u001b[33msort!(df, cols=cols) is deprecated, use sort!(df, cols) instead\u001b[39m\n",
      "Stacktrace:\n",
      " [1] \u001b[1mdepwarn\u001b[22m\u001b[22m\u001b[1m(\u001b[22m\u001b[22m::String, ::Symbol\u001b[1m)\u001b[22m\u001b[22m at \u001b[1m./deprecated.jl:70\u001b[22m\u001b[22m\n",
      " [2] \u001b[1m#sort!#220\u001b[22m\u001b[22m\u001b[1m(\u001b[22m\u001b[22m::Array{Symbol,1}, ::Void, ::Function, ::Function, ::Bool, ::Base.Order.ForwardOrdering, ::Function, ::DataFrames.DataFrame, ::Array{Any,1}\u001b[1m)\u001b[22m\u001b[22m at \u001b[1m/Users/biona001/.julia/v0.6/DataFrames/src/dataframe/sort.jl:74\u001b[22m\u001b[22m\n",
      " [3] \u001b[1m(::Base.#kw##sort!)\u001b[22m\u001b[22m\u001b[1m(\u001b[22m\u001b[22m::Array{Any,1}, ::Base.#sort!, ::DataFrames.DataFrame, ::Array{Any,1}\u001b[1m)\u001b[22m\u001b[22m at \u001b[1m./<missing>:0\u001b[22m\u001b[22m (repeats 2 times)\n",
      " [4] \u001b[1mgenedropping_option\u001b[22m\u001b[22m\u001b[1m(\u001b[22m\u001b[22m::MendelBase.Pedigree, ::MendelBase.Person, ::MendelBase.Locus, ::DataFrames.DataFrame, ::DataFrames.DataFrame, ::DataFrames.DataFrame, ::Dict{AbstractString,Any}\u001b[1m)\u001b[22m\u001b[22m at \u001b[1m/Users/biona001/.julia/v0.6/MendelGeneDropping/src/MendelGeneDropping.jl:173\u001b[22m\u001b[22m\n",
      " [5] \u001b[1m#GeneDropping#1\u001b[22m\u001b[22m\u001b[1m(\u001b[22m\u001b[22m::Array{Any,1}, ::Function, ::String\u001b[1m)\u001b[22m\u001b[22m at \u001b[1m/Users/biona001/.julia/v0.6/MendelGeneDropping/src/MendelGeneDropping.jl:77\u001b[22m\u001b[22m\n",
      " [6] \u001b[1mGeneDropping\u001b[22m\u001b[22m\u001b[1m(\u001b[22m\u001b[22m::String\u001b[1m)\u001b[22m\u001b[22m at \u001b[1m/Users/biona001/.julia/v0.6/MendelGeneDropping/src/MendelGeneDropping.jl:23\u001b[22m\u001b[22m\n",
      " [7] \u001b[1minclude_string\u001b[22m\u001b[22m\u001b[1m(\u001b[22m\u001b[22m::String, ::String\u001b[1m)\u001b[22m\u001b[22m at \u001b[1m./loading.jl:515\u001b[22m\u001b[22m\n",
      " [8] \u001b[1mexecute_request\u001b[22m\u001b[22m\u001b[1m(\u001b[22m\u001b[22m::ZMQ.Socket, ::IJulia.Msg\u001b[1m)\u001b[22m\u001b[22m at \u001b[1m/Users/biona001/.julia/v0.6/IJulia/src/execute_request.jl:158\u001b[22m\u001b[22m\n",
      " [9] \u001b[1m(::Compat.#inner#18{Array{Any,1},IJulia.#execute_request,Tuple{ZMQ.Socket,IJulia.Msg}})\u001b[22m\u001b[22m\u001b[1m(\u001b[22m\u001b[22m\u001b[1m)\u001b[22m\u001b[22m at \u001b[1m/Users/biona001/.julia/v0.6/Compat/src/Compat.jl:378\u001b[22m\u001b[22m\n",
      " [10] \u001b[1meventloop\u001b[22m\u001b[22m\u001b[1m(\u001b[22m\u001b[22m::ZMQ.Socket\u001b[1m)\u001b[22m\u001b[22m at \u001b[1m/Users/biona001/.julia/v0.6/IJulia/src/eventloop.jl:8\u001b[22m\u001b[22m\n",
      " [11] \u001b[1m(::IJulia.##14#17)\u001b[22m\u001b[22m\u001b[1m(\u001b[22m\u001b[22m\u001b[1m)\u001b[22m\u001b[22m at \u001b[1m./task.jl:335\u001b[22m\u001b[22m\n",
      "while loading In[36], in expression starting on line 2\n",
      "\u001b[1m\u001b[33mWARNING: \u001b[39m\u001b[22m\u001b[33mwritetable is deprecated, use CSV.write from the CSV package instead\u001b[39m\n",
      "Stacktrace:\n",
      " [1] \u001b[1mdepwarn\u001b[22m\u001b[22m\u001b[1m(\u001b[22m\u001b[22m::String, ::Symbol\u001b[1m)\u001b[22m\u001b[22m at \u001b[1m./deprecated.jl:70\u001b[22m\u001b[22m\n",
      " [2] \u001b[1m#writetable#223\u001b[22m\u001b[22m\u001b[1m(\u001b[22m\u001b[22m::Bool, ::Char, ::Char, ::String, ::Bool, ::Function, ::SubString{String}, ::DataFrames.DataFrame\u001b[1m)\u001b[22m\u001b[22m at \u001b[1m/Users/biona001/.julia/v0.6/DataFrames/src/deprecated.jl:69\u001b[22m\u001b[22m\n",
      " [3] \u001b[1mwritetable\u001b[22m\u001b[22m\u001b[1m(\u001b[22m\u001b[22m::SubString{String}, ::DataFrames.DataFrame\u001b[1m)\u001b[22m\u001b[22m at \u001b[1m/Users/biona001/.julia/v0.6/DataFrames/src/deprecated.jl:69\u001b[22m\u001b[22m\n",
      " [4] \u001b[1mgenedropping_option\u001b[22m\u001b[22m\u001b[1m(\u001b[22m\u001b[22m::MendelBase.Pedigree, ::MendelBase.Person, ::MendelBase.Locus, ::DataFrames.DataFrame, ::DataFrames.DataFrame, ::DataFrames.DataFrame, ::Dict{AbstractString,Any}\u001b[1m)\u001b[22m\u001b[22m at \u001b[1m/Users/biona001/.julia/v0.6/MendelGeneDropping/src/MendelGeneDropping.jl:234\u001b[22m\u001b[22m\n",
      " [5] \u001b[1m#GeneDropping#1\u001b[22m\u001b[22m\u001b[1m(\u001b[22m\u001b[22m::Array{Any,1}, ::Function, ::String\u001b[1m)\u001b[22m\u001b[22m at \u001b[1m/Users/biona001/.julia/v0.6/MendelGeneDropping/src/MendelGeneDropping.jl:77\u001b[22m\u001b[22m\n",
      " [6] \u001b[1mGeneDropping\u001b[22m\u001b[22m\u001b[1m(\u001b[22m\u001b[22m::String\u001b[1m)\u001b[22m\u001b[22m at \u001b[1m/Users/biona001/.julia/v0.6/MendelGeneDropping/src/MendelGeneDropping.jl:23\u001b[22m\u001b[22m\n",
      " [7] \u001b[1minclude_string\u001b[22m\u001b[22m\u001b[1m(\u001b[22m\u001b[22m::String, ::String\u001b[1m)\u001b[22m\u001b[22m at \u001b[1m./loading.jl:515\u001b[22m\u001b[22m\n",
      " [8] \u001b[1mexecute_request\u001b[22m\u001b[22m\u001b[1m(\u001b[22m\u001b[22m::ZMQ.Socket, ::IJulia.Msg\u001b[1m)\u001b[22m\u001b[22m at \u001b[1m/Users/biona001/.julia/v0.6/IJulia/src/execute_request.jl:158\u001b[22m\u001b[22m\n",
      " [9] \u001b[1m(::Compat.#inner#18{Array{Any,1},IJulia.#execute_request,Tuple{ZMQ.Socket,IJulia.Msg}})\u001b[22m\u001b[22m\u001b[1m(\u001b[22m\u001b[22m\u001b[1m)\u001b[22m\u001b[22m at \u001b[1m/Users/biona001/.julia/v0.6/Compat/src/Compat.jl:378\u001b[22m\u001b[22m\n",
      " [10] \u001b[1meventloop\u001b[22m\u001b[22m\u001b[1m(\u001b[22m\u001b[22m::ZMQ.Socket\u001b[1m)\u001b[22m\u001b[22m at \u001b[1m/Users/biona001/.julia/v0.6/IJulia/src/eventloop.jl:8\u001b[22m\u001b[22m\n",
      " [11] \u001b[1m(::IJulia.##14#17)\u001b[22m\u001b[22m\u001b[1m(\u001b[22m\u001b[22m\u001b[1m)\u001b[22m\u001b[22m at \u001b[1m./task.jl:335\u001b[22m\u001b[22m\n",
      "while loading In[36], in expression starting on line 2\n"
     ]
    },
    {
     "name": "stdout",
     "output_type": "stream",
     "text": [
      "212×1007 DataFrames.DataFrame. Omitted printing of 1000 columns\n",
      "│ Row │ Pedigree │ Person │ Mother  │ Father  │ Sex │ rs3020701 │ rs56343121 │\n",
      "├─────┼──────────┼────────┼─────────┼─────────┼─────┼───────────┼────────────┤\n",
      "│ 1   │ 11       │ 16     │ \u001b[90mmissing\u001b[39m │ \u001b[90mmissing\u001b[39m │ F   │ 1/1       │ 1/2        │\n",
      "│ 2   │ 11       │ 8228   │ \u001b[90mmissing\u001b[39m │ \u001b[90mmissing\u001b[39m │ F   │ 1/1       │ 1/2        │\n",
      "│ 3   │ 11       │ 17008  │ \u001b[90mmissing\u001b[39m │ \u001b[90mmissing\u001b[39m │ M   │ 1/1       │ 1/1        │\n",
      "│ 4   │ 11       │ 9218   │ 17008   │ 16      │ M   │ 1/1       │ 1/1        │\n",
      "│ 5   │ 11       │ 3226   │ 9218    │ 8228    │ F   │ 1/1       │ 1/1        │\n",
      "│ 6   │ 21       │ 29     │ \u001b[90mmissing\u001b[39m │ \u001b[90mmissing\u001b[39m │ F   │ 1/1       │ 1/1        │\n",
      "│ 7   │ 21       │ 2294   │ \u001b[90mmissing\u001b[39m │ \u001b[90mmissing\u001b[39m │ M   │ 1/1       │ 1/1        │\n",
      "│ 8   │ 21       │ 3416   │ \u001b[90mmissing\u001b[39m │ \u001b[90mmissing\u001b[39m │ M   │ 1/1       │ 2/1        │\n",
      "│ 9   │ 21       │ 17893  │ 2294    │ 29      │ F   │ 1/1       │ 1/1        │\n",
      "│ 10  │ 21       │ 6952   │ 3416    │ 17893   │ M   │ 1/1       │ 1/1        │\n",
      "│ 11  │ 21       │ 14695  │ 2294    │ 29      │ F   │ 1/1       │ 1/1        │\n",
      "⋮\n",
      "│ 201 │ 311      │ 9277   │ 4257    │ 13772   │ M   │ 1/2       │ 1/1        │\n",
      "│ 202 │ 311      │ 16139  │ 4257    │ 13772   │ M   │ 1/1       │ 1/1        │\n",
      "│ 203 │ 311      │ 10439  │ 4257    │ 13772   │ M   │ 1/2       │ 1/1        │\n",
      "│ 204 │ 311      │ 63     │ 17673   │ 19770   │ F   │ 1/1       │ 1/1        │\n",
      "│ 205 │ 100061   │ 66     │ \u001b[90mmissing\u001b[39m │ \u001b[90mmissing\u001b[39m │ M   │ 1/1       │ 1/1        │\n",
      "│ 206 │ 100081   │ 92     │ \u001b[90mmissing\u001b[39m │ \u001b[90mmissing\u001b[39m │ M   │ 1/1       │ 1/2        │\n",
      "│ 207 │ 100141   │ 186    │ \u001b[90mmissing\u001b[39m │ \u001b[90mmissing\u001b[39m │ M   │ 1/2       │ 2/1        │\n",
      "│ 208 │ 100271   │ 374    │ \u001b[90mmissing\u001b[39m │ \u001b[90mmissing\u001b[39m │ M   │ 2/1       │ 1/2        │\n",
      "│ 209 │ 100291   │ 434    │ \u001b[90mmissing\u001b[39m │ \u001b[90mmissing\u001b[39m │ M   │ 1/1       │ 1/1        │\n",
      "│ 210 │ 100331   │ 333    │ \u001b[90mmissing\u001b[39m │ \u001b[90mmissing\u001b[39m │ M   │ 1/1       │ 1/1        │\n",
      "│ 211 │ 100401   │ 234    │ \u001b[90mmissing\u001b[39m │ \u001b[90mmissing\u001b[39m │ M   │ 1/2       │ 2/1        │\n",
      "│ 212 │ 100451   │ 789    │ \u001b[90mmissing\u001b[39m │ \u001b[90mmissing\u001b[39m │ M   │ 1/1       │ 1/1        │ \n",
      " \n",
      "Mendel's analysis is finished.\n",
      "\n"
     ]
    }
   ],
   "source": [
    "using MendelGeneDropping\n",
    "GeneDropping(\"control10c_genedrop.txt\")"
   ]
  },
  {
   "cell_type": "code",
   "execution_count": 41,
   "metadata": {
    "collapsed": false,
    "scrolled": false
   },
   "outputs": [
    {
     "name": "stderr",
     "output_type": "stream",
     "text": [
      "\u001b[1m\u001b[33mWARNING: \u001b[39m\u001b[22m\u001b[33mreadtable is deprecated, use CSV.read from the CSV package instead\u001b[39m\n",
      "Stacktrace:\n",
      " [1] \u001b[1mdepwarn\u001b[22m\u001b[22m\u001b[1m(\u001b[22m\u001b[22m::String, ::Symbol\u001b[1m)\u001b[22m\u001b[22m at \u001b[1m./deprecated.jl:70\u001b[22m\u001b[22m\n",
      " [2] \u001b[1m#readtable#229\u001b[22m\u001b[22m\u001b[1m(\u001b[22m\u001b[22m::Bool, ::Char, ::Array{Char,1}, ::Char, ::Array{String,1}, ::Array{String,1}, ::Array{String,1}, ::Bool, ::Int64, ::Array{Symbol,1}, ::Array{Any,1}, ::Bool, ::Char, ::Bool, ::Int64, ::Array{Int64,1}, ::Bool, ::Symbol, ::Bool, ::Bool, ::DataFrames.#readtable, ::String\u001b[1m)\u001b[22m\u001b[22m at \u001b[1m/Users/biona001/.julia/v0.6/DataFrames/src/deprecated.jl:1045\u001b[22m\u001b[22m\n",
      " [3] \u001b[1m(::DataFrames.#kw##readtable)\u001b[22m\u001b[22m\u001b[1m(\u001b[22m\u001b[22m::Array{Any,1}, ::DataFrames.#readtable, ::String\u001b[1m)\u001b[22m\u001b[22m at \u001b[1m./<missing>:0\u001b[22m\u001b[22m\n",
      " [4] \u001b[1minclude_string\u001b[22m\u001b[22m\u001b[1m(\u001b[22m\u001b[22m::String, ::String\u001b[1m)\u001b[22m\u001b[22m at \u001b[1m./loading.jl:515\u001b[22m\u001b[22m\n",
      " [5] \u001b[1mexecute_request\u001b[22m\u001b[22m\u001b[1m(\u001b[22m\u001b[22m::ZMQ.Socket, ::IJulia.Msg\u001b[1m)\u001b[22m\u001b[22m at \u001b[1m/Users/biona001/.julia/v0.6/IJulia/src/execute_request.jl:158\u001b[22m\u001b[22m\n",
      " [6] \u001b[1m(::Compat.#inner#18{Array{Any,1},IJulia.#execute_request,Tuple{ZMQ.Socket,IJulia.Msg}})\u001b[22m\u001b[22m\u001b[1m(\u001b[22m\u001b[22m\u001b[1m)\u001b[22m\u001b[22m at \u001b[1m/Users/biona001/.julia/v0.6/Compat/src/Compat.jl:378\u001b[22m\u001b[22m\n",
      " [7] \u001b[1meventloop\u001b[22m\u001b[22m\u001b[1m(\u001b[22m\u001b[22m::ZMQ.Socket\u001b[1m)\u001b[22m\u001b[22m at \u001b[1m/Users/biona001/.julia/v0.6/IJulia/src/eventloop.jl:8\u001b[22m\u001b[22m\n",
      " [8] \u001b[1m(::IJulia.##14#17)\u001b[22m\u001b[22m\u001b[1m(\u001b[22m\u001b[22m\u001b[1m)\u001b[22m\u001b[22m at \u001b[1m./task.jl:335\u001b[22m\u001b[22m\n",
      "while loading In[41], in expression starting on line 1\n",
      "\u001b[1m\u001b[33mWARNING: \u001b[39m\u001b[22m\u001b[33mreadtable is deprecated, use CSV.read from the CSV package instead\u001b[39m\n",
      "Stacktrace:\n",
      " [1] \u001b[1mdepwarn\u001b[22m\u001b[22m\u001b[1m(\u001b[22m\u001b[22m::String, ::Symbol\u001b[1m)\u001b[22m\u001b[22m at \u001b[1m./deprecated.jl:70\u001b[22m\u001b[22m\n",
      " [2] \u001b[1m#readtable#229\u001b[22m\u001b[22m\u001b[1m(\u001b[22m\u001b[22m::Bool, ::Char, ::Array{Char,1}, ::Char, ::Array{String,1}, ::Array{String,1}, ::Array{String,1}, ::Bool, ::Int64, ::Array{Symbol,1}, ::Array{Any,1}, ::Bool, ::Char, ::Bool, ::Int64, ::Array{Int64,1}, ::Bool, ::Symbol, ::Bool, ::Bool, ::DataFrames.#readtable, ::String\u001b[1m)\u001b[22m\u001b[22m at \u001b[1m/Users/biona001/.julia/v0.6/DataFrames/src/deprecated.jl:1045\u001b[22m\u001b[22m\n",
      " [3] \u001b[1m(::DataFrames.#kw##readtable)\u001b[22m\u001b[22m\u001b[1m(\u001b[22m\u001b[22m::Array{Any,1}, ::DataFrames.#readtable, ::String\u001b[1m)\u001b[22m\u001b[22m at \u001b[1m./<missing>:0\u001b[22m\u001b[22m\n",
      " [4] \u001b[1minclude_string\u001b[22m\u001b[22m\u001b[1m(\u001b[22m\u001b[22m::String, ::String\u001b[1m)\u001b[22m\u001b[22m at \u001b[1m./loading.jl:515\u001b[22m\u001b[22m\n",
      " [5] \u001b[1mexecute_request\u001b[22m\u001b[22m\u001b[1m(\u001b[22m\u001b[22m::ZMQ.Socket, ::IJulia.Msg\u001b[1m)\u001b[22m\u001b[22m at \u001b[1m/Users/biona001/.julia/v0.6/IJulia/src/execute_request.jl:158\u001b[22m\u001b[22m\n",
      " [6] \u001b[1m(::Compat.#inner#18{Array{Any,1},IJulia.#execute_request,Tuple{ZMQ.Socket,IJulia.Msg}})\u001b[22m\u001b[22m\u001b[1m(\u001b[22m\u001b[22m\u001b[1m)\u001b[22m\u001b[22m at \u001b[1m/Users/biona001/.julia/v0.6/Compat/src/Compat.jl:378\u001b[22m\u001b[22m\n",
      " [7] \u001b[1meventloop\u001b[22m\u001b[22m\u001b[1m(\u001b[22m\u001b[22m::ZMQ.Socket\u001b[1m)\u001b[22m\u001b[22m at \u001b[1m/Users/biona001/.julia/v0.6/IJulia/src/eventloop.jl:8\u001b[22m\u001b[22m\n",
      " [8] \u001b[1m(::IJulia.##14#17)\u001b[22m\u001b[22m\u001b[1m(\u001b[22m\u001b[22m\u001b[1m)\u001b[22m\u001b[22m at \u001b[1m./task.jl:335\u001b[22m\u001b[22m\n",
      "while loading In[41], in expression starting on line 2\n"
     ]
    }
   ],
   "source": [
    "original = readtable(\"ped10c_with_snp_named_short.txt\", header = true)\n",
    "result = readtable(\"10c_genedropped_pedframe.txt\", header = true)\n",
    "n, p = size(result)\n",
    "\n",
    "#check if the genes in first repeition are different (they are)\n",
    "counter = 0\n",
    "for i in 6:p\n",
    "    for j in 1:n\n",
    "        if result[j, i] == \"2/1\"; result[j, i] = \"1/2\"; end \n",
    "        if result[j, i] != original[j, i]\n",
    "#             println(\"result is: \" * string(result[j, i]) * \" while original is: \" * \n",
    "#                 string(original[j, i]))\n",
    "            counter += 1\n",
    "        end\n",
    "    end\n",
    "end "
   ]
  },
  {
   "cell_type": "markdown",
   "metadata": {},
   "source": [
    "### Proportion of locus that is different"
   ]
  },
  {
   "cell_type": "code",
   "execution_count": 42,
   "metadata": {
    "collapsed": false
   },
   "outputs": [
    {
     "data": {
      "text/plain": [
       "0.2232610532244438"
      ]
     },
     "execution_count": 42,
     "metadata": {},
     "output_type": "execute_result"
    }
   ],
   "source": [
    "counter / (n * p)"
   ]
  },
  {
   "cell_type": "markdown",
   "metadata": {},
   "source": [
    "# Step 3: Create new binary SNP files (optional)\n",
    "\n",
    "For certain analysis, such as MendelKinship, you may wish to convert the gene-dropped result back to binary files. To do this, we must go back to the original Mendel and use Option 25 model 2. "
   ]
  },
  {
   "cell_type": "markdown",
   "metadata": {},
   "source": [
    "### First create SNP definition file as requested by Mendel"
   ]
  },
  {
   "cell_type": "code",
   "execution_count": 43,
   "metadata": {
    "collapsed": false
   },
   "outputs": [
    {
     "name": "stderr",
     "output_type": "stream",
     "text": [
      "\u001b[1m\u001b[33mWARNING: \u001b[39m\u001b[22m\u001b[33mreadtable is deprecated, use CSV.read from the CSV package instead\u001b[39m\n",
      "Stacktrace:\n",
      " [1] \u001b[1mdepwarn\u001b[22m\u001b[22m\u001b[1m(\u001b[22m\u001b[22m::String, ::Symbol\u001b[1m)\u001b[22m\u001b[22m at \u001b[1m./deprecated.jl:70\u001b[22m\u001b[22m\n",
      " [2] \u001b[1m#readtable#229\u001b[22m\u001b[22m\u001b[1m(\u001b[22m\u001b[22m::Bool, ::Char, ::Array{Char,1}, ::Char, ::Array{String,1}, ::Array{String,1}, ::Array{String,1}, ::Bool, ::Int64, ::Array{Symbol,1}, ::Array{Any,1}, ::Bool, ::Char, ::Bool, ::Int64, ::Array{Int64,1}, ::Bool, ::Symbol, ::Bool, ::Bool, ::DataFrames.#readtable, ::String\u001b[1m)\u001b[22m\u001b[22m at \u001b[1m/Users/biona001/.julia/v0.6/DataFrames/src/deprecated.jl:1045\u001b[22m\u001b[22m\n",
      " [3] \u001b[1m(::DataFrames.#kw##readtable)\u001b[22m\u001b[22m\u001b[1m(\u001b[22m\u001b[22m::Array{Any,1}, ::DataFrames.#readtable, ::String\u001b[1m)\u001b[22m\u001b[22m at \u001b[1m./<missing>:0\u001b[22m\u001b[22m\n",
      " [4] \u001b[1minclude_string\u001b[22m\u001b[22m\u001b[1m(\u001b[22m\u001b[22m::String, ::String\u001b[1m)\u001b[22m\u001b[22m at \u001b[1m./loading.jl:515\u001b[22m\u001b[22m\n",
      " [5] \u001b[1mexecute_request\u001b[22m\u001b[22m\u001b[1m(\u001b[22m\u001b[22m::ZMQ.Socket, ::IJulia.Msg\u001b[1m)\u001b[22m\u001b[22m at \u001b[1m/Users/biona001/.julia/v0.6/IJulia/src/execute_request.jl:158\u001b[22m\u001b[22m\n",
      " [6] \u001b[1m(::Compat.#inner#18{Array{Any,1},IJulia.#execute_request,Tuple{ZMQ.Socket,IJulia.Msg}})\u001b[22m\u001b[22m\u001b[1m(\u001b[22m\u001b[22m\u001b[1m)\u001b[22m\u001b[22m at \u001b[1m/Users/biona001/.julia/v0.6/Compat/src/Compat.jl:378\u001b[22m\u001b[22m\n",
      " [7] \u001b[1meventloop\u001b[22m\u001b[22m\u001b[1m(\u001b[22m\u001b[22m::ZMQ.Socket\u001b[1m)\u001b[22m\u001b[22m at \u001b[1m/Users/biona001/.julia/v0.6/IJulia/src/eventloop.jl:8\u001b[22m\u001b[22m\n",
      " [8] \u001b[1m(::IJulia.##14#17)\u001b[22m\u001b[22m\u001b[1m(\u001b[22m\u001b[22m\u001b[1m)\u001b[22m\u001b[22m at \u001b[1m./task.jl:335\u001b[22m\u001b[22m\n",
      "while loading In[43], in expression starting on line 1\n",
      "\u001b[1m\u001b[33mWARNING: \u001b[39m\u001b[22m\u001b[33mwritetable is deprecated, use CSV.write from the CSV package instead\u001b[39m\n",
      "Stacktrace:\n",
      " [1] \u001b[1mdepwarn\u001b[22m\u001b[22m\u001b[1m(\u001b[22m\u001b[22m::String, ::Symbol\u001b[1m)\u001b[22m\u001b[22m at \u001b[1m./deprecated.jl:70\u001b[22m\u001b[22m\n",
      " [2] \u001b[1m#writetable#223\u001b[22m\u001b[22m\u001b[1m(\u001b[22m\u001b[22m::Bool, ::Char, ::Char, ::String, ::Bool, ::Function, ::String, ::DataFrames.DataFrame\u001b[1m)\u001b[22m\u001b[22m at \u001b[1m/Users/biona001/.julia/v0.6/DataFrames/src/deprecated.jl:69\u001b[22m\u001b[22m\n",
      " [3] \u001b[1m(::DataFrames.#kw##writetable)\u001b[22m\u001b[22m\u001b[1m(\u001b[22m\u001b[22m::Array{Any,1}, ::DataFrames.#writetable, ::String, ::DataFrames.DataFrame\u001b[1m)\u001b[22m\u001b[22m at \u001b[1m./<missing>:0\u001b[22m\u001b[22m\n",
      " [4] \u001b[1minclude_string\u001b[22m\u001b[22m\u001b[1m(\u001b[22m\u001b[22m::String, ::String\u001b[1m)\u001b[22m\u001b[22m at \u001b[1m./loading.jl:515\u001b[22m\u001b[22m\n",
      " [5] \u001b[1mexecute_request\u001b[22m\u001b[22m\u001b[1m(\u001b[22m\u001b[22m::ZMQ.Socket, ::IJulia.Msg\u001b[1m)\u001b[22m\u001b[22m at \u001b[1m/Users/biona001/.julia/v0.6/IJulia/src/execute_request.jl:158\u001b[22m\u001b[22m\n",
      " [6] \u001b[1m(::Compat.#inner#18{Array{Any,1},IJulia.#execute_request,Tuple{ZMQ.Socket,IJulia.Msg}})\u001b[22m\u001b[22m\u001b[1m(\u001b[22m\u001b[22m\u001b[1m)\u001b[22m\u001b[22m at \u001b[1m/Users/biona001/.julia/v0.6/Compat/src/Compat.jl:378\u001b[22m\u001b[22m\n",
      " [7] \u001b[1meventloop\u001b[22m\u001b[22m\u001b[1m(\u001b[22m\u001b[22m::ZMQ.Socket\u001b[1m)\u001b[22m\u001b[22m at \u001b[1m/Users/biona001/.julia/v0.6/IJulia/src/eventloop.jl:8\u001b[22m\u001b[22m\n",
      " [8] \u001b[1m(::IJulia.##14#17)\u001b[22m\u001b[22m\u001b[1m(\u001b[22m\u001b[22m\u001b[1m)\u001b[22m\u001b[22m at \u001b[1m./task.jl:335\u001b[22m\u001b[22m\n",
      "while loading In[43], in expression starting on line 8\n"
     ]
    }
   ],
   "source": [
    "snp_names = readtable(\"10c_genedropped_pedframe.txt\", header = false)[1, 6:end]\n",
    "snp_def_file = DataFrame(Locus=String[], Chromosome=Int64[])\n",
    "\n",
    "for i in 1:length(snp_names)\n",
    "    push!(snp_def_file, [snp_names[i] i])\n",
    "end\n",
    "\n",
    "writetable(\"Def10c.in\", snp_def_file, separator = ',')"
   ]
  },
  {
   "cell_type": "markdown",
   "metadata": {},
   "source": [
    "### Delete the header row of both \"Def10c.in\" and \"10c_genedropped_pedframe.txt\" by opening up the files and deleting the first row"
   ]
  },
  {
   "cell_type": "markdown",
   "metadata": {},
   "source": [
    "### Now need to convert missing values from NA to \"   \" (3 spaces). This step is necessary as well, likely because Old mendel does not recognize NA as missing value"
   ]
  },
  {
   "cell_type": "code",
   "execution_count": 45,
   "metadata": {
    "collapsed": false
   },
   "outputs": [
    {
     "name": "stderr",
     "output_type": "stream",
     "text": [
      "\u001b[1m\u001b[33mWARNING: \u001b[39m\u001b[22m\u001b[33mreadtable is deprecated, use CSV.read from the CSV package instead\u001b[39m\n",
      "Stacktrace:\n",
      " [1] \u001b[1mdepwarn\u001b[22m\u001b[22m\u001b[1m(\u001b[22m\u001b[22m::String, ::Symbol\u001b[1m)\u001b[22m\u001b[22m at \u001b[1m./deprecated.jl:70\u001b[22m\u001b[22m\n",
      " [2] \u001b[1m#readtable#229\u001b[22m\u001b[22m\u001b[1m(\u001b[22m\u001b[22m::Bool, ::Char, ::Array{Char,1}, ::Char, ::Array{String,1}, ::Array{String,1}, ::Array{String,1}, ::Bool, ::Int64, ::Array{Symbol,1}, ::Array{Any,1}, ::Bool, ::Char, ::Bool, ::Int64, ::Array{Int64,1}, ::Bool, ::Symbol, ::Bool, ::Bool, ::DataFrames.#readtable, ::String\u001b[1m)\u001b[22m\u001b[22m at \u001b[1m/Users/biona001/.julia/v0.6/DataFrames/src/deprecated.jl:1045\u001b[22m\u001b[22m\n",
      " [3] \u001b[1m(::DataFrames.#kw##readtable)\u001b[22m\u001b[22m\u001b[1m(\u001b[22m\u001b[22m::Array{Any,1}, ::DataFrames.#readtable, ::String\u001b[1m)\u001b[22m\u001b[22m at \u001b[1m./<missing>:0\u001b[22m\u001b[22m\n",
      " [4] \u001b[1minclude_string\u001b[22m\u001b[22m\u001b[1m(\u001b[22m\u001b[22m::String, ::String\u001b[1m)\u001b[22m\u001b[22m at \u001b[1m./loading.jl:515\u001b[22m\u001b[22m\n",
      " [5] \u001b[1mexecute_request\u001b[22m\u001b[22m\u001b[1m(\u001b[22m\u001b[22m::ZMQ.Socket, ::IJulia.Msg\u001b[1m)\u001b[22m\u001b[22m at \u001b[1m/Users/biona001/.julia/v0.6/IJulia/src/execute_request.jl:158\u001b[22m\u001b[22m\n",
      " [6] \u001b[1m(::Compat.#inner#18{Array{Any,1},IJulia.#execute_request,Tuple{ZMQ.Socket,IJulia.Msg}})\u001b[22m\u001b[22m\u001b[1m(\u001b[22m\u001b[22m\u001b[1m)\u001b[22m\u001b[22m at \u001b[1m/Users/biona001/.julia/v0.6/Compat/src/Compat.jl:378\u001b[22m\u001b[22m\n",
      " [7] \u001b[1meventloop\u001b[22m\u001b[22m\u001b[1m(\u001b[22m\u001b[22m::ZMQ.Socket\u001b[1m)\u001b[22m\u001b[22m at \u001b[1m/Users/biona001/.julia/v0.6/IJulia/src/eventloop.jl:8\u001b[22m\u001b[22m\n",
      " [8] \u001b[1m(::IJulia.##14#17)\u001b[22m\u001b[22m\u001b[1m(\u001b[22m\u001b[22m\u001b[1m)\u001b[22m\u001b[22m at \u001b[1m./task.jl:335\u001b[22m\u001b[22m\n",
      "while loading In[45], in expression starting on line 1\n",
      "\u001b[1m\u001b[33mWARNING: \u001b[39m\u001b[22m\u001b[33mwritetable is deprecated, use CSV.write from the CSV package instead\u001b[39m\n",
      "Stacktrace:\n",
      " [1] \u001b[1mdepwarn\u001b[22m\u001b[22m\u001b[1m(\u001b[22m\u001b[22m::String, ::Symbol\u001b[1m)\u001b[22m\u001b[22m at \u001b[1m./deprecated.jl:70\u001b[22m\u001b[22m\n",
      " [2] \u001b[1m#writetable#223\u001b[22m\u001b[22m\u001b[1m(\u001b[22m\u001b[22m::Bool, ::Char, ::Char, ::String, ::Bool, ::Function, ::String, ::DataFrames.DataFrame\u001b[1m)\u001b[22m\u001b[22m at \u001b[1m/Users/biona001/.julia/v0.6/DataFrames/src/deprecated.jl:69\u001b[22m\u001b[22m\n",
      " [3] \u001b[1m(::DataFrames.#kw##writetable)\u001b[22m\u001b[22m\u001b[1m(\u001b[22m\u001b[22m::Array{Any,1}, ::DataFrames.#writetable, ::String, ::DataFrames.DataFrame\u001b[1m)\u001b[22m\u001b[22m at \u001b[1m./<missing>:0\u001b[22m\u001b[22m\n",
      " [4] \u001b[1minclude_string\u001b[22m\u001b[22m\u001b[1m(\u001b[22m\u001b[22m::String, ::String\u001b[1m)\u001b[22m\u001b[22m at \u001b[1m./loading.jl:515\u001b[22m\u001b[22m\n",
      " [5] \u001b[1mexecute_request\u001b[22m\u001b[22m\u001b[1m(\u001b[22m\u001b[22m::ZMQ.Socket, ::IJulia.Msg\u001b[1m)\u001b[22m\u001b[22m at \u001b[1m/Users/biona001/.julia/v0.6/IJulia/src/execute_request.jl:158\u001b[22m\u001b[22m\n",
      " [6] \u001b[1m(::Compat.#inner#18{Array{Any,1},IJulia.#execute_request,Tuple{ZMQ.Socket,IJulia.Msg}})\u001b[22m\u001b[22m\u001b[1m(\u001b[22m\u001b[22m\u001b[1m)\u001b[22m\u001b[22m at \u001b[1m/Users/biona001/.julia/v0.6/Compat/src/Compat.jl:378\u001b[22m\u001b[22m\n",
      " [7] \u001b[1meventloop\u001b[22m\u001b[22m\u001b[1m(\u001b[22m\u001b[22m::ZMQ.Socket\u001b[1m)\u001b[22m\u001b[22m at \u001b[1m/Users/biona001/.julia/v0.6/IJulia/src/eventloop.jl:8\u001b[22m\u001b[22m\n",
      " [8] \u001b[1m(::IJulia.##14#17)\u001b[22m\u001b[22m\u001b[1m(\u001b[22m\u001b[22m\u001b[1m)\u001b[22m\u001b[22m at \u001b[1m./task.jl:335\u001b[22m\u001b[22m\n",
      "while loading In[45], in expression starting on line 2\n"
     ]
    }
   ],
   "source": [
    "dropped_gene = readtable(\"10c_genedropped_pedframe.txt\", header = false)\n",
    "writetable(\"10c_genedropped_pedframe.txt\", dropped_gene, \n",
    "    separator = ',', nastring=\"   \", header = false)"
   ]
  },
  {
   "cell_type": "markdown",
   "metadata": {},
   "source": [
    "### Now create control file for old Mendel that looks like this:\n",
    "\n",
    "**Note:** The keyword `INPUT_FORMAT = No_Twins` is crucial for Mendel now throwing a MZ Twin error, and `MODEL = 2` keyword tells Mendel that we are converting to a binary file. "
   ]
  },
  {
   "cell_type": "code",
   "execution_count": 44,
   "metadata": {
    "collapsed": false
   },
   "outputs": [
    {
     "name": "stdout",
     "output_type": "stream",
     "text": [
      "!\n",
      "!  Input files\n",
      "!\n",
      "DEFINITION_FILE = Def10c.in\n",
      "PEDIGREE_FILE = 10c_genedropped_pedframe.txt\n",
      "!\n",
      "!  Output files\n",
      "!\n",
      "OUTPUT_FILE = Mendel10c.out\n",
      "SUMMARY_FILE = Summary10c.out\n",
      "NEW_DEFINITION_FILE = Def10c.out\n",
      "NEW_MAP_FILE = Map10c.out\n",
      "NEW_PEDIGREE_FILE = Ped10c.out\n",
      "NEW_SNP_DEFINITION_FILE = SNP_def10c.out\n",
      "NEW_SNP_DATA_FILE = SNP_data10c_out.bin\n",
      "NEW_SNP_PHASE_FILE = SNP_phase10c_out.bin\n",
      "!\n",
      "!  Analysis parameters\n",
      "!\n",
      "INPUT_FORMAT = No_Twins\n",
      "ANALYSIS_OPTION = File_Conversion\n",
      "MODEL = 2\n"
     ]
    }
   ],
   "source": [
    "f = open(\"Control10c.in\")\n",
    "lines = readlines(f)\n",
    "\n",
    "for l in lines\n",
    "   println(l)\n",
    "end"
   ]
  },
  {
   "cell_type": "markdown",
   "metadata": {},
   "source": [
    "### Drag and Drop this control file to the Mendel .app"
   ]
  },
  {
   "cell_type": "code",
   "execution_count": null,
   "metadata": {
    "collapsed": true
   },
   "outputs": [],
   "source": []
  }
 ],
 "metadata": {
  "kernelspec": {
   "display_name": "Julia 0.6.0",
   "language": "julia",
   "name": "julia-0.6"
  },
  "language_info": {
   "file_extension": ".jl",
   "mimetype": "application/julia",
   "name": "julia",
   "version": "0.6.0"
  }
 },
 "nbformat": 4,
 "nbformat_minor": 2
}
