{
 "cells": [
  {
   "cell_type": "markdown",
   "metadata": {},
   "source": [
    "# Kinship comparison with untyped ancestors\n",
    "\n",
    "## 3/8/2019\n",
    "\n",
    "Sometimes we have untyped ancestors (perhaps long deceased) that must be included in a pedigree for theoretical kinship calculations. However, some family members do have genotype information, so we would like to be able to compare theoretical/emprical kinship coefficients for only this subset of people. We illustrates how to do so with MendelKinship.\n",
    "\n",
    "First we must prepare 2 pedigree files: 1 with the *full* family members, and another with just the family members that have not been genotyped fully. "
   ]
  },
  {
   "cell_type": "code",
   "execution_count": null,
   "metadata": {
    "collapsed": true
   },
   "outputs": [],
   "source": []
  }
 ],
 "metadata": {
  "kernelspec": {
   "display_name": "Julia 1.0.3",
   "language": "julia",
   "name": "julia-1.0"
  },
  "language_info": {
   "file_extension": ".jl",
   "mimetype": "application/julia",
   "name": "julia",
   "version": "1.0.3"
  }
 },
 "nbformat": 4,
 "nbformat_minor": 2
}
