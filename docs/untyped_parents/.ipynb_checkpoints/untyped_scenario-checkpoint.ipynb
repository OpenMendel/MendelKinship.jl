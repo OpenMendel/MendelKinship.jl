{
 "cells": [
  {
   "cell_type": "markdown",
   "metadata": {},
   "source": [
    "# Kinship comparison with untyped ancestors\n",
    "\n",
    "## 3/8/2019\n",
    "\n",
    "To run this notebook, ensure you have the latest MendelKinship.jl installed. Press `]` and type:\n",
    "```\n",
    "    (v1.0) pkg> update MendelKinship\n",
    "```\n",
    "\n",
    "If you don't have MendelKinship installed already, press `]` and do the following:\n",
    "```\n",
    "    (v1.0) add https://github.com/OpenMendel/SnpArrays.jl\n",
    "    (v1.0) add https://github.com/OpenMendel/MendelSearch.jl\n",
    "    (v1.0) add https://github.com/OpenMendel/MendelBase.jl\n",
    "    (v1.0) add https://github.com/biona001/MendelKinship.jl\n",
    "```\n",
    "\n",
    "## Introduction\n",
    "\n",
    "Sometimes we have untyped ancestors (perhaps long deceased) that must be included in a pedigree for theoretical kinship calculations. However, some family members do have genotype information, so we would like to be able to compare theoretical/emprical kinship coefficients for only this subset of people. We illustrates how to do so with [MendelKinship.jl](https://github.com/biona001/MendelKinship.jl).\n",
    "\n",
    "First we must prepare 2 pedigree files: \n",
    "+ Pedigree file with the *full* family structure, which includes people without genotype info\n",
    "+ Pedigree file only containing people that have genotypes. If there are 2 pedigrees that actually should be a single larger pedigree, then keep them as 2 pedigree in this file.\n",
    "\n",
    "\n",
    "# Example\n",
    "\n",
    "## Dataset description\n",
    "We use **Ped29a_subset.fam** as an example (same file as **Ped29a.in** in Mendel), which contains 212 people that have been fully genotyped. \n",
    "\n",
    "We added 5 extra people: 30001, 30002, 30003, 30004, and 30005 to form the *full* pedigree file **Ped29a_full.fam**. Here 30001, 30002, and 30003 were added to pedigree 1, 2, 3 respectively, and does not change the pedigree structure. But 30004 and 30005 were added to pedigree 4, and we destined person 70 (which is the founder of pedigree 5) to be a descendant of 30004 and 30005. In other words, we are assuming that 30004 and 30005 are the long deceased parents of person 70, who really belongs to pedigree 4 but have nevertheless been placed into a separate pedigree because 30004 and 30005 have not been genotyped."
   ]
  },
  {
   "cell_type": "code",
   "execution_count": 1,
   "metadata": {
    "collapsed": false
   },
   "outputs": [
    {
     "name": "stdout",
     "output_type": "stream",
     "text": [
      "1,16,,,  F       ,29.20564\n",
      "1,8228,,,  F       ,31.80179\n",
      "1,17008,,,  M       ,37.82143\n",
      "1,9218,17008,16,  M       ,35.08036\n",
      "1,3226,9218,8228,  F       ,28.32902\n",
      "2,29,,,  F       ,36.17929\n",
      "2,2294,,,  M       ,42.88099\n",
      "2,3416,,,  M       ,40.98316\n",
      "2,17893,2294,29,  F       ,35.55038\n",
      "2,6952,3416,17893,  M       ,48.06048\n",
      "2,14695,2294,29,  F       ,37.60566\n",
      "2,6790,2294,29,  M       ,46.36752\n",
      "2,3916,2294,29,  F       ,35.05782\n",
      "3,39,,,  F       ,34.28877\n",
      "3,4521,,,  F       ,38.13171\n",
      "3,8366,,,  M       ,40.98539\n",
      "3,16693,,,  F       ,34.21628\n",
      "3,21688,8366,16693,  M       ,36.63124\n",
      "3,25532,21688,39,  F       ,31.88658\n",
      "3,26294,21688,39,  M       ,39.75311\n",
      "3,16795,21688,39,  F       ,33.99074\n",
      "3,17445,8366,16693,  M       ,38.53802\n",
      "3,2039,17445,4521,  M       ,39.46585\n",
      "3,2831,8366,16693,  M       ,42.91433\n",
      "4,54,,,  F       ,32.13501\n",
      "4,5072,,,  M       ,37.75151\n",
      "4,17240,5072,54,  F       ,33.84349\n",
      "5,70,,,  F       ,34.59888\n",
      "5,24010,,,  M       ,40.09751\n",
      "5,21999,24010,70,  M       ,42.99402\n",
      "8,109,,,  M       ,37.41603\n",
      "8,7395,,,  F       ,33.77752\n",
      "8,19099,109,7395,  M       ,38.80441\n",
      "8,13234,109,7395,  F       ,34.40569\n",
      "8,12043,109,7395,  F       ,29.52345\n"
     ]
    }
   ],
   "source": [
    ";head -35 Ped29a_subset.fam"
   ]
  },
  {
   "cell_type": "code",
   "execution_count": 2,
   "metadata": {
    "collapsed": false
   },
   "outputs": [
    {
     "name": "stdout",
     "output_type": "stream",
     "text": [
      "1,16,,,  F       ,29.20564\n",
      "1,8228,,,  F       ,31.80179\n",
      "1,17008,,,  M       ,37.82143\n",
      "1,9218,17008,16,  M       ,35.08036\n",
      "1,3226,9218,8228,  F       ,28.32902\n",
      "1,30001,9218,8228,  F       ,999.9999\n",
      "2,29,,,  F       ,36.17929\n",
      "2,2294,,,  M       ,42.88099\n",
      "2,3416,,,  M       ,40.98316\n",
      "2,17893,2294,29,  F       ,35.55038\n",
      "2,6952,3416,17893,  M       ,48.06048\n",
      "2,14695,2294,29,  F       ,37.60566\n",
      "2,6790,2294,29,  M       ,46.36752\n",
      "2,3916,2294,29,  F       ,35.05782\n",
      "2,30002,2294,29,  F       ,999.9999\n",
      "3,39,,,  F       ,34.28877\n",
      "3,4521,,,  F       ,38.13171\n",
      "3,8366,,,  M       ,40.98539\n",
      "3,16693,,,  F       ,34.21628\n",
      "3,21688,8366,16693,  M       ,36.63124\n",
      "3,25532,21688,39,  F       ,31.88658\n",
      "3,26294,21688,39,  M       ,39.75311\n",
      "3,16795,21688,39,  F       ,33.99074\n",
      "3,17445,8366,16693,  M       ,38.53802\n",
      "3,2039,17445,4521,  M       ,39.46585\n",
      "3,2831,8366,16693,  M       ,42.91433\n",
      "3,30003,8366,16693,  M       ,999.9999\n",
      "4,30004,,,  F       ,34.59888\n",
      "4,30005,,,  M       ,34.59888\n",
      "4,54,30004,30005,  F       ,32.13501\n",
      "4,5072,,,  M       ,37.75151\n",
      "4,17240,5072,54,  F       ,33.84349\n",
      "4,70,30004,30005,  F       ,34.59888\n",
      "4,24010,,,  M       ,40.09751\n",
      "4,21999,24010,70,  M       ,42.99402\n",
      "8,109,,,  M       ,37.41603\n",
      "8,7395,,,  F       ,33.77752\n",
      "8,19099,109,7395,  M       ,38.80441\n",
      "8,13234,109,7395,  F       ,34.40569\n",
      "8,12043,109,7395,  F       ,29.52345\n"
     ]
    }
   ],
   "source": [
    ";head -40 Ped29a_full.fam"
   ]
  },
  {
   "cell_type": "markdown",
   "metadata": {},
   "source": [
    "## Prepare control file and run\n",
    "\n",
    "The **full** pedigree structure shall be specified through the **full_pedigree_file** keyword. Remember that any `.fam` file should *not* contain header line, but other file types should. An example control file that will run the above 2 pedigree files is shown below."
   ]
  },
  {
   "cell_type": "code",
   "execution_count": 3,
   "metadata": {
    "collapsed": false
   },
   "outputs": [
    {
     "name": "stdout",
     "output_type": "stream",
     "text": [
      "#\n",
      "# Input and Output files.\n",
      "#\n",
      "plink_field_separator = ','\n",
      "pedigree_file = Ped29a_subset.fam\n",
      "snpdata_file = SNP_data29a.bed\n",
      "snpdefinition_file = SNP_def29a_converted.txt\n",
      "#\n",
      "# Analysis parameters for Kinship option.\n",
      "#\n",
      "compare_kinships = true\n",
      "maf_threshold = 0.01\n",
      "kinship_plot = kinship_plot\n",
      "z_score_plot = z_score_plot\n",
      "full_pedigree_file = Ped29a_full.fam\n"
     ]
    }
   ],
   "source": [
    ";cat control_includes_untyped.txt"
   ]
  },
  {
   "cell_type": "code",
   "execution_count": 4,
   "metadata": {
    "collapsed": false,
    "scrolled": true
   },
   "outputs": [
    {
     "name": "stderr",
     "output_type": "stream",
     "text": [
      "┌ Info: Recompiling stale cache file /Users/biona001/.julia/compiled/v1.0/MendelKinship/jENRZ.ji for MendelKinship [57586ee1-7d7e-549d-a2d8-59dc17d6b397]\n",
      "└ @ Base loading.jl:1190\n",
      "WARNING: could not import Base.quit into AtomShell\n"
     ]
    },
    {
     "data": {
      "text/html": [
       "    <script class='js-collapse-script'>\n",
       "        var curMatch =\n",
       "            window.location.href\n",
       "            .match(/(.*?)\\/notebooks\\/.*\\.ipynb/);\n",
       "\n",
       "        curMatch = curMatch ||\n",
       "            window.location.href\n",
       "            .match(/(.*?)\\/apps\\/.*\\.ipynb/);\n",
       "\n",
       "        if ( curMatch ) {\n",
       "            $('head').append('<base href=\"' + curMatch[1] + '/\">');\n",
       "        }\n",
       "    </script>\n"
      ],
      "text/plain": [
       "HTML{String}(\"    <script class='js-collapse-script'>\\n        var curMatch =\\n            window.location.href\\n            .match(/(.*?)\\\\/notebooks\\\\/.*\\\\.ipynb/);\\n\\n        curMatch = curMatch ||\\n            window.location.href\\n            .match(/(.*?)\\\\/apps\\\\/.*\\\\.ipynb/);\\n\\n        if ( curMatch ) {\\n            \\$('head').append('<base href=\\\"' + curMatch[1] + '/\\\">');\\n        }\\n    </script>\\n\")"
      ]
     },
     "metadata": {},
     "output_type": "display_data"
    },
    {
     "data": {
      "text/html": [
       "<script class='js-collapse-script' src='/assetserver/10929cea9f11869dd0902673f3652f46607e06ef-assets/webio/dist/bundle.js'></script>"
      ],
      "text/plain": [
       "HTML{String}(\"<script class='js-collapse-script' src='/assetserver/10929cea9f11869dd0902673f3652f46607e06ef-assets/webio/dist/bundle.js'></script>\")"
      ]
     },
     "metadata": {},
     "output_type": "display_data"
    },
    {
     "data": {
      "text/html": [
       "<script class='js-collapse-script' src='/assetserver/10929cea9f11869dd0902673f3652f46607e06ef-assets/providers/ijulia_setup.js'></script>"
      ],
      "text/plain": [
       "HTML{String}(\"<script class='js-collapse-script' src='/assetserver/10929cea9f11869dd0902673f3652f46607e06ef-assets/providers/ijulia_setup.js'></script>\")"
      ]
     },
     "metadata": {},
     "output_type": "display_data"
    },
    {
     "data": {
      "text/html": [
       "  <script class='js-collapse-script'>\n",
       "    $('.js-collapse-script').parent('.output_subarea').css('padding', '0');\n",
       "  </script>\n"
      ],
      "text/plain": [
       "HTML{String}(\"  <script class='js-collapse-script'>\\n    \\$('.js-collapse-script').parent('.output_subarea').css('padding', '0');\\n  </script>\\n\")"
      ]
     },
     "metadata": {},
     "output_type": "display_data"
    },
    {
     "name": "stdout",
     "output_type": "stream",
     "text": [
      " \n",
      " \n",
      "     Welcome to OpenMendel's\n",
      "     Kinship analysis option\n",
      "        version 0.2.0\n",
      " \n",
      " \n",
      "Reading the data.\n",
      "\n",
      "The current working directory is \"/Users/biona001/.julia/dev/MendelKinship/docs/untyped_parents\".\n",
      "\n",
      "Keywords modified by the user:\n",
      "\n",
      "  affected_designator = 2\n",
      "  compare_kinships = true\n",
      "  control_file = control_includes_untyped.txt\n",
      "  full_pedigree_file = Ped29a_full.fam\n",
      "  kinship_plot = kinship_plot\n",
      "  maf_threshold = 0.01\n",
      "  pedigree_file = Ped29a_subset.fam\n",
      "  plink_field_separator = ,\n",
      "  snpdata_file = SNP_data29a.bed\n",
      "  snpdefinition_file = SNP_def29a_converted.txt\n",
      "  z_score_plot = z_score_plot\n",
      " \n",
      " \n",
      "Analyzing the data.\n",
      "\n",
      "Kinship plot saved.\n"
     ]
    },
    {
     "data": {
      "text/html": [
       "<table class=\"data-frame\"><thead><tr><th></th><th>Pedigree1</th><th>Pedigree2</th><th>Person1</th><th>Person2</th><th>theoretical_kinship</th><th>empiric_kinship</th><th>fishers_zscore</th></tr><tr><th></th><th>String</th><th>String</th><th>String</th><th>String</th><th>Float64</th><th>Float64</th><th>Float64</th></tr></thead><tbody><p>22,578 rows × 7 columns</p><tr><th>1</th><td>4</td><td>4</td><td>54</td><td>70</td><td>0.25</td><td>-0.00176085</td><td>-11.0347</td></tr><tr><th>2</th><td>4</td><td>4</td><td>54</td><td>21999</td><td>0.125</td><td>-0.0196182</td><td>-6.0572</td></tr><tr><th>3</th><td>4</td><td>4</td><td>17240</td><td>70</td><td>0.125</td><td>0.005838</td><td>-4.9247</td></tr><tr><th>4</th><td>14</td><td>14</td><td>26732</td><td>264</td><td>0.0</td><td>0.109552</td><td>5.29817</td></tr><tr><th>5</th><td>31</td><td>31</td><td>15884</td><td>19770</td><td>0.25</td><td>0.150364</td><td>-4.21656</td></tr><tr><th>6</th><td>23</td><td>23</td><td>9943</td><td>392</td><td>0.125</td><td>0.0225133</td><td>-4.18276</td></tr><tr><th>7</th><td>25</td><td>14</td><td>22041</td><td>16636</td><td>0.0</td><td>0.0969715</td><td>4.73251</td></tr><tr><th>8</th><td>25</td><td>25</td><td>11822</td><td>24192</td><td>0.25</td><td>0.159229</td><td>-3.81252</td></tr><tr><th>9</th><td>14</td><td>14</td><td>25732</td><td>264</td><td>0.125</td><td>0.216622</td><td>4.60682</td></tr><tr><th>10</th><td>25</td><td>25</td><td>3012</td><td>3016</td><td>0.125</td><td>0.213888</td><td>4.47931</td></tr><tr><th>11</th><td>25</td><td>17</td><td>23404</td><td>12004</td><td>0.0</td><td>-0.0896437</td><td>-3.59312</td></tr><tr><th>12</th><td>25</td><td>23</td><td>23404</td><td>19279</td><td>0.0</td><td>-0.0877967</td><td>-3.51031</td></tr><tr><th>13</th><td>17</td><td>14</td><td>26857</td><td>264</td><td>0.0</td><td>0.0859953</td><td>4.24013</td></tr><tr><th>14</th><td>10040</td><td>8</td><td>234</td><td>5226</td><td>0.0</td><td>-0.0859709</td><td>-3.42848</td></tr><tr><th>15</th><td>23</td><td>19</td><td>743</td><td>8344</td><td>0.0</td><td>-0.0856543</td><td>-3.41429</td></tr><tr><th>16</th><td>19</td><td>19</td><td>22375</td><td>720</td><td>0.125</td><td>0.0405078</td><td>-3.38149</td></tr><tr><th>17</th><td>25</td><td>23</td><td>23404</td><td>743</td><td>0.0</td><td>-0.0831952</td><td>-3.30411</td></tr><tr><th>18</th><td>10040</td><td>8</td><td>234</td><td>13234</td><td>0.0</td><td>-0.0805884</td><td>-3.18737</td></tr><tr><th>19</th><td>23</td><td>8</td><td>3121</td><td>19099</td><td>0.0</td><td>-0.0792375</td><td>-3.12689</td></tr><tr><th>20</th><td>10040</td><td>8</td><td>234</td><td>7395</td><td>0.0</td><td>-0.079153</td><td>-3.12311</td></tr><tr><th>21</th><td>10040</td><td>8</td><td>234</td><td>19099</td><td>0.0</td><td>-0.0789209</td><td>-3.11272</td></tr><tr><th>22</th><td>17</td><td>17</td><td>908</td><td>10418</td><td>0.25</td><td>0.174596</td><td>-3.10935</td></tr><tr><th>23</th><td>31</td><td>23</td><td>19770</td><td>3760</td><td>0.0</td><td>-0.0783826</td><td>-3.08863</td></tr><tr><th>24</th><td>31</td><td>31</td><td>152</td><td>19770</td><td>0.125</td><td>0.0472729</td><td>-3.07997</td></tr><tr><th>25</th><td>14</td><td>14</td><td>25732</td><td>25732</td><td>0.5</td><td>0.55628</td><td>3.88049</td></tr><tr><th>26</th><td>10040</td><td>11</td><td>234</td><td>7670</td><td>0.0</td><td>-0.0772533</td><td>-3.03809</td></tr><tr><th>27</th><td>25</td><td>17</td><td>24192</td><td>12004</td><td>0.0</td><td>-0.0769367</td><td>-3.02392</td></tr><tr><th>28</th><td>25</td><td>17</td><td>23404</td><td>19113</td><td>0.0</td><td>-0.0769156</td><td>-3.02297</td></tr><tr><th>29</th><td>23</td><td>19</td><td>743</td><td>23699</td><td>0.0</td><td>-0.0768523</td><td>-3.02014</td></tr><tr><th>30</th><td>17</td><td>8</td><td>12004</td><td>5226</td><td>0.0</td><td>-0.0767573</td><td>-3.01589</td></tr><tr><th>&vellip;</th><td>&vellip;</td><td>&vellip;</td><td>&vellip;</td><td>&vellip;</td><td>&vellip;</td><td>&vellip;</td><td>&vellip;</td></tr></tbody></table>"
      ],
      "text/latex": [
       "\\begin{tabular}{r|ccccccc}\n",
       "\t& Pedigree1 & Pedigree2 & Person1 & Person2 & theoretical\\_kinship & empiric\\_kinship & fishers\\_zscore\\\\\n",
       "\t\\hline\n",
       "\t& String & String & String & String & Float64 & Float64 & Float64\\\\\n",
       "\t\\hline\n",
       "\t1 & 4 & 4 & 54 & 70 & 0.25 & -0.00176085 & -11.0347 \\\\\n",
       "\t2 & 4 & 4 & 54 & 21999 & 0.125 & -0.0196182 & -6.0572 \\\\\n",
       "\t3 & 4 & 4 & 17240 & 70 & 0.125 & 0.005838 & -4.9247 \\\\\n",
       "\t4 & 14 & 14 & 26732 & 264 & 0.0 & 0.109552 & 5.29817 \\\\\n",
       "\t5 & 31 & 31 & 15884 & 19770 & 0.25 & 0.150364 & -4.21656 \\\\\n",
       "\t6 & 23 & 23 & 9943 & 392 & 0.125 & 0.0225133 & -4.18276 \\\\\n",
       "\t7 & 25 & 14 & 22041 & 16636 & 0.0 & 0.0969715 & 4.73251 \\\\\n",
       "\t8 & 25 & 25 & 11822 & 24192 & 0.25 & 0.159229 & -3.81252 \\\\\n",
       "\t9 & 14 & 14 & 25732 & 264 & 0.125 & 0.216622 & 4.60682 \\\\\n",
       "\t10 & 25 & 25 & 3012 & 3016 & 0.125 & 0.213888 & 4.47931 \\\\\n",
       "\t11 & 25 & 17 & 23404 & 12004 & 0.0 & -0.0896437 & -3.59312 \\\\\n",
       "\t12 & 25 & 23 & 23404 & 19279 & 0.0 & -0.0877967 & -3.51031 \\\\\n",
       "\t13 & 17 & 14 & 26857 & 264 & 0.0 & 0.0859953 & 4.24013 \\\\\n",
       "\t14 & 10040 & 8 & 234 & 5226 & 0.0 & -0.0859709 & -3.42848 \\\\\n",
       "\t15 & 23 & 19 & 743 & 8344 & 0.0 & -0.0856543 & -3.41429 \\\\\n",
       "\t16 & 19 & 19 & 22375 & 720 & 0.125 & 0.0405078 & -3.38149 \\\\\n",
       "\t17 & 25 & 23 & 23404 & 743 & 0.0 & -0.0831952 & -3.30411 \\\\\n",
       "\t18 & 10040 & 8 & 234 & 13234 & 0.0 & -0.0805884 & -3.18737 \\\\\n",
       "\t19 & 23 & 8 & 3121 & 19099 & 0.0 & -0.0792375 & -3.12689 \\\\\n",
       "\t20 & 10040 & 8 & 234 & 7395 & 0.0 & -0.079153 & -3.12311 \\\\\n",
       "\t21 & 10040 & 8 & 234 & 19099 & 0.0 & -0.0789209 & -3.11272 \\\\\n",
       "\t22 & 17 & 17 & 908 & 10418 & 0.25 & 0.174596 & -3.10935 \\\\\n",
       "\t23 & 31 & 23 & 19770 & 3760 & 0.0 & -0.0783826 & -3.08863 \\\\\n",
       "\t24 & 31 & 31 & 152 & 19770 & 0.125 & 0.0472729 & -3.07997 \\\\\n",
       "\t25 & 14 & 14 & 25732 & 25732 & 0.5 & 0.55628 & 3.88049 \\\\\n",
       "\t26 & 10040 & 11 & 234 & 7670 & 0.0 & -0.0772533 & -3.03809 \\\\\n",
       "\t27 & 25 & 17 & 24192 & 12004 & 0.0 & -0.0769367 & -3.02392 \\\\\n",
       "\t28 & 25 & 17 & 23404 & 19113 & 0.0 & -0.0769156 & -3.02297 \\\\\n",
       "\t29 & 23 & 19 & 743 & 23699 & 0.0 & -0.0768523 & -3.02014 \\\\\n",
       "\t30 & 17 & 8 & 12004 & 5226 & 0.0 & -0.0767573 & -3.01589 \\\\\n",
       "\t$\\dots$ & $\\dots$ & $\\dots$ & $\\dots$ & $\\dots$ & $\\dots$ & $\\dots$ & $\\dots$ \\\\\n",
       "\\end{tabular}\n"
      ],
      "text/plain": [
       "22578×7 DataFrames.DataFrame. Omitted printing of 2 columns\n",
       "│ Row   │ Pedigree1 │ Pedigree2 │ Person1 │ Person2 │ theoretical_kinship │\n",
       "│       │ \u001b[90mString\u001b[39m    │ \u001b[90mString\u001b[39m    │ \u001b[90mString\u001b[39m  │ \u001b[90mString\u001b[39m  │ \u001b[90mFloat64\u001b[39m             │\n",
       "├───────┼───────────┼───────────┼─────────┼─────────┼─────────────────────┤\n",
       "│ 1     │ 4         │ 4         │ 54      │ 70      │ 0.25                │\n",
       "│ 2     │ 4         │ 4         │ 54      │ 21999   │ 0.125               │\n",
       "│ 3     │ 4         │ 4         │ 17240   │ 70      │ 0.125               │\n",
       "│ 4     │ 14        │ 14        │ 26732   │ 264     │ 0.0                 │\n",
       "│ 5     │ 31        │ 31        │ 15884   │ 19770   │ 0.25                │\n",
       "│ 6     │ 23        │ 23        │ 9943    │ 392     │ 0.125               │\n",
       "│ 7     │ 25        │ 14        │ 22041   │ 16636   │ 0.0                 │\n",
       "│ 8     │ 25        │ 25        │ 11822   │ 24192   │ 0.25                │\n",
       "│ 9     │ 14        │ 14        │ 25732   │ 264     │ 0.125               │\n",
       "│ 10    │ 25        │ 25        │ 3012    │ 3016    │ 0.125               │\n",
       "⋮\n",
       "│ 22568 │ 31        │ 19        │ 19392   │ 19856   │ 0.0                 │\n",
       "│ 22569 │ 10033     │ 31        │ 333     │ 5777    │ 0.0                 │\n",
       "│ 22570 │ 19        │ 10        │ 9513    │ 6825    │ 0.0                 │\n",
       "│ 22571 │ 24        │ 17        │ 15061   │ 12785   │ 0.0                 │\n",
       "│ 22572 │ 27        │ 25        │ 10069   │ 22041   │ 0.0                 │\n",
       "│ 22573 │ 8         │ 4         │ 5226    │ 54      │ 0.0                 │\n",
       "│ 22574 │ 8         │ 3         │ 5226    │ 16693   │ 0.0                 │\n",
       "│ 22575 │ 11        │ 4         │ 13854   │ 17240   │ 0.0                 │\n",
       "│ 22576 │ 10027     │ 8         │ 374     │ 5226    │ 0.0                 │\n",
       "│ 22577 │ 17        │ 11        │ 10418   │ 20318   │ 0.0                 │\n",
       "│ 22578 │ 22        │ 19        │ 24468   │ 16617   │ 0.0                 │"
      ]
     },
     "metadata": {},
     "output_type": "display_data"
    },
    {
     "name": "stdout",
     "output_type": "stream",
     "text": [
      "Fisher's plot saved.\n",
      " \n",
      " \n",
      "Mendel's analysis is finished.\n",
      "\n"
     ]
    }
   ],
   "source": [
    "using MendelKinship\n",
    "Kinship(\"control_includes_untyped.txt\")"
   ]
  },
  {
   "cell_type": "markdown",
   "metadata": {},
   "source": [
    "## Examine results\n",
    "\n",
    "Note that the top 3 most deviated pairs are (54, 70), (54, 21999), and (17240, 70). This is because we artificially made these people direct descendants of our 2 hypothetical parents 30004 and 30005. Their empiric kinship being close to 0 confirms that they are indeed unrelated. Other pairs have numbers equal to our [old tutorial](https://github.com/OpenMendel/Tutorials/blob/master/Kinship/KinshipTutorial.ipynb), which could not handle presence of untyped people. Note that none of the 30001, ..., 30005 will show up in the final table comparison, because this comparison table is strictly for those that have genotype information. "
   ]
  },
  {
   "cell_type": "code",
   "execution_count": 5,
   "metadata": {
    "collapsed": true
   },
   "outputs": [],
   "source": [
    ";open kinship_plot.html"
   ]
  },
  {
   "cell_type": "code",
   "execution_count": 6,
   "metadata": {
    "collapsed": false
   },
   "outputs": [],
   "source": [
    ";open z_score_plot.html"
   ]
  }
 ],
 "metadata": {
  "kernelspec": {
   "display_name": "Julia 1.0.3",
   "language": "julia",
   "name": "julia-1.0"
  },
  "language_info": {
   "file_extension": ".jl",
   "mimetype": "application/julia",
   "name": "julia",
   "version": "1.0.3"
  }
 },
 "nbformat": 4,
 "nbformat_minor": 2
}
