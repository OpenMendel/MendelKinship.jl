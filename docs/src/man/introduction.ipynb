{
 "cells": [
  {
   "cell_type": "markdown",
   "metadata": {},
   "source": [
    "# About\n",
    "\n",
    "This is a Julia implementation of option 29 of the [Mendel software](https://academic.oup.com/bioinformatics/article/29/12/1568/292810), originally programmed in Fortran. `MendelKinship.jl` contains new features, but its usage largely resembles Mendel by employing *control files* - requiring users to make a file to specify options instead of interacting with Julia directly. This is not the most Julian way of programming or usage experience... but unfortuantely we lack manpower to correct it. "
   ]
  },
  {
   "cell_type": "markdown",
   "metadata": {},
   "source": [
    "## When to use MendelKinship\n",
    "\n",
    "`MendelKinship.jl` is capable of calculating the theoretical kinship coefficient $\\Phi_{ij}$ as long as a [valid pedigree structure](https://openmendel.github.io/MendelBase.jl/#pedigree-file) is provided. When SNP markers are available, `MendelKinship.jl` can also calculate empirical kinship coefficients using GRM, robust GRM, or Method of Moments methods (see [this paper](https://onlinelibrary.wiley.com/doi/abs/10.1002/gepi.20584) and [this paper](https://academic.oup.com/bioinformatics/article/26/22/2867/228512) for details). Here we recommend the Robust GRM or MoM (default) method because their estimates are more robust in the presence of rare alleles. \n",
    "\n",
    "`MendelKinship` can optionally compare the empirical kinship and theoretical kinships to check suspect pedigree structures and reveal hidden relatedness. It can also reveal sample mixed ups or other laboratory errors that can lead to inaccurate empirical kinships.  The result is saved in a table sorted in descending order. We optioanlly output 2 interactive plots that allow users to quickly pinpoint pairs with the greatest theoretical vs empirical deviance. "
   ]
  },
  {
   "cell_type": "markdown",
   "metadata": {},
   "source": [
    "## Using PLINK files as input\n",
    "\n",
    "MendelKinship accepts [PLINK binary format](https://www.cog-genomics.org/plink2/formats#bed) as input, in which case the triplets (`data.bim`, `data.bed`, `data.fam`) must all be present. One can import the data by specifying the following in the control file:\n",
    "\n",
    "`plink_input_basename = data` \n",
    "\n",
    "However, sometimes the `.fam` file contains non-unique person id (2nd column of `.fam` file) across different pedigrees, which is currently **not** permitted in MendelKinship. A person's id cannot be repeated in other pedigrees, even if it is contextually clear that they are different persons."
   ]
  }
 ],
 "metadata": {
  "kernelspec": {
   "display_name": "Julia 1.5.0",
   "language": "julia",
   "name": "julia-1.5"
  },
  "language_info": {
   "file_extension": ".jl",
   "mimetype": "application/julia",
   "name": "julia",
   "version": "1.5.0"
  }
 },
 "nbformat": 4,
 "nbformat_minor": 2
}
