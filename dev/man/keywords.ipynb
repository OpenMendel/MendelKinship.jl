{
 "cells": [
  {
   "cell_type": "markdown",
   "metadata": {},
   "source": [
    "# Analysis keywords\n",
    "\n",
    "| Keyword | Default Value | Allowed value | Description |\n",
    "| --- | --- | --- | --- |\n",
    "|`kinship_output_file` | Kinship_Output_File.txt | true/false | OpenMendel generated output file with table of kinship coefficients |\n",
    "|`repetitions` | 1 | Integer | Repetitions for sharing statistics |\n",
    "|`xlinked_analysis` | false | beelean| Whether markers are on the X chromosome |\n",
    "|`compare_kinships` | false | boolean | Whether we want to compare theoretical vs empiric kinship |\n",
    "|`kinship_plot` | \"\" | User defined file name | A user specified name for a plot comparing theoretical and empiric kinship value |\n",
    "|`z_score_plot` | \"\" | User defined file name |  A user specified name for a plot of fisher's z statistic.  |\n",
    "|`grm_method` | MoM | GRM, MoM, Robust | Method used for empiric kinship calculation. Defaults to `MoM`, but user could choose the more common `GRM` or Robust GRM methods instead. (**Warning:** Based on our experience, Fisher's z score is very unreliable if the GRM method is used for rare (maf < 0.2) snps) |\n",
    "|`maf_threshold` | 0.01 | Real number between 0 and 1 | The minor allele frequency threshold for the GRM computation |\n",
    "|`deviant_pairs` | false | Integer less than $n(n+1)/2$ | Number of top deviant pairs (theoretical vs empiric kinship) the user wants to keep |"
   ]
  },
  {
   "cell_type": "markdown",
   "metadata": {},
   "source": [
    "## See also\n",
    "\n",
    "+ [MendelBase documentation](https://openmendel.github.io/MendelBase.jl/#keywords-table) for general keywords common to most analysis package\n",
    "+ [Old MendelKinship documentation](https://openmendel.github.io/MendelKinship.jl/)"
   ]
  }
 ],
 "metadata": {
  "kernelspec": {
   "display_name": "Julia 1.5.0",
   "language": "julia",
   "name": "julia-1.5"
  },
  "language_info": {
   "file_extension": ".jl",
   "mimetype": "application/julia",
   "name": "julia",
   "version": "1.5.0"
  }
 },
 "nbformat": 4,
 "nbformat_minor": 2
}
