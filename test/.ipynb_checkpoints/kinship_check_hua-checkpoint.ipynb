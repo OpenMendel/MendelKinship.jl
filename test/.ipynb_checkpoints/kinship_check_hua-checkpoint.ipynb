{
 "cells": [
  {
   "cell_type": "markdown",
   "metadata": {},
   "source": [
    "Current folder contains Mendel 10c and Mendel 23a example data set:"
   ]
  },
  {
   "cell_type": "code",
   "execution_count": 5,
   "metadata": {
    "collapsed": false
   },
   "outputs": [
    {
     "name": "stdout",
     "output_type": "stream",
     "text": [
      "total 139104\n",
      "drwxr-xr-x  45 biona001  staff      1440 Apr 26 10:15 .\n",
      "drwxr-xr-x  13 biona001  staff       416 Nov 20 15:53 ..\n",
      "drwxr-xr-x   5 biona001  staff       160 Apr 26 10:05 .ipynb_checkpoints\n",
      "-rw-r--r--   1 biona001  staff  12664011 Apr 12 15:23 1000genomes_chr1_eas.bed\n",
      "-rw-r--r--   1 biona001  staff      8084 Apr 12 15:23 1000genomes_chr1_eas.ped\n",
      "-rw-r--r--   1 biona001  staff   2839184 Apr 12 15:23 1000genomes_chr1_eas.snp\n",
      "-rw-r--r--   1 biona001  staff       264 Apr 17 09:39 1000genomes_chr1_eas_Control.txt\n",
      "-rw-r--r--   1 biona001  staff        28 Apr 17 09:17 Def10c.in\n",
      "-rw-r--r--   1 biona001  staff       111 Apr 25 22:23 Def27a.in\n",
      "-rw-r--r--   1 biona001  staff      2448 Apr 25 22:23 Mendel27a.out\n",
      "-rw-r--r--   1 biona001  staff     13228 Nov 25 14:16 MendelKinship_test.jl\n",
      "-rw-r--r--   1 biona001  staff     16226 Nov 25 14:13 MendelKinship_test.jl.37284.cov\n",
      "-rw-r--r--   1 biona001  staff         0 Apr 25 23:09 Mendel_Output.txt\n",
      "-rw-r--r--   1 biona001  staff     16581 Apr 25 14:48 Ped10c.in\n",
      "-rw-r--r--   1 biona001  staff     25990 Apr 25 15:42 Ped23a.in\n",
      "-rw-r--r--   1 biona001  staff     41203 Apr 25 22:30 Ped27a.in\n",
      "-rw-r--r--@  1 biona001  staff  13416476 Apr 17 09:17 SNP_data10c.bed\n",
      "-rw-r--r--   1 biona001  staff      9994 Apr 25 15:39 SNP_data23a.bin\n",
      "-rw-r--r--   1 biona001  staff   2204003 Apr 25 22:23 SNP_data27a.bed\n",
      "-rw-r--r--   1 biona001  staff  11990944 Apr 17 10:20 SNP_def10c.txt\n",
      "-rw-r--r--   1 biona001  staff   6776599 Apr 17 22:01 SNP_def10c_converted.txt\n",
      "-rw-r--r--   1 biona001  staff      2808 Apr 25 15:41 SNP_def23a.txt\n",
      "-rw-r--r--   1 biona001  staff    579603 Apr 25 22:35 SNP_def27a.in\n",
      "-rw-r--r--@  1 biona001  staff   1512794 Apr 25 20:43 Summary10c.out\n",
      "-rw-r--r--   1 biona001  staff   5030225 Apr 25 21:22 Summary23a.out\n",
      "-rw-r--r--   1 biona001  staff   7165919 Apr 25 22:33 Summary27a.out\n",
      "-rw-r--r--   1 biona001  staff       293 Apr 25 09:11 control10c.txt\n",
      "-rw-r--r--   1 biona001  staff       253 Apr 25 15:48 control23a.txt\n",
      "-rw-r--r--@  1 biona001  staff       253 Apr 25 22:28 control27a.txt\n",
      "-rw-r--r--@  1 biona001  staff       614 Apr 25 22:40 convert_10c_data.jl\n",
      "-rw-r--r--   1 biona001  staff       156 Apr 25 09:11 execute.jl\n",
      "-rw-r--r--   1 biona001  staff       180 Apr 17 09:40 gwas 1 Control.txt\n",
      "-rw-r--r--@  1 biona001  staff     28733 Apr 11 21:13 gwas 1 Manhattan Plot Output.png\n",
      "-rw-r--r--   1 biona001  staff         0 Apr 17 09:41 gwas 1 Output.txt\n",
      "-rw-r--r--   1 biona001  staff   5500003 Apr 11 21:13 gwas 1 data.bed\n",
      "-rw-r--r--   1 biona001  staff    460000 Apr 11 21:13 gwas 1 data.bim\n",
      "-rw-r--r--   1 biona001  staff     95326 Apr 11 21:13 gwas 1 data.fam\n",
      "-rw-r--r--   1 biona001  staff       239 Apr 17 09:41 kinship_Control.txt\n",
      "-rw-r--r--   1 biona001  staff         0 Apr 12 11:17 kinship_Output.txt\n",
      "-rw-r--r--   1 biona001  staff       252 Nov 15 10:29 kinship_PedigreeFrame.txt\n",
      "-rw-r--r--@  1 biona001  staff     10484 Apr 26 10:15 kinship_check.ipynb\n",
      "-rw-r--r--   1 biona001  staff      3098 Apr 11 14:07 kinship_file_Output.txt\n",
      "-rw-r--r--   1 biona001  staff     38559 Apr 25 23:10 mendel vs openmendel check.ipynb\n",
      "-rw-r--r--   1 biona001  staff       212 Nov 13 10:42 runtests.jl\n",
      "-rw-r--r--   1 biona001  staff       711 Apr 19 11:39 test_getindex.jl\n"
     ]
    }
   ],
   "source": [
    ";ls -al"
   ]
  },
  {
   "cell_type": "markdown",
   "metadata": {},
   "source": [
    "Since SnpArrays package expects BED file. We create a symbolic link to the `SNP_data10c.bin` file, which same as BED file."
   ]
  },
  {
   "cell_type": "code",
   "execution_count": 9,
   "metadata": {
    "collapsed": false
   },
   "outputs": [
    {
     "ename": "LoadError",
     "evalue": "\u001b[91mUndefVarError: SNP_data10c not defined\u001b[39m",
     "output_type": "error",
     "traceback": [
      "\u001b[91mUndefVarError: SNP_data10c not defined\u001b[39m",
      "",
      "Stacktrace:",
      " [1] \u001b[1minclude_string\u001b[22m\u001b[22m\u001b[1m(\u001b[22m\u001b[22m::String, ::String\u001b[1m)\u001b[22m\u001b[22m at \u001b[1m./loading.jl:515\u001b[22m\u001b[22m"
     ]
    }
   ],
   "source": [
    "# ;ln -s ./SNP_data10c.bin ./SNP_data10c.bed\n",
    ";ln -s SNP_data23a.bin ./SNP_data23a.bed"
   ]
  },
  {
   "cell_type": "code",
   "execution_count": 3,
   "metadata": {
    "collapsed": false
   },
   "outputs": [
    {
     "name": "stdout",
     "output_type": "stream",
     "text": [
      "Pedigree,Person,Father,Mother,Sex,,,simTrait\n",
      "  1       ,  16      ,          ,          ,  F       ,          ,  33.20564,\n",
      "  1       ,  8228    ,          ,          ,  F       ,          ,  35.80179,\n",
      "  1       ,  17008   ,          ,          ,  M       ,          ,  41.82143,\n",
      "  1       ,  9218    ,  17008   ,  16      ,  M       ,          ,  38.85567,\n",
      "  1       ,  3226    ,  9218    ,  8228    ,  F       ,          ,  31.84652,\n",
      "  2       ,  29      ,          ,          ,  F       ,          ,  40.17929,\n",
      "  2       ,  2294    ,          ,          ,  M       ,          ,  46.88099,\n",
      "  2       ,  3416    ,          ,          ,  M       ,          ,  44.98316,\n",
      "  2       ,  17893   ,  2294    ,  29      ,  F       ,          ,  39.84480,\n"
     ]
    }
   ],
   "source": [
    ";head Ped10c.in"
   ]
  },
  {
   "cell_type": "code",
   "execution_count": 4,
   "metadata": {
    "collapsed": false
   },
   "outputs": [
    {
     "data": {
      "text/plain": [
       "(Any[\"  PED054  \", \"  PED054  \", \"  PED054  \", \"  PED058  \", \"  PED058  \", \"  PED058  \", \"  PED069  \", \"  PED069  \", \"  PED069  \", \"  PED076  \"  …  \"  PEDX832 \", \"  PEDX8365\", \"  PEDX8365\", \"  PEDX8365\", \"  PEDX8413\", \"  PEDX8413\", \"  PEDX8413\", \"  PEDX8437\", \"  PEDX8437\", \"  PEDX8437\"], [430, 412, 431, 438, 470, 444, 543, 516, 513, 573  …  3704, 2008, 3343, 3344, 2712, 2715, 2716, 3087, 3088, 3220])"
      ]
     },
     "execution_count": 4,
     "metadata": {},
     "output_type": "execute_result"
    }
   ],
   "source": [
    "# ped = readcsv(\"Ped10c.in\")\n",
    "# famid, perid = Int.(ped[:, 1]), Int.(ped[:, 2])\n",
    "\n",
    "ped = readcsv(\"Ped23a.in\")\n",
    "famid, perid = ped[2:end, 1], Int.(ped[2:end, 2])"
   ]
  },
  {
   "cell_type": "code",
   "execution_count": null,
   "metadata": {
    "collapsed": false
   },
   "outputs": [],
   "source": [
    "using SnpArrays\n",
    "\n",
    "# s = SnpArray(\"SNP_data10c\"; people=212, snps=253141)\n",
    "s = SnpArray(\"SNP_data23a\"; people=462, snps=19000)"
   ]
  },
  {
   "cell_type": "code",
   "execution_count": null,
   "metadata": {
    "collapsed": false
   },
   "outputs": [],
   "source": [
    "# use every 5 SNPs to match Mendel's default\n",
    "Φgrm = grm(s[:, 1:5:253141])"
   ]
  },
  {
   "cell_type": "markdown",
   "metadata": {},
   "source": [
    "Read in Mendel 10c output in Summary file."
   ]
  },
  {
   "cell_type": "code",
   "execution_count": null,
   "metadata": {
    "collapsed": false
   },
   "outputs": [],
   "source": [
    "mendel_output = readdlm(\"Summary10c.out\", header = true)"
   ]
  },
  {
   "cell_type": "code",
   "execution_count": null,
   "metadata": {
    "collapsed": true
   },
   "outputs": [],
   "source": [
    "mendel_famid_1 = Int.(mendel_output[:, 1])\n",
    "mendel_perid_1 = Int.(mendel_output[:, 2])\n",
    "mendel_famid_2 = Int.(mendel_output[:, 3])\n",
    "mendel_perid_2 = Int.(mendel_output[:, 4])\n",
    "Φ_theoretical = mendel_output[:, 5]\n",
    "Φ_empirical = mendel_output[:, 6];"
   ]
  },
  {
   "cell_type": "code",
   "execution_count": null,
   "metadata": {
    "collapsed": false
   },
   "outputs": [],
   "source": [
    "function index_in_ped(fid, pid, fid_list, pid_list)\n",
    "    for i in 1:length(fid_list)\n",
    "        (fid == fid_list[i] && pid == pid_list[i]) && return i\n",
    "    end\n",
    "    return 0\n",
    "end"
   ]
  },
  {
   "cell_type": "code",
   "execution_count": null,
   "metadata": {
    "collapsed": true
   },
   "outputs": [],
   "source": [
    "Φ_snparray = similar(Φ_empirical)\n",
    "for iter = 1:length(Φ_empirical)\n",
    "    i = index_in_ped(mendel_famid_1[iter], mendel_perid_1[iter], famid, perid)\n",
    "    j = index_in_ped(mendel_famid_2[iter], mendel_perid_2[iter], famid, perid)\n",
    "    Φ_snparray[iter] = Φgrm[i, j]\n",
    "end"
   ]
  },
  {
   "cell_type": "code",
   "execution_count": null,
   "metadata": {
    "collapsed": false
   },
   "outputs": [],
   "source": [
    "[Φ_theoretical Φ_empirical Φ_snparray]"
   ]
  },
  {
   "cell_type": "code",
   "execution_count": null,
   "metadata": {
    "collapsed": false
   },
   "outputs": [],
   "source": [
    "using Plots\n",
    "gr()\n",
    "\n",
    "histogram(Φ_empirical - Φ_snparray)"
   ]
  }
 ],
 "metadata": {
  "kernelspec": {
   "display_name": "Julia 0.6.0",
   "language": "julia",
   "name": "julia-0.6"
  },
  "language_info": {
   "file_extension": ".jl",
   "mimetype": "application/julia",
   "name": "julia",
   "version": "0.6.0"
  },
  "toc": {
   "colors": {
    "hover_highlight": "#DAA520",
    "running_highlight": "#FF0000",
    "selected_highlight": "#FFD700"
   },
   "moveMenuLeft": true,
   "nav_menu": {
    "height": "12px",
    "width": "252px"
   },
   "navigate_menu": true,
   "number_sections": true,
   "sideBar": true,
   "threshold": 4,
   "toc_cell": false,
   "toc_section_display": "block",
   "toc_window_display": false,
   "widenNotebook": false
  }
 },
 "nbformat": 4,
 "nbformat_minor": 2
}
