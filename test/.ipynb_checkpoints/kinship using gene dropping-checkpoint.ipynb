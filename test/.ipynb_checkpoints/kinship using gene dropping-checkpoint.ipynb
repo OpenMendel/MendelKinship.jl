{
 "cells": [
  {
   "cell_type": "markdown",
   "metadata": {
    "collapsed": false
   },
   "source": [
    "## How to prove MendelKinship works\n",
    "1. Remove everybody's genotype but keep pedigree structure\n",
    "2. Assign founders genotypes using known MAF (e.g. MAF = 0.1) in Hardy Weinburg proportions\n",
    "3. Use GeneDropping to \"drop\" founder genotypes into non-founders\n",
    "4. Use Kinship to estimate everyone's genetic relationship. \n",
    "5. Compare theoretical and empirical genetic relationship, and there should be no significant difference, because we simulated the genotypes under HWE\n"
   ]
  },
  {
   "cell_type": "code",
   "execution_count": 1,
   "metadata": {
    "collapsed": false
   },
   "outputs": [
    {
     "name": "stderr",
     "output_type": "stream",
     "text": [
      "ln: ./SNP_data10c.bed: File exists\n"
     ]
    }
   ],
   "source": [
    ";ln -s ./SNP_data10c.bin ./SNP_data10c.bed"
   ]
  },
  {
   "cell_type": "code",
   "execution_count": 2,
   "metadata": {
    "collapsed": false,
    "scrolled": true
   },
   "outputs": [
    {
     "name": "stderr",
     "output_type": "stream",
     "text": [
      "\u001b[1m\u001b[36mINFO: \u001b[39m\u001b[22m\u001b[36mv1.0 BED file detected\n",
      "\u001b[39m"
     ]
    },
    {
     "data": {
      "text/plain": [
       "212×253141 SnpArrays.SnpArray{2}:\n",
       " (true, true)  (true, true)   …  (true, true)    (false, false)\n",
       " (true, true)  (true, true)      (true, true)    (false, false)\n",
       " (true, true)  (true, true)      (true, true)    (false, false)\n",
       " (true, true)  (true, true)      (true, true)    (false, false)\n",
       " (true, true)  (true, true)      (true, true)    (false, false)\n",
       " (true, true)  (true, true)   …  (false, false)  (true, true)  \n",
       " (true, true)  (false, true)     (false, false)  (true, true)  \n",
       " (true, true)  (true, true)      (false, false)  (true, true)  \n",
       " (true, true)  (false, true)     (false, false)  (true, true)  \n",
       " (true, true)  (false, true)     (false, false)  (true, true)  \n",
       " (true, true)  (false, true)  …  (false, false)  (true, true)  \n",
       " (true, true)  (true, true)      (false, false)  (true, true)  \n",
       " (true, true)  (false, true)     (false, false)  (true, true)  \n",
       " ⋮                            ⋱                  ⋮             \n",
       " (true, true)  (true, true)   …  (true, true)    (false, false)\n",
       " (true, true)  (true, true)      (false, true)   (false, true) \n",
       " (true, true)  (true, true)      (true, true)    (false, false)\n",
       " (true, true)  (false, true)     (false, false)  (true, true)  \n",
       " (true, true)  (true, true)      (true, true)    (false, false)\n",
       " (true, true)  (true, true)   …  (false, true)   (false, false)\n",
       " (true, true)  (true, true)      (false, true)   (false, true) \n",
       " (true, true)  (true, true)      (true, true)    (false, false)\n",
       " (true, true)  (false, true)     (false, true)   (false, true) \n",
       " (true, true)  (true, true)      (true, true)    (false, false)\n",
       " (true, true)  (true, true)   …  (true, true)    (false, false)\n",
       " (true, true)  (true, true)      (false, true)   (false, true) "
      ]
     },
     "execution_count": 2,
     "metadata": {},
     "output_type": "execute_result"
    }
   ],
   "source": [
    "using SnpArrays\n",
    "s = SnpArray(\"SNP_data10c\"; people=212, snps=253141)\n"
   ]
  },
  {
   "cell_type": "code",
   "execution_count": 6,
   "metadata": {
    "collapsed": false
   },
   "outputs": [
    {
     "name": "stderr",
     "output_type": "stream",
     "text": [
      "\u001b[1m\u001b[33mWARNING: \u001b[39m\u001b[22m\u001b[33mreadtable is deprecated, use CSV.read from the CSV package instead\u001b[39m\n",
      "Stacktrace:\n",
      " [1] \u001b[1mdepwarn\u001b[22m\u001b[22m\u001b[1m(\u001b[22m\u001b[22m::String, ::Symbol\u001b[1m)\u001b[22m\u001b[22m at \u001b[1m./deprecated.jl:70\u001b[22m\u001b[22m\n",
      " [2] \u001b[1m#readtable#229\u001b[22m\u001b[22m\u001b[1m(\u001b[22m\u001b[22m::Bool, ::Char, ::Array{Char,1}, ::Char, ::Array{String,1}, ::Array{String,1}, ::Array{String,1}, ::Bool, ::Int64, ::Array{Symbol,1}, ::Array{Any,1}, ::Bool, ::Char, ::Bool, ::Int64, ::Array{Int64,1}, ::Bool, ::Symbol, ::Bool, ::Bool, ::DataFrames.#readtable, ::String\u001b[1m)\u001b[22m\u001b[22m at \u001b[1m/Users/biona001/.julia/v0.6/DataFrames/src/deprecated.jl:1045\u001b[22m\u001b[22m\n",
      " [3] \u001b[1m(::DataFrames.#kw##readtable)\u001b[22m\u001b[22m\u001b[1m(\u001b[22m\u001b[22m::Array{Any,1}, ::DataFrames.#readtable, ::String\u001b[1m)\u001b[22m\u001b[22m at \u001b[1m./<missing>:0\u001b[22m\u001b[22m\n",
      " [4] \u001b[1minclude_string\u001b[22m\u001b[22m\u001b[1m(\u001b[22m\u001b[22m::String, ::String\u001b[1m)\u001b[22m\u001b[22m at \u001b[1m./loading.jl:515\u001b[22m\u001b[22m\n",
      " [5] \u001b[1mexecute_request\u001b[22m\u001b[22m\u001b[1m(\u001b[22m\u001b[22m::ZMQ.Socket, ::IJulia.Msg\u001b[1m)\u001b[22m\u001b[22m at \u001b[1m/Users/biona001/.julia/v0.6/IJulia/src/execute_request.jl:158\u001b[22m\u001b[22m\n",
      " [6] \u001b[1m(::Compat.#inner#18{Array{Any,1},IJulia.#execute_request,Tuple{ZMQ.Socket,IJulia.Msg}})\u001b[22m\u001b[22m\u001b[1m(\u001b[22m\u001b[22m\u001b[1m)\u001b[22m\u001b[22m at \u001b[1m/Users/biona001/.julia/v0.6/Compat/src/Compat.jl:386\u001b[22m\u001b[22m\n",
      " [7] \u001b[1meventloop\u001b[22m\u001b[22m\u001b[1m(\u001b[22m\u001b[22m::ZMQ.Socket\u001b[1m)\u001b[22m\u001b[22m at \u001b[1m/Users/biona001/.julia/v0.6/IJulia/src/eventloop.jl:8\u001b[22m\u001b[22m\n",
      " [8] \u001b[1m(::IJulia.##14#17)\u001b[22m\u001b[22m\u001b[1m(\u001b[22m\u001b[22m\u001b[1m)\u001b[22m\u001b[22m at \u001b[1m./task.jl:335\u001b[22m\u001b[22m\n",
      "while loading In[6], in expression starting on line 3\n",
      "\u001b[1m\u001b[33mWARNING: \u001b[39m\u001b[22m\u001b[33mDuplicate variable names are deprecated: pass makeunique=true to add a suffix automatically.\u001b[39m\n",
      "Stacktrace:\n",
      " [1] \u001b[1mdepwarn\u001b[22m\u001b[22m\u001b[1m(\u001b[22m\u001b[22m::String, ::Symbol\u001b[1m)\u001b[22m\u001b[22m at \u001b[1m./deprecated.jl:70\u001b[22m\u001b[22m\n",
      " [2] \u001b[1m#make_unique#3\u001b[22m\u001b[22m\u001b[1m(\u001b[22m\u001b[22m::Bool, ::Function, ::Array{Symbol,1}\u001b[1m)\u001b[22m\u001b[22m at \u001b[1m/Users/biona001/.julia/v0.6/DataFrames/src/other/utils.jl:61\u001b[22m\u001b[22m\n",
      " [3] \u001b[1m(::DataFrames.#kw##make_unique)\u001b[22m\u001b[22m\u001b[1m(\u001b[22m\u001b[22m::Array{Any,1}, ::DataFrames.#make_unique, ::Array{Symbol,1}\u001b[1m)\u001b[22m\u001b[22m at \u001b[1m./<missing>:0\u001b[22m\u001b[22m\n",
      " [4] \u001b[1m#Index#6\u001b[22m\u001b[22m at \u001b[1m/Users/biona001/.julia/v0.6/DataFrames/src/other/index.jl:12\u001b[22m\u001b[22m [inlined]\n",
      " [5] \u001b[1m(::Core.#kw#Type)\u001b[22m\u001b[22m\u001b[1m(\u001b[22m\u001b[22m::Array{Any,1}, ::Type{DataFrames.Index}, ::Array{Symbol,1}\u001b[1m)\u001b[22m\u001b[22m at \u001b[1m./<missing>:0\u001b[22m\u001b[22m\n",
      " [6] \u001b[1m#DataFrame#57\u001b[22m\u001b[22m\u001b[1m(\u001b[22m\u001b[22m::Bool, ::Type{T} where T, ::Array{Any,1}, ::Array{Symbol,1}\u001b[1m)\u001b[22m\u001b[22m at \u001b[1m/Users/biona001/.julia/v0.6/DataFrames/src/dataframe/dataframe.jl:156\u001b[22m\u001b[22m\n",
      " [7] \u001b[1mbuilddf\u001b[22m\u001b[22m\u001b[1m(\u001b[22m\u001b[22m::Int64, ::Int64, ::Int64, ::Int64, ::DataFrames.ParsedCSV, ::DataFrames.ParseOptions{String,String}\u001b[1m)\u001b[22m\u001b[22m at \u001b[1m/Users/biona001/.julia/v0.6/DataFrames/src/deprecated.jl:767\u001b[22m\u001b[22m\n",
      " [8] \u001b[1mreadtable!\u001b[22m\u001b[22m\u001b[1m(\u001b[22m\u001b[22m::DataFrames.ParsedCSV, ::IOStream, ::Int64, ::DataFrames.ParseOptions{String,String}\u001b[1m)\u001b[22m\u001b[22m at \u001b[1m/Users/biona001/.julia/v0.6/DataFrames/src/deprecated.jl:907\u001b[22m\u001b[22m\n",
      " [9] \u001b[1m#readtable#228\u001b[22m\u001b[22m\u001b[1m(\u001b[22m\u001b[22m::Bool, ::Char, ::Array{Char,1}, ::Char, ::Array{String,1}, ::Array{String,1}, ::Array{String,1}, ::Bool, ::Int64, ::Array{Symbol,1}, ::Array{Any,1}, ::Bool, ::Char, ::Bool, ::Int64, ::Array{Int64,1}, ::Bool, ::Symbol, ::Bool, ::Bool, ::DataFrames.#readtable, ::IOStream, ::Int64\u001b[1m)\u001b[22m\u001b[22m at \u001b[1m/Users/biona001/.julia/v0.6/DataFrames/src/deprecated.jl:966\u001b[22m\u001b[22m\n",
      " [10] \u001b[1m(::DataFrames.#kw##readtable)\u001b[22m\u001b[22m\u001b[1m(\u001b[22m\u001b[22m::Array{Any,1}, ::DataFrames.#readtable, ::IOStream, ::Int64\u001b[1m)\u001b[22m\u001b[22m at \u001b[1m./<missing>:0\u001b[22m\u001b[22m\n",
      " [11] \u001b[1mopen\u001b[22m\u001b[22m\u001b[1m(\u001b[22m\u001b[22m::DataFrames.#_r#230{Bool,Char,Array{Char,1},Char,Array{String,1},Array{String,1},Array{String,1},Bool,Int64,Array{Symbol,1},Array{Any,1},Bool,Char,Bool,Int64,Array{Int64,1},Bool,Symbol,Bool,Bool}, ::String, ::String\u001b[1m)\u001b[22m\u001b[22m at \u001b[1m./iostream.jl:152\u001b[22m\u001b[22m\n",
      " [12] \u001b[1m#readtable#229\u001b[22m\u001b[22m\u001b[1m(\u001b[22m\u001b[22m::Bool, ::Char, ::Array{Char,1}, ::Char, ::Array{String,1}, ::Array{String,1}, ::Array{String,1}, ::Bool, ::Int64, ::Array{Symbol,1}, ::Array{Any,1}, ::Bool, ::Char, ::Bool, ::Int64, ::Array{Int64,1}, ::Bool, ::Symbol, ::Bool, ::Bool, ::DataFrames.#readtable, ::String\u001b[1m)\u001b[22m\u001b[22m at \u001b[1m/Users/biona001/.julia/v0.6/DataFrames/src/deprecated.jl:1085\u001b[22m\u001b[22m\n",
      " [13] \u001b[1m(::DataFrames.#kw##readtable)\u001b[22m\u001b[22m\u001b[1m(\u001b[22m\u001b[22m::Array{Any,1}, ::DataFrames.#readtable, ::String\u001b[1m)\u001b[22m\u001b[22m at \u001b[1m./<missing>:0\u001b[22m\u001b[22m\n",
      " [14] \u001b[1minclude_string\u001b[22m\u001b[22m\u001b[1m(\u001b[22m\u001b[22m::String, ::String\u001b[1m)\u001b[22m\u001b[22m at \u001b[1m./loading.jl:515\u001b[22m\u001b[22m\n",
      " [15] \u001b[1mexecute_request\u001b[22m\u001b[22m\u001b[1m(\u001b[22m\u001b[22m::ZMQ.Socket, ::IJulia.Msg\u001b[1m)\u001b[22m\u001b[22m at \u001b[1m/Users/biona001/.julia/v0.6/IJulia/src/execute_request.jl:158\u001b[22m\u001b[22m\n",
      " [16] \u001b[1m(::Compat.#inner#18{Array{Any,1},IJulia.#execute_request,Tuple{ZMQ.Socket,IJulia.Msg}})\u001b[22m\u001b[22m\u001b[1m(\u001b[22m\u001b[22m\u001b[1m)\u001b[22m\u001b[22m at \u001b[1m/Users/biona001/.julia/v0.6/Compat/src/Compat.jl:386\u001b[22m\u001b[22m\n",
      " [17] \u001b[1meventloop\u001b[22m\u001b[22m\u001b[1m(\u001b[22m\u001b[22m::ZMQ.Socket\u001b[1m)\u001b[22m\u001b[22m at \u001b[1m/Users/biona001/.julia/v0.6/IJulia/src/eventloop.jl:8\u001b[22m\u001b[22m\n",
      " [18] \u001b[1m(::IJulia.##14#17)\u001b[22m\u001b[22m\u001b[1m(\u001b[22m\u001b[22m\u001b[1m)\u001b[22m\u001b[22m at \u001b[1m./task.jl:335\u001b[22m\u001b[22m\n",
      "while loading In[6], in expression starting on line 3\n"
     ]
    },
    {
     "data": {
      "text/plain": [
       "212×253141 Array{Float64,2}:\n",
       " 0.0  0.0  0.0  0.0  0.0  0.0  0.0  0.0  …  1.0  1.0  1.0  0.0  0.0  0.0  0.0\n",
       " 0.0  0.0  0.0  1.0  1.0  0.0  0.0  0.0     0.0  0.0  0.0  0.0  0.0  0.0  0.0\n",
       " 0.0  0.0  0.0  0.0  0.0  0.0  0.0  0.0     2.0  2.0  1.0  0.0  0.0  0.0  0.0\n",
       " 0.0  0.0  0.0  0.0  0.0  0.0  0.0  0.0     1.0  1.0  0.0  0.0  0.0  0.0  0.0\n",
       " 0.0  0.0  0.0  0.0  0.0  0.0  0.0  0.0     0.0  0.0  0.0  0.0  0.0  0.0  0.0\n",
       " 0.0  0.0  0.0  0.0  0.0  0.0  0.0  0.0  …  1.0  0.0  2.0  0.0  0.0  2.0  2.0\n",
       " 0.0  1.0  0.0  0.0  0.0  0.0  0.0  0.0     1.0  1.0  0.0  0.0  2.0  2.0  2.0\n",
       " 0.0  0.0  0.0  0.0  0.0  0.0  0.0  0.0     1.0  1.0  0.0  0.0  2.0  2.0  2.0\n",
       " 0.0  1.0  0.0  0.0  0.0  0.0  0.0  0.0     1.0  1.0  1.0  0.0  1.0  2.0  2.0\n",
       " 0.0  1.0  0.0  0.0  0.0  0.0  0.0  0.0     2.0  2.0  0.0  0.0  2.0  2.0  2.0\n",
       " 0.0  1.0  0.0  0.0  0.0  0.0  0.0  0.0  …  0.0  0.0  1.0  0.0  1.0  2.0  2.0\n",
       " 0.0  0.0  0.0  0.0  0.0  0.0  0.0  0.0     1.0  0.0  1.0  0.0  1.0  2.0  2.0\n",
       " 0.0  1.0  0.0  0.0  0.0  0.0  0.0  0.0     1.0  1.0  1.0  0.0  1.0  2.0  2.0\n",
       " ⋮                        ⋮              ⋱       ⋮                        ⋮  \n",
       " 0.0  0.0  0.0  0.0  0.0  0.0  0.0  0.0  …  0.0  0.0  0.0  0.0  0.0  0.0  0.0\n",
       " 0.0  0.0  0.0  0.0  0.0  0.0  0.0  0.0     0.0  0.0  0.0  0.0  1.0  1.0  1.0\n",
       " 0.0  0.0  0.0  0.0  0.0  0.0  0.0  0.0     0.0  0.0  1.0  0.0  0.0  0.0  0.0\n",
       " 0.0  1.0  0.0  1.0  1.0  0.0  0.0  1.0     1.0  1.0  0.0  0.0  2.0  2.0  2.0\n",
       " 0.0  0.0  0.0  1.0  1.0  0.0  0.0  0.0     1.0  1.0  0.0  0.0  0.0  0.0  0.0\n",
       " 0.0  0.0  0.0  0.0  0.0  0.0  0.0  0.0  …  1.0  1.0  0.0  0.0  1.0  1.0  0.0\n",
       " 0.0  0.0  0.0  1.0  1.0  0.0  0.0  0.0     2.0  1.0  0.0  0.0  0.0  1.0  1.0\n",
       " 0.0  0.0  0.0  0.0  0.0  0.0  0.0  1.0     1.0  0.0  0.0  0.0  0.0  0.0  0.0\n",
       " 0.0  1.0  0.0  0.0  0.0  0.0  0.0  0.0     1.0  1.0  0.0  0.0  0.0  1.0  1.0\n",
       " 0.0  0.0  0.0  0.0  0.0  0.0  0.0  0.0     0.0  0.0  0.0  0.0  0.0  0.0  0.0\n",
       " 0.0  0.0  0.0  0.0  0.0  0.0  0.0  0.0  …  1.0  1.0  0.0  0.0  0.0  0.0  0.0\n",
       " 0.0  0.0  0.0  0.0  0.0  0.0  0.0  0.0     0.0  0.0  0.0  0.0  1.0  1.0  1.0"
      ]
     },
     "execution_count": 6,
     "metadata": {},
     "output_type": "execute_result"
    }
   ],
   "source": [
    "using DataFrames, CSV\n",
    "\n",
    "old_ped_file = readtable(\"Ped10c.in\", header = true)[:, 1:4]\n",
    "snp_data = convert(Array{Float64, 2}, s)\n"
   ]
  },
  {
   "cell_type": "code",
   "execution_count": 4,
   "metadata": {
    "collapsed": false
   },
   "outputs": [
    {
     "ename": "LoadError",
     "evalue": "\u001b[91mUndefVarError: old_ped_file not defined\u001b[39m",
     "output_type": "error",
     "traceback": [
      "\u001b[91mUndefVarError: old_ped_file not defined\u001b[39m",
      ""
     ]
    }
   ],
   "source": [
    "size(old_ped_file)\n",
    "col_names = [];\n",
    "for i in 1:size(snp_data, 2)\n",
    "    new_snp = Symbol(\"snp_\" * string(i))\n",
    "    push!(col_names, new_snp)\n",
    "end"
   ]
  },
  {
   "cell_type": "code",
   "execution_count": 5,
   "metadata": {
    "collapsed": false
   },
   "outputs": [
    {
     "ename": "LoadError",
     "evalue": "\u001b[91mUndefVarError: snp_data not defined\u001b[39m",
     "output_type": "error",
     "traceback": [
      "\u001b[91mUndefVarError: snp_data not defined\u001b[39m",
      ""
     ]
    }
   ],
   "source": [
    "named_snp = convert(DataFrame, snp_data)\n",
    "rename!(named_snp.colindex, [(Symbol(\"x$i\")=>Symbol(\"snp_$i\")) for i in 1:size(named_snp, 2)])\n"
   ]
  },
  {
   "cell_type": "code",
   "execution_count": null,
   "metadata": {
    "collapsed": true
   },
   "outputs": [],
   "source": []
  }
 ],
 "metadata": {
  "kernelspec": {
   "display_name": "Julia 0.6.0",
   "language": "julia",
   "name": "julia-0.6"
  },
  "language_info": {
   "file_extension": ".jl",
   "mimetype": "application/julia",
   "name": "julia",
   "version": "0.6.0"
  }
 },
 "nbformat": 4,
 "nbformat_minor": 2
}
