{
 "cells": [
  {
   "cell_type": "code",
   "execution_count": 1,
   "metadata": {
    "collapsed": false,
    "scrolled": true
   },
   "outputs": [
    {
     "name": "stderr",
     "output_type": "stream",
     "text": [
      "\u001b[1m\u001b[33mWARNING: \u001b[39m\u001b[22m\u001b[33mreadtable is deprecated, use CSV.read from the CSV package instead\u001b[39m\n",
      "Stacktrace:\n",
      " [1] \u001b[1mdepwarn\u001b[22m\u001b[22m\u001b[1m(\u001b[22m\u001b[22m::String, ::Symbol\u001b[1m)\u001b[22m\u001b[22m at \u001b[1m./deprecated.jl:70\u001b[22m\u001b[22m\n",
      " [2] \u001b[1m#readtable#233\u001b[22m\u001b[22m\u001b[1m(\u001b[22m\u001b[22m::Bool, ::Char, ::Array{Char,1}, ::Char, ::Array{String,1}, ::Array{String,1}, ::Array{String,1}, ::Bool, ::Int64, ::Array{Symbol,1}, ::Array{Any,1}, ::Bool, ::Char, ::Bool, ::Int64, ::Array{Int64,1}, ::Bool, ::Symbol, ::Bool, ::Bool, ::DataFrames.#readtable, ::String\u001b[1m)\u001b[22m\u001b[22m at \u001b[1m/Users/biona001/.julia/v0.6/DataFrames/src/deprecated.jl:1050\u001b[22m\u001b[22m\n",
      " [3] \u001b[1m(::DataFrames.#kw##readtable)\u001b[22m\u001b[22m\u001b[1m(\u001b[22m\u001b[22m::Array{Any,1}, ::DataFrames.#readtable, ::String\u001b[1m)\u001b[22m\u001b[22m at \u001b[1m./<missing>:0\u001b[22m\u001b[22m\n",
      " [4] \u001b[1minclude_string\u001b[22m\u001b[22m\u001b[1m(\u001b[22m\u001b[22m::String, ::String\u001b[1m)\u001b[22m\u001b[22m at \u001b[1m./loading.jl:515\u001b[22m\u001b[22m\n",
      " [5] \u001b[1minclude_string\u001b[22m\u001b[22m\u001b[1m(\u001b[22m\u001b[22m::Module, ::String, ::String\u001b[1m)\u001b[22m\u001b[22m at \u001b[1m/Users/biona001/.julia/v0.6/Compat/src/Compat.jl:71\u001b[22m\u001b[22m\n",
      " [6] \u001b[1mexecute_request\u001b[22m\u001b[22m\u001b[1m(\u001b[22m\u001b[22m::ZMQ.Socket, ::IJulia.Msg\u001b[1m)\u001b[22m\u001b[22m at \u001b[1m/Users/biona001/.julia/v0.6/IJulia/src/execute_request.jl:158\u001b[22m\u001b[22m\n",
      " [7] \u001b[1m(::Compat.#inner#17{Array{Any,1},IJulia.#execute_request,Tuple{ZMQ.Socket,IJulia.Msg}})\u001b[22m\u001b[22m\u001b[1m(\u001b[22m\u001b[22m\u001b[1m)\u001b[22m\u001b[22m at \u001b[1m/Users/biona001/.julia/v0.6/Compat/src/Compat.jl:385\u001b[22m\u001b[22m\n",
      " [8] \u001b[1meventloop\u001b[22m\u001b[22m\u001b[1m(\u001b[22m\u001b[22m::ZMQ.Socket\u001b[1m)\u001b[22m\u001b[22m at \u001b[1m/Users/biona001/.julia/v0.6/IJulia/src/eventloop.jl:8\u001b[22m\u001b[22m\n",
      " [9] \u001b[1m(::IJulia.##14#17)\u001b[22m\u001b[22m\u001b[1m(\u001b[22m\u001b[22m\u001b[1m)\u001b[22m\u001b[22m at \u001b[1m./task.jl:335\u001b[22m\u001b[22m\n",
      "while loading In[1], in expression starting on line 5\n"
     ]
    },
    {
     "data": {
      "text/html": [
       "<table class=\"data-frame\"><thead><tr><th></th><th>Pedigree</th><th>Person</th><th>Mother</th><th>Father</th><th>Sex</th><th>Random_field</th></tr></thead><tbody><tr><th>1</th><td>2</td><td>200001</td><td>missing</td><td>missing</td><td>1</td><td>missing</td></tr><tr><th>2</th><td>2</td><td>200002</td><td>missing</td><td>missing</td><td>2</td><td>missing</td></tr><tr><th>3</th><td>2</td><td>200003</td><td>missing</td><td>missing</td><td>2</td><td>missing</td></tr><tr><th>4</th><td>2</td><td>200004</td><td>missing</td><td>missing</td><td>2</td><td>missing</td></tr><tr><th>5</th><td>2</td><td>200005</td><td>missing</td><td>missing</td><td>1</td><td>missing</td></tr><tr><th>6</th><td>2</td><td>200006</td><td>missing</td><td>missing</td><td>1</td><td>missing</td></tr><tr><th>7</th><td>2</td><td>200007</td><td>missing</td><td>missing</td><td>2</td><td>missing</td></tr><tr><th>8</th><td>2</td><td>200008</td><td>missing</td><td>missing</td><td>2</td><td>missing</td></tr><tr><th>9</th><td>2</td><td>200009</td><td>missing</td><td>missing</td><td>2</td><td>missing</td></tr><tr><th>10</th><td>2</td><td>200012</td><td>missing</td><td>missing</td><td>1</td><td>missing</td></tr><tr><th>11</th><td>2</td><td>200013</td><td>missing</td><td>missing</td><td>1</td><td>missing</td></tr><tr><th>12</th><td>2</td><td>200014</td><td>missing</td><td>missing</td><td>1</td><td>missing</td></tr><tr><th>13</th><td>2</td><td>200015</td><td>missing</td><td>missing</td><td>2</td><td>missing</td></tr><tr><th>14</th><td>2</td><td>200016</td><td>missing</td><td>missing</td><td>1</td><td>missing</td></tr><tr><th>15</th><td>2</td><td>200017</td><td>missing</td><td>missing</td><td>1</td><td>missing</td></tr><tr><th>16</th><td>2</td><td>200018</td><td>missing</td><td>missing</td><td>1</td><td>missing</td></tr><tr><th>17</th><td>2</td><td>200019</td><td>missing</td><td>missing</td><td>1</td><td>missing</td></tr><tr><th>18</th><td>2</td><td>200020</td><td>missing</td><td>missing</td><td>2</td><td>missing</td></tr><tr><th>19</th><td>2</td><td>200022</td><td>missing</td><td>missing</td><td>1</td><td>missing</td></tr><tr><th>20</th><td>2</td><td>200023</td><td>missing</td><td>missing</td><td>2</td><td>missing</td></tr><tr><th>21</th><td>2</td><td>200025</td><td>missing</td><td>missing</td><td>1</td><td>missing</td></tr><tr><th>22</th><td>2</td><td>200026</td><td>missing</td><td>missing</td><td>2</td><td>missing</td></tr><tr><th>23</th><td>2</td><td>200027</td><td>missing</td><td>missing</td><td>2</td><td>missing</td></tr><tr><th>24</th><td>2</td><td>200029</td><td>missing</td><td>missing</td><td>1</td><td>missing</td></tr><tr><th>25</th><td>2</td><td>200030</td><td>missing</td><td>missing</td><td>1</td><td>missing</td></tr><tr><th>26</th><td>2</td><td>200031</td><td>200001</td><td>200015</td><td>1</td><td>missing</td></tr><tr><th>27</th><td>2</td><td>200032</td><td>200001</td><td>200015</td><td>2</td><td>missing</td></tr><tr><th>28</th><td>2</td><td>200033</td><td>200001</td><td>200015</td><td>2</td><td>missing</td></tr><tr><th>29</th><td>2</td><td>200034</td><td>200001</td><td>200015</td><td>2</td><td>missing</td></tr><tr><th>30</th><td>2</td><td>200035</td><td>200001</td><td>200015</td><td>2</td><td>missing</td></tr><tr><th>&vellip;</th><td>&vellip;</td><td>&vellip;</td><td>&vellip;</td><td>&vellip;</td><td>&vellip;</td><td>&vellip;</td></tr></tbody></table>"
      ],
      "text/plain": [
       "1137×6 DataFrames.DataFrame\n",
       "│ Row  │ Pedigree │ Person  │ Mother  │ Father  │ Sex │ Random_field │\n",
       "├──────┼──────────┼─────────┼─────────┼─────────┼─────┼──────────────┤\n",
       "│ 1    │ 2        │ 200001  │ \u001b[90mmissing\u001b[39m │ \u001b[90mmissing\u001b[39m │ 1   │ \u001b[90mmissing\u001b[39m      │\n",
       "│ 2    │ 2        │ 200002  │ \u001b[90mmissing\u001b[39m │ \u001b[90mmissing\u001b[39m │ 2   │ \u001b[90mmissing\u001b[39m      │\n",
       "│ 3    │ 2        │ 200003  │ \u001b[90mmissing\u001b[39m │ \u001b[90mmissing\u001b[39m │ 2   │ \u001b[90mmissing\u001b[39m      │\n",
       "│ 4    │ 2        │ 200004  │ \u001b[90mmissing\u001b[39m │ \u001b[90mmissing\u001b[39m │ 2   │ \u001b[90mmissing\u001b[39m      │\n",
       "│ 5    │ 2        │ 200005  │ \u001b[90mmissing\u001b[39m │ \u001b[90mmissing\u001b[39m │ 1   │ \u001b[90mmissing\u001b[39m      │\n",
       "│ 6    │ 2        │ 200006  │ \u001b[90mmissing\u001b[39m │ \u001b[90mmissing\u001b[39m │ 1   │ \u001b[90mmissing\u001b[39m      │\n",
       "│ 7    │ 2        │ 200007  │ \u001b[90mmissing\u001b[39m │ \u001b[90mmissing\u001b[39m │ 2   │ \u001b[90mmissing\u001b[39m      │\n",
       "│ 8    │ 2        │ 200008  │ \u001b[90mmissing\u001b[39m │ \u001b[90mmissing\u001b[39m │ 2   │ \u001b[90mmissing\u001b[39m      │\n",
       "│ 9    │ 2        │ 200009  │ \u001b[90mmissing\u001b[39m │ \u001b[90mmissing\u001b[39m │ 2   │ \u001b[90mmissing\u001b[39m      │\n",
       "│ 10   │ 2        │ 200012  │ \u001b[90mmissing\u001b[39m │ \u001b[90mmissing\u001b[39m │ 1   │ \u001b[90mmissing\u001b[39m      │\n",
       "│ 11   │ 2        │ 200013  │ \u001b[90mmissing\u001b[39m │ \u001b[90mmissing\u001b[39m │ 1   │ \u001b[90mmissing\u001b[39m      │\n",
       "⋮\n",
       "│ 1126 │ 47       │ 4701129 │ 4701122 │ 4701117 │ 1   │ \u001b[90mmissing\u001b[39m      │\n",
       "│ 1127 │ 47       │ 4701130 │ 4701115 │ 4701121 │ 1   │ \u001b[90mmissing\u001b[39m      │\n",
       "│ 1128 │ 47       │ 4701131 │ 4701119 │ 4701123 │ 2   │ \u001b[90mmissing\u001b[39m      │\n",
       "│ 1129 │ 47       │ 4701132 │ 4701119 │ 4701123 │ 2   │ \u001b[90mmissing\u001b[39m      │\n",
       "│ 1130 │ 47       │ 4701133 │ 4701119 │ 4701123 │ 2   │ \u001b[90mmissing\u001b[39m      │\n",
       "│ 1131 │ 47       │ 4701134 │ 4701119 │ 4701123 │ 2   │ \u001b[90mmissing\u001b[39m      │\n",
       "│ 1132 │ 47       │ 4701135 │ 4701393 │ 4701123 │ 2   │ \u001b[90mmissing\u001b[39m      │\n",
       "│ 1133 │ 47       │ 4701136 │ 4701119 │ 4701123 │ 1   │ \u001b[90mmissing\u001b[39m      │\n",
       "│ 1134 │ 47       │ 4701137 │ 4701119 │ 4701123 │ 1   │ \u001b[90mmissing\u001b[39m      │\n",
       "│ 1135 │ 47       │ 4701138 │ 4701119 │ 4701123 │ 1   │ \u001b[90mmissing\u001b[39m      │\n",
       "│ 1136 │ 47       │ 4701139 │ 4701127 │ 4701118 │ 2   │ \u001b[90mmissing\u001b[39m      │\n",
       "│ 1137 │ 47       │ 4701393 │ \u001b[90mmissing\u001b[39m │ \u001b[90mmissing\u001b[39m │ 1   │ \u001b[90mmissing\u001b[39m      │"
      ]
     },
     "execution_count": 1,
     "metadata": {},
     "output_type": "execute_result"
    }
   ],
   "source": [
    "using CSV, DataFrames, MendelBase\n",
    "\n",
    "# Pedtrait3subQTL is merge-geno.fam with missing parents added in, \n",
    "# so it has more rows. e.g. person 200015\n",
    "ped = readtable(\"Pedtrait3subQTL.csv\", header = false) \n",
    "ped = ped[:, 1:6] \n",
    "rename!(ped, f => t for (f, t) = \n",
    "    zip([:x1, :x2, :x3, :x4, :x5, :x6], \n",
    "        [:Pedigree, :Person, :Mother, \n",
    "        :Father, :Sex, :Random_field]))"
   ]
  },
  {
   "cell_type": "markdown",
   "metadata": {},
   "source": [
    "#### convert missing values to 0 to match original .fam file structure"
   ]
  },
  {
   "cell_type": "code",
   "execution_count": 2,
   "metadata": {
    "collapsed": false,
    "scrolled": true
   },
   "outputs": [
    {
     "data": {
      "text/html": [
       "<table class=\"data-frame\"><thead><tr><th></th><th>Pedigree</th><th>Person</th><th>Mother</th><th>Father</th><th>Sex</th><th>Random_field</th></tr></thead><tbody><tr><th>1</th><td>2</td><td>200001</td><td>0</td><td>0</td><td>1</td><td>0</td></tr><tr><th>2</th><td>2</td><td>200002</td><td>0</td><td>0</td><td>2</td><td>0</td></tr><tr><th>3</th><td>2</td><td>200003</td><td>0</td><td>0</td><td>2</td><td>0</td></tr><tr><th>4</th><td>2</td><td>200004</td><td>0</td><td>0</td><td>2</td><td>0</td></tr><tr><th>5</th><td>2</td><td>200005</td><td>0</td><td>0</td><td>1</td><td>0</td></tr><tr><th>6</th><td>2</td><td>200006</td><td>0</td><td>0</td><td>1</td><td>0</td></tr><tr><th>7</th><td>2</td><td>200007</td><td>0</td><td>0</td><td>2</td><td>0</td></tr><tr><th>8</th><td>2</td><td>200008</td><td>0</td><td>0</td><td>2</td><td>0</td></tr><tr><th>9</th><td>2</td><td>200009</td><td>0</td><td>0</td><td>2</td><td>0</td></tr><tr><th>10</th><td>2</td><td>200012</td><td>0</td><td>0</td><td>1</td><td>0</td></tr><tr><th>11</th><td>2</td><td>200013</td><td>0</td><td>0</td><td>1</td><td>0</td></tr><tr><th>12</th><td>2</td><td>200014</td><td>0</td><td>0</td><td>1</td><td>0</td></tr><tr><th>13</th><td>2</td><td>200015</td><td>0</td><td>0</td><td>2</td><td>0</td></tr><tr><th>14</th><td>2</td><td>200016</td><td>0</td><td>0</td><td>1</td><td>0</td></tr><tr><th>15</th><td>2</td><td>200017</td><td>0</td><td>0</td><td>1</td><td>0</td></tr><tr><th>16</th><td>2</td><td>200018</td><td>0</td><td>0</td><td>1</td><td>0</td></tr><tr><th>17</th><td>2</td><td>200019</td><td>0</td><td>0</td><td>1</td><td>0</td></tr><tr><th>18</th><td>2</td><td>200020</td><td>0</td><td>0</td><td>2</td><td>0</td></tr><tr><th>19</th><td>2</td><td>200022</td><td>0</td><td>0</td><td>1</td><td>0</td></tr><tr><th>20</th><td>2</td><td>200023</td><td>0</td><td>0</td><td>2</td><td>0</td></tr><tr><th>21</th><td>2</td><td>200025</td><td>0</td><td>0</td><td>1</td><td>0</td></tr><tr><th>22</th><td>2</td><td>200026</td><td>0</td><td>0</td><td>2</td><td>0</td></tr><tr><th>23</th><td>2</td><td>200027</td><td>0</td><td>0</td><td>2</td><td>0</td></tr><tr><th>24</th><td>2</td><td>200029</td><td>0</td><td>0</td><td>1</td><td>0</td></tr><tr><th>25</th><td>2</td><td>200030</td><td>0</td><td>0</td><td>1</td><td>0</td></tr><tr><th>26</th><td>2</td><td>200031</td><td>200001</td><td>200015</td><td>1</td><td>0</td></tr><tr><th>27</th><td>2</td><td>200032</td><td>200001</td><td>200015</td><td>2</td><td>0</td></tr><tr><th>28</th><td>2</td><td>200033</td><td>200001</td><td>200015</td><td>2</td><td>0</td></tr><tr><th>29</th><td>2</td><td>200034</td><td>200001</td><td>200015</td><td>2</td><td>0</td></tr><tr><th>30</th><td>2</td><td>200035</td><td>200001</td><td>200015</td><td>2</td><td>0</td></tr><tr><th>&vellip;</th><td>&vellip;</td><td>&vellip;</td><td>&vellip;</td><td>&vellip;</td><td>&vellip;</td><td>&vellip;</td></tr></tbody></table>"
      ],
      "text/plain": [
       "1137×6 DataFrames.DataFrame\n",
       "│ Row  │ Pedigree │ Person  │ Mother  │ Father  │ Sex │ Random_field │\n",
       "├──────┼──────────┼─────────┼─────────┼─────────┼─────┼──────────────┤\n",
       "│ 1    │ 2        │ 200001  │ 0       │ 0       │ 1   │ 0            │\n",
       "│ 2    │ 2        │ 200002  │ 0       │ 0       │ 2   │ 0            │\n",
       "│ 3    │ 2        │ 200003  │ 0       │ 0       │ 2   │ 0            │\n",
       "│ 4    │ 2        │ 200004  │ 0       │ 0       │ 2   │ 0            │\n",
       "│ 5    │ 2        │ 200005  │ 0       │ 0       │ 1   │ 0            │\n",
       "│ 6    │ 2        │ 200006  │ 0       │ 0       │ 1   │ 0            │\n",
       "│ 7    │ 2        │ 200007  │ 0       │ 0       │ 2   │ 0            │\n",
       "│ 8    │ 2        │ 200008  │ 0       │ 0       │ 2   │ 0            │\n",
       "│ 9    │ 2        │ 200009  │ 0       │ 0       │ 2   │ 0            │\n",
       "│ 10   │ 2        │ 200012  │ 0       │ 0       │ 1   │ 0            │\n",
       "│ 11   │ 2        │ 200013  │ 0       │ 0       │ 1   │ 0            │\n",
       "⋮\n",
       "│ 1126 │ 47       │ 4701129 │ 4701122 │ 4701117 │ 1   │ 0            │\n",
       "│ 1127 │ 47       │ 4701130 │ 4701115 │ 4701121 │ 1   │ 0            │\n",
       "│ 1128 │ 47       │ 4701131 │ 4701119 │ 4701123 │ 2   │ 0            │\n",
       "│ 1129 │ 47       │ 4701132 │ 4701119 │ 4701123 │ 2   │ 0            │\n",
       "│ 1130 │ 47       │ 4701133 │ 4701119 │ 4701123 │ 2   │ 0            │\n",
       "│ 1131 │ 47       │ 4701134 │ 4701119 │ 4701123 │ 2   │ 0            │\n",
       "│ 1132 │ 47       │ 4701135 │ 4701393 │ 4701123 │ 2   │ 0            │\n",
       "│ 1133 │ 47       │ 4701136 │ 4701119 │ 4701123 │ 1   │ 0            │\n",
       "│ 1134 │ 47       │ 4701137 │ 4701119 │ 4701123 │ 1   │ 0            │\n",
       "│ 1135 │ 47       │ 4701138 │ 4701119 │ 4701123 │ 1   │ 0            │\n",
       "│ 1136 │ 47       │ 4701139 │ 4701127 │ 4701118 │ 2   │ 0            │\n",
       "│ 1137 │ 47       │ 4701393 │ 0       │ 0       │ 1   │ 0            │"
      ]
     },
     "execution_count": 2,
     "metadata": {},
     "output_type": "execute_result"
    }
   ],
   "source": [
    "ped = DataFrame(colwise(col -> recode(col, missing=>0), ped), names(ped))"
   ]
  },
  {
   "cell_type": "markdown",
   "metadata": {},
   "source": [
    "### Form a new .fam file to be imported later"
   ]
  },
  {
   "cell_type": "code",
   "execution_count": 9,
   "metadata": {
    "collapsed": false,
    "scrolled": true
   },
   "outputs": [
    {
     "data": {
      "text/plain": [
       "1137"
      ]
     },
     "execution_count": 9,
     "metadata": {},
     "output_type": "execute_result"
    }
   ],
   "source": [
    "# CSV.write(\"merge-geno-.fam\", ped, header=false, delim = ' ')\n",
    "size(ped, 1)"
   ]
  },
  {
   "cell_type": "markdown",
   "metadata": {},
   "source": [
    "### import genotype data into a SnpArray"
   ]
  },
  {
   "cell_type": "code",
   "execution_count": 8,
   "metadata": {
    "collapsed": false
   },
   "outputs": [
    {
     "name": "stderr",
     "output_type": "stream",
     "text": [
      "\u001b[1m\u001b[36mINFO: \u001b[39m\u001b[22m\u001b[36mv1.0 BED file detected\n",
      "\u001b[39m"
     ]
    },
    {
     "data": {
      "text/plain": [
       "959×8348674 SnpArrays.SnpArray{2}:\n",
       " (true, true)   (false, true)   …  (false, true)   (true, true)\n",
       " (true, true)   (false, true)      (true, true)    (true, true)\n",
       " (true, true)   (false, true)      (true, true)    (true, true)\n",
       " (true, true)   (true, true)       (true, true)    (true, true)\n",
       " (true, true)   (true, true)       (false, true)   (true, true)\n",
       " (true, true)   (true, false)   …  (false, true)   (true, true)\n",
       " (true, true)   (true, true)       (false, true)   (true, true)\n",
       " (true, true)   (true, true)       (true, true)    (true, true)\n",
       " (true, true)   (false, true)      (true, true)    (true, true)\n",
       " (true, true)   (true, true)       (true, true)    (true, true)\n",
       " (true, true)   (false, false)  …  (false, true)   (true, true)\n",
       " (true, true)   (true, true)       (false, true)   (true, true)\n",
       " (true, true)   (true, false)      (true, true)    (true, true)\n",
       " ⋮                              ⋱                              \n",
       " (true, true)   (true, false)      (true, true)    (true, true)\n",
       " (true, true)   (false, true)      (false, true)   (true, true)\n",
       " (true, true)   (false, true)      (false, true)   (true, true)\n",
       " (true, true)   (false, true)   …  (false, true)   (true, true)\n",
       " (true, true)   (false, true)      (false, true)   (true, true)\n",
       " (true, true)   (false, true)      (true, true)    (true, true)\n",
       " (true, true)   (false, true)      (false, true)   (true, true)\n",
       " (true, true)   (false, true)      (false, false)  (true, true)\n",
       " (true, false)  (true, true)    …  (false, true)   (true, true)\n",
       " (true, false)  (true, true)       (false, false)  (true, true)\n",
       " (true, true)   (false, true)      (false, true)   (true, true)\n",
       " (true, true)   (false, false)     (false, false)  (true, true)"
      ]
     },
     "execution_count": 8,
     "metadata": {},
     "output_type": "execute_result"
    }
   ],
   "source": [
    "using MendelBase, SnpArrays\n",
    "\n",
    "snpmatrix = SnpArray(\"merge-geno\")"
   ]
  },
  {
   "cell_type": "markdown",
   "metadata": {},
   "source": [
    "### Somehow create a new .bim/bed/fam trio given the new (larger) fam "
   ]
  },
  {
   "cell_type": "code",
   "execution_count": 14,
   "metadata": {
    "collapsed": false
   },
   "outputs": [
    {
     "ename": "LoadError",
     "evalue": "\u001b[91mUndefVarError: chromosome not defined\u001b[39m",
     "output_type": "error",
     "traceback": [
      "\u001b[91mUndefVarError: chromosome not defined\u001b[39m",
      "",
      "Stacktrace:",
      " [1] \u001b[1minclude_string\u001b[22m\u001b[22m\u001b[1m(\u001b[22m\u001b[22m::String, ::String\u001b[1m)\u001b[22m\u001b[22m at \u001b[1m./loading.jl:515\u001b[22m\u001b[22m"
     ]
    }
   ],
   "source": [
    "people = 1137 #include extra founders added\n",
    "snps = 8348674\n",
    "\n",
    "snp_name = blanks(snps)\n",
    "for snp = 1:snps\n",
    "  snp_name[snp] = string(snp) #name them 1,2,3,...etc\n",
    "end\n",
    "\n",
    "snpdata = SnpData(people, snps, ped[:Person], snp_name, Vector{String}(), Vector{Float64}(),\n",
    "    Vector{Float64}(), allele1, allele2, Vector{Float64}(), BitVector(), snpmatrix, \n",
    "    Vector{Int}(), Vector{Int}())\n",
    "\n",
    "#writeplink(\"new_trio\", snpdata)"
   ]
  },
  {
   "cell_type": "code",
   "execution_count": null,
   "metadata": {
    "collapsed": true
   },
   "outputs": [],
   "source": []
  }
 ],
 "metadata": {
  "kernelspec": {
   "display_name": "Julia 0.6.0",
   "language": "julia",
   "name": "julia-0.6"
  },
  "language_info": {
   "file_extension": ".jl",
   "mimetype": "application/julia",
   "name": "julia",
   "version": "0.6.0"
  }
 },
 "nbformat": 4,
 "nbformat_minor": 2
}
